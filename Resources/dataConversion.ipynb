{
 "cells": [
  {
   "cell_type": "markdown",
   "metadata": {},
   "source": [
    "# 1. Imports"
   ]
  },
  {
   "cell_type": "code",
   "execution_count": 16,
   "metadata": {},
   "outputs": [],
   "source": [
    "import os"
   ]
  },
  {
   "cell_type": "code",
   "execution_count": 17,
   "metadata": {},
   "outputs": [],
   "source": [
    "path = 'C:/Users/Asus/Documents/2023_2/Memoria/src'\n",
    "os.chdir(path)"
   ]
  },
  {
   "cell_type": "markdown",
   "metadata": {},
   "source": [
    "# 2. O Spectra"
   ]
  },
  {
   "cell_type": "code",
   "execution_count": 18,
   "metadata": {},
   "outputs": [],
   "source": [
    "OdataPath = './Data/ORSpectra'\n",
    "os.chdir(OdataPath)\n",
    "spectraList = os.listdir()"
   ]
  },
  {
   "cell_type": "code",
   "execution_count": 19,
   "metadata": {},
   "outputs": [],
   "source": [
    "model0 = 'G27500g300v10_R3.7'\n",
    "f = open(model0)\n",
    "data = f.readlines()\n",
    "frequencies = {}\n",
    "for row in data:\n",
    "   frequencies[row.split()[0]] = []  "
   ]
  },
  {
   "cell_type": "code",
   "execution_count": 21,
   "metadata": {},
   "outputs": [],
   "source": [
    "# formato: G27500g300v10_R3.7\n",
    "import re\n",
    "pattern = r'^G([0-9]+)g([0-9]+)[a-zA-Z0-9_]+_R([0-9]+).7'\n",
    "cmp = re.compile(pattern)\n",
    "\n",
    "temperature = []\n",
    "g = []\n",
    "v = []\n",
    "\n",
    "intensities = frequencies\n",
    "\n",
    "for modelName in spectraList:\n",
    "\tvalues = cmp.split(modelName)\n",
    "\tdel values[0]; del values[-1]\n",
    " \n",
    "\ttemperature.append(float(values[0]))\n",
    "\tg.append(float(values[1])/100)\n",
    "\tv.append(float(values[2]))\n",
    "\t\n",
    "\tf = open(modelName)\n",
    "\tdata = f.readlines()\n",
    "\n",
    "\tfor row in data:\n",
    "\t\tfreq, intensity = row.split() \n",
    "\t\tintensities[freq].append(float(intensity))\n"
   ]
  },
  {
   "cell_type": "code",
   "execution_count": 22,
   "metadata": {},
   "outputs": [],
   "source": [
    "intensities['temperature'] = temperature\n",
    "intensities['g'] = g\n",
    "intensities['v'] = v"
   ]
  },
  {
   "cell_type": "code",
   "execution_count": 23,
   "metadata": {},
   "outputs": [],
   "source": [
    "import pandas as pd\n",
    "df = pd.DataFrame(intensities)"
   ]
  },
  {
   "cell_type": "code",
   "execution_count": 24,
   "metadata": {},
   "outputs": [],
   "source": [
    "df.to_csv(path+'/Data/o_spectral_lines.csv')"
   ]
  },
  {
   "cell_type": "code",
   "execution_count": 25,
   "metadata": {},
   "outputs": [
    {
     "data": {
      "text/html": [
       "<div>\n",
       "<style scoped>\n",
       "    .dataframe tbody tr th:only-of-type {\n",
       "        vertical-align: middle;\n",
       "    }\n",
       "\n",
       "    .dataframe tbody tr th {\n",
       "        vertical-align: top;\n",
       "    }\n",
       "\n",
       "    .dataframe thead th {\n",
       "        text-align: right;\n",
       "    }\n",
       "</style>\n",
       "<table border=\"1\" class=\"dataframe\">\n",
       "  <thead>\n",
       "    <tr style=\"text-align: right;\">\n",
       "      <th></th>\n",
       "      <th>4440.000</th>\n",
       "      <th>4440.100</th>\n",
       "      <th>4440.200</th>\n",
       "      <th>4440.300</th>\n",
       "      <th>4440.400</th>\n",
       "      <th>4440.500</th>\n",
       "      <th>4440.600</th>\n",
       "      <th>4440.700</th>\n",
       "      <th>4440.800</th>\n",
       "      <th>4440.900</th>\n",
       "      <th>...</th>\n",
       "      <th>4509.400</th>\n",
       "      <th>4509.500</th>\n",
       "      <th>4509.600</th>\n",
       "      <th>4509.700</th>\n",
       "      <th>4509.800</th>\n",
       "      <th>4509.900</th>\n",
       "      <th>4510.000</th>\n",
       "      <th>temperature</th>\n",
       "      <th>g</th>\n",
       "      <th>v</th>\n",
       "    </tr>\n",
       "  </thead>\n",
       "  <tbody>\n",
       "    <tr>\n",
       "      <th>0</th>\n",
       "      <td>1.002</td>\n",
       "      <td>0.9988</td>\n",
       "      <td>0.9985</td>\n",
       "      <td>0.9982</td>\n",
       "      <td>0.9979</td>\n",
       "      <td>0.9977</td>\n",
       "      <td>0.9975</td>\n",
       "      <td>0.9974</td>\n",
       "      <td>0.9973</td>\n",
       "      <td>0.9972</td>\n",
       "      <td>...</td>\n",
       "      <td>1.0</td>\n",
       "      <td>1.0</td>\n",
       "      <td>1.0</td>\n",
       "      <td>1.0</td>\n",
       "      <td>1.0</td>\n",
       "      <td>1.0</td>\n",
       "      <td>1.0</td>\n",
       "      <td>27500.0</td>\n",
       "      <td>3.0</td>\n",
       "      <td>102.0</td>\n",
       "    </tr>\n",
       "    <tr>\n",
       "      <th>1</th>\n",
       "      <td>1.002</td>\n",
       "      <td>0.9988</td>\n",
       "      <td>0.9985</td>\n",
       "      <td>0.9982</td>\n",
       "      <td>0.9980</td>\n",
       "      <td>0.9978</td>\n",
       "      <td>0.9976</td>\n",
       "      <td>0.9975</td>\n",
       "      <td>0.9973</td>\n",
       "      <td>0.9973</td>\n",
       "      <td>...</td>\n",
       "      <td>1.0</td>\n",
       "      <td>1.0</td>\n",
       "      <td>1.0</td>\n",
       "      <td>1.0</td>\n",
       "      <td>1.0</td>\n",
       "      <td>1.0</td>\n",
       "      <td>1.0</td>\n",
       "      <td>27500.0</td>\n",
       "      <td>3.0</td>\n",
       "      <td>105.0</td>\n",
       "    </tr>\n",
       "    <tr>\n",
       "      <th>2</th>\n",
       "      <td>1.002</td>\n",
       "      <td>0.9987</td>\n",
       "      <td>0.9985</td>\n",
       "      <td>0.9982</td>\n",
       "      <td>0.9980</td>\n",
       "      <td>0.9978</td>\n",
       "      <td>0.9977</td>\n",
       "      <td>0.9975</td>\n",
       "      <td>0.9974</td>\n",
       "      <td>0.9973</td>\n",
       "      <td>...</td>\n",
       "      <td>1.0</td>\n",
       "      <td>1.0</td>\n",
       "      <td>1.0</td>\n",
       "      <td>1.0</td>\n",
       "      <td>1.0</td>\n",
       "      <td>1.0</td>\n",
       "      <td>1.0</td>\n",
       "      <td>27500.0</td>\n",
       "      <td>3.0</td>\n",
       "      <td>108.0</td>\n",
       "    </tr>\n",
       "    <tr>\n",
       "      <th>3</th>\n",
       "      <td>1.002</td>\n",
       "      <td>0.9987</td>\n",
       "      <td>0.9985</td>\n",
       "      <td>0.9982</td>\n",
       "      <td>0.9980</td>\n",
       "      <td>0.9979</td>\n",
       "      <td>0.9977</td>\n",
       "      <td>0.9976</td>\n",
       "      <td>0.9975</td>\n",
       "      <td>0.9974</td>\n",
       "      <td>...</td>\n",
       "      <td>1.0</td>\n",
       "      <td>1.0</td>\n",
       "      <td>1.0</td>\n",
       "      <td>1.0</td>\n",
       "      <td>1.0</td>\n",
       "      <td>1.0</td>\n",
       "      <td>1.0</td>\n",
       "      <td>27500.0</td>\n",
       "      <td>3.0</td>\n",
       "      <td>111.0</td>\n",
       "    </tr>\n",
       "    <tr>\n",
       "      <th>4</th>\n",
       "      <td>1.002</td>\n",
       "      <td>0.9987</td>\n",
       "      <td>0.9985</td>\n",
       "      <td>0.9982</td>\n",
       "      <td>0.9981</td>\n",
       "      <td>0.9979</td>\n",
       "      <td>0.9978</td>\n",
       "      <td>0.9976</td>\n",
       "      <td>0.9975</td>\n",
       "      <td>0.9975</td>\n",
       "      <td>...</td>\n",
       "      <td>1.0</td>\n",
       "      <td>1.0</td>\n",
       "      <td>1.0</td>\n",
       "      <td>1.0</td>\n",
       "      <td>1.0</td>\n",
       "      <td>1.0</td>\n",
       "      <td>1.0</td>\n",
       "      <td>27500.0</td>\n",
       "      <td>3.0</td>\n",
       "      <td>114.0</td>\n",
       "    </tr>\n",
       "  </tbody>\n",
       "</table>\n",
       "<p>5 rows × 704 columns</p>\n",
       "</div>"
      ],
      "text/plain": [
       "   4440.000  4440.100  4440.200  4440.300  4440.400  4440.500  4440.600  \\\n",
       "0     1.002    0.9988    0.9985    0.9982    0.9979    0.9977    0.9975   \n",
       "1     1.002    0.9988    0.9985    0.9982    0.9980    0.9978    0.9976   \n",
       "2     1.002    0.9987    0.9985    0.9982    0.9980    0.9978    0.9977   \n",
       "3     1.002    0.9987    0.9985    0.9982    0.9980    0.9979    0.9977   \n",
       "4     1.002    0.9987    0.9985    0.9982    0.9981    0.9979    0.9978   \n",
       "\n",
       "   4440.700  4440.800  4440.900  ...  4509.400  4509.500  4509.600  4509.700  \\\n",
       "0    0.9974    0.9973    0.9972  ...       1.0       1.0       1.0       1.0   \n",
       "1    0.9975    0.9973    0.9973  ...       1.0       1.0       1.0       1.0   \n",
       "2    0.9975    0.9974    0.9973  ...       1.0       1.0       1.0       1.0   \n",
       "3    0.9976    0.9975    0.9974  ...       1.0       1.0       1.0       1.0   \n",
       "4    0.9976    0.9975    0.9975  ...       1.0       1.0       1.0       1.0   \n",
       "\n",
       "   4509.800  4509.900  4510.000  temperature    g      v  \n",
       "0       1.0       1.0       1.0      27500.0  3.0  102.0  \n",
       "1       1.0       1.0       1.0      27500.0  3.0  105.0  \n",
       "2       1.0       1.0       1.0      27500.0  3.0  108.0  \n",
       "3       1.0       1.0       1.0      27500.0  3.0  111.0  \n",
       "4       1.0       1.0       1.0      27500.0  3.0  114.0  \n",
       "\n",
       "[5 rows x 704 columns]"
      ]
     },
     "execution_count": 25,
     "metadata": {},
     "output_type": "execute_result"
    }
   ],
   "source": [
    "df.head()"
   ]
  },
  {
   "cell_type": "code",
   "execution_count": 27,
   "metadata": {},
   "outputs": [
    {
     "data": {
      "text/plain": [
       "[<matplotlib.lines.Line2D at 0x2db4cb06320>]"
      ]
     },
     "execution_count": 27,
     "metadata": {},
     "output_type": "execute_result"
    },
    {
     "data": {
      "image/png": "[encoded data removed]",
      "text/plain": [
       "<Figure size 640x480 with 1 Axes>"
      ]
     },
     "metadata": {},
     "output_type": "display_data"
    }
   ],
   "source": [
    "import matplotlib.pyplot as plt\n",
    "target = ['temperature','g','v']\n",
    "x = df.drop(target,axis = 1)\n",
    "plt.plot(x.iloc[0])"
   ]
  },
  {
   "cell_type": "markdown",
   "metadata": {},
   "source": [
    "# 3. B Spectra"
   ]
  },
  {
   "cell_type": "code",
   "execution_count": 29,
   "metadata": {},
   "outputs": [],
   "source": [
    "OdataPath = './Data/BRSpectra'\n",
    "os.chdir(path)\n",
    "os.chdir(OdataPath)\n",
    "spectraList = os.listdir()"
   ]
  },
  {
   "cell_type": "code",
   "execution_count": 30,
   "metadata": {},
   "outputs": [],
   "source": [
    "model0 = 'BG15000g175v2_R3.7'\n",
    "f = open(model0)\n",
    "data = f.readlines()\n",
    "frequencies = {}\n",
    "for row in data:\n",
    "   frequencies[row.split()[0]] = []  "
   ]
  },
  {
   "cell_type": "code",
   "execution_count": 31,
   "metadata": {},
   "outputs": [],
   "source": [
    "# formato: G27500g300v10_R3.7\n",
    "import re\n",
    "pattern = r'^BG([0-9]+)g([0-9]+)[a-zA-Z0-9_]+_R([0-9]+).7'\n",
    "cmp = re.compile(pattern)\n",
    "\n",
    "temperature = []\n",
    "g = []\n",
    "v = []\n",
    "\n",
    "intensities = frequencies\n",
    "\n",
    "for modelName in spectraList:\n",
    "\tvalues = cmp.split(modelName)\n",
    "\tdel values[0]; del values[-1]\n",
    " \n",
    "\ttemperature.append(float(values[0]))\n",
    "\tg.append(float(values[1])/100)\n",
    "\tv.append(float(values[2]))\n",
    "\t\n",
    "\tf = open(modelName)\n",
    "\tdata = f.readlines()\n",
    "\n",
    "\tfor row in data:\n",
    "\t\tfreq, intensity = row.split() \n",
    "\t\tintensities[freq].append(float(intensity))\n"
   ]
  },
  {
   "cell_type": "code",
   "execution_count": 32,
   "metadata": {},
   "outputs": [],
   "source": [
    "intensities['temperature'] = temperature\n",
    "intensities['g'] = g\n",
    "intensities['v'] = v"
   ]
  },
  {
   "cell_type": "code",
   "execution_count": 33,
   "metadata": {},
   "outputs": [],
   "source": [
    "import pandas as pd\n",
    "df = pd.DataFrame(intensities)"
   ]
  },
  {
   "cell_type": "code",
   "execution_count": 34,
   "metadata": {},
   "outputs": [],
   "source": [
    "df.to_csv(path+'/Data/b_spectral_lines.csv')"
   ]
  },
  {
   "cell_type": "code",
   "execution_count": 35,
   "metadata": {},
   "outputs": [
    {
     "data": {
      "text/html": [
       "<div>\n",
       "<style scoped>\n",
       "    .dataframe tbody tr th:only-of-type {\n",
       "        vertical-align: middle;\n",
       "    }\n",
       "\n",
       "    .dataframe tbody tr th {\n",
       "        vertical-align: top;\n",
       "    }\n",
       "\n",
       "    .dataframe thead th {\n",
       "        text-align: right;\n",
       "    }\n",
       "</style>\n",
       "<table border=\"1\" class=\"dataframe\">\n",
       "  <thead>\n",
       "    <tr style=\"text-align: right;\">\n",
       "      <th></th>\n",
       "      <th>4440.000</th>\n",
       "      <th>4440.100</th>\n",
       "      <th>4440.200</th>\n",
       "      <th>4440.300</th>\n",
       "      <th>4440.400</th>\n",
       "      <th>4440.500</th>\n",
       "      <th>4440.600</th>\n",
       "      <th>4440.700</th>\n",
       "      <th>4440.800</th>\n",
       "      <th>4440.900</th>\n",
       "      <th>...</th>\n",
       "      <th>4509.400</th>\n",
       "      <th>4509.500</th>\n",
       "      <th>4509.600</th>\n",
       "      <th>4509.700</th>\n",
       "      <th>4509.800</th>\n",
       "      <th>4509.900</th>\n",
       "      <th>4510.000</th>\n",
       "      <th>temperature</th>\n",
       "      <th>g</th>\n",
       "      <th>v</th>\n",
       "    </tr>\n",
       "  </thead>\n",
       "  <tbody>\n",
       "    <tr>\n",
       "      <th>0</th>\n",
       "      <td>0.9995</td>\n",
       "      <td>0.9997</td>\n",
       "      <td>0.9998</td>\n",
       "      <td>0.9998</td>\n",
       "      <td>0.9998</td>\n",
       "      <td>0.9996</td>\n",
       "      <td>0.9991</td>\n",
       "      <td>0.9987</td>\n",
       "      <td>0.9984</td>\n",
       "      <td>0.9981</td>\n",
       "      <td>...</td>\n",
       "      <td>0.9999</td>\n",
       "      <td>0.9999</td>\n",
       "      <td>0.9999</td>\n",
       "      <td>0.9999</td>\n",
       "      <td>0.9999</td>\n",
       "      <td>0.9999</td>\n",
       "      <td>0.9999</td>\n",
       "      <td>15000.0</td>\n",
       "      <td>1.75</td>\n",
       "      <td>102.0</td>\n",
       "    </tr>\n",
       "    <tr>\n",
       "      <th>1</th>\n",
       "      <td>0.9995</td>\n",
       "      <td>0.9997</td>\n",
       "      <td>0.9998</td>\n",
       "      <td>0.9998</td>\n",
       "      <td>0.9997</td>\n",
       "      <td>0.9994</td>\n",
       "      <td>0.9990</td>\n",
       "      <td>0.9986</td>\n",
       "      <td>0.9983</td>\n",
       "      <td>0.9980</td>\n",
       "      <td>...</td>\n",
       "      <td>0.9999</td>\n",
       "      <td>0.9999</td>\n",
       "      <td>0.9999</td>\n",
       "      <td>0.9999</td>\n",
       "      <td>0.9999</td>\n",
       "      <td>0.9999</td>\n",
       "      <td>0.9999</td>\n",
       "      <td>15000.0</td>\n",
       "      <td>1.75</td>\n",
       "      <td>105.0</td>\n",
       "    </tr>\n",
       "    <tr>\n",
       "      <th>2</th>\n",
       "      <td>0.9995</td>\n",
       "      <td>0.9997</td>\n",
       "      <td>0.9998</td>\n",
       "      <td>0.9998</td>\n",
       "      <td>0.9997</td>\n",
       "      <td>0.9992</td>\n",
       "      <td>0.9988</td>\n",
       "      <td>0.9985</td>\n",
       "      <td>0.9982</td>\n",
       "      <td>0.9980</td>\n",
       "      <td>...</td>\n",
       "      <td>0.9999</td>\n",
       "      <td>0.9999</td>\n",
       "      <td>0.9999</td>\n",
       "      <td>0.9999</td>\n",
       "      <td>0.9999</td>\n",
       "      <td>0.9999</td>\n",
       "      <td>0.9999</td>\n",
       "      <td>15000.0</td>\n",
       "      <td>1.75</td>\n",
       "      <td>108.0</td>\n",
       "    </tr>\n",
       "    <tr>\n",
       "      <th>3</th>\n",
       "      <td>0.9995</td>\n",
       "      <td>0.9997</td>\n",
       "      <td>0.9998</td>\n",
       "      <td>0.9997</td>\n",
       "      <td>0.9995</td>\n",
       "      <td>0.9991</td>\n",
       "      <td>0.9987</td>\n",
       "      <td>0.9984</td>\n",
       "      <td>0.9982</td>\n",
       "      <td>0.9980</td>\n",
       "      <td>...</td>\n",
       "      <td>0.9999</td>\n",
       "      <td>0.9999</td>\n",
       "      <td>0.9999</td>\n",
       "      <td>0.9999</td>\n",
       "      <td>0.9999</td>\n",
       "      <td>0.9999</td>\n",
       "      <td>0.9999</td>\n",
       "      <td>15000.0</td>\n",
       "      <td>1.75</td>\n",
       "      <td>111.0</td>\n",
       "    </tr>\n",
       "    <tr>\n",
       "      <th>4</th>\n",
       "      <td>0.9995</td>\n",
       "      <td>0.9997</td>\n",
       "      <td>0.9998</td>\n",
       "      <td>0.9997</td>\n",
       "      <td>0.9993</td>\n",
       "      <td>0.9989</td>\n",
       "      <td>0.9986</td>\n",
       "      <td>0.9984</td>\n",
       "      <td>0.9982</td>\n",
       "      <td>0.9980</td>\n",
       "      <td>...</td>\n",
       "      <td>0.9999</td>\n",
       "      <td>0.9999</td>\n",
       "      <td>0.9999</td>\n",
       "      <td>0.9999</td>\n",
       "      <td>0.9999</td>\n",
       "      <td>0.9999</td>\n",
       "      <td>0.9999</td>\n",
       "      <td>15000.0</td>\n",
       "      <td>1.75</td>\n",
       "      <td>114.0</td>\n",
       "    </tr>\n",
       "  </tbody>\n",
       "</table>\n",
       "<p>5 rows × 704 columns</p>\n",
       "</div>"
      ],
      "text/plain": [
       "   4440.000  4440.100  4440.200  4440.300  4440.400  4440.500  4440.600  \\\n",
       "0    0.9995    0.9997    0.9998    0.9998    0.9998    0.9996    0.9991   \n",
       "1    0.9995    0.9997    0.9998    0.9998    0.9997    0.9994    0.9990   \n",
       "2    0.9995    0.9997    0.9998    0.9998    0.9997    0.9992    0.9988   \n",
       "3    0.9995    0.9997    0.9998    0.9997    0.9995    0.9991    0.9987   \n",
       "4    0.9995    0.9997    0.9998    0.9997    0.9993    0.9989    0.9986   \n",
       "\n",
       "   4440.700  4440.800  4440.900  ...  4509.400  4509.500  4509.600  4509.700  \\\n",
       "0    0.9987    0.9984    0.9981  ...    0.9999    0.9999    0.9999    0.9999   \n",
       "1    0.9986    0.9983    0.9980  ...    0.9999    0.9999    0.9999    0.9999   \n",
       "2    0.9985    0.9982    0.9980  ...    0.9999    0.9999    0.9999    0.9999   \n",
       "3    0.9984    0.9982    0.9980  ...    0.9999    0.9999    0.9999    0.9999   \n",
       "4    0.9984    0.9982    0.9980  ...    0.9999    0.9999    0.9999    0.9999   \n",
       "\n",
       "   4509.800  4509.900  4510.000  temperature     g      v  \n",
       "0    0.9999    0.9999    0.9999      15000.0  1.75  102.0  \n",
       "1    0.9999    0.9999    0.9999      15000.0  1.75  105.0  \n",
       "2    0.9999    0.9999    0.9999      15000.0  1.75  108.0  \n",
       "3    0.9999    0.9999    0.9999      15000.0  1.75  111.0  \n",
       "4    0.9999    0.9999    0.9999      15000.0  1.75  114.0  \n",
       "\n",
       "[5 rows x 704 columns]"
      ]
     },
     "execution_count": 35,
     "metadata": {},
     "output_type": "execute_result"
    }
   ],
   "source": [
    "df.head()"
   ]
  },
  {
   "cell_type": "code",
   "execution_count": 36,
   "metadata": {},
   "outputs": [
    {
     "data": {
      "text/plain": [
       "[<matplotlib.lines.Line2D at 0x2db492bc5e0>]"
      ]
     },
     "execution_count": 36,
     "metadata": {},
     "output_type": "execute_result"
    },
    {
     "data": {
      "image/png": "[encoded data removed]",
      "text/plain": [
       "<Figure size 640x480 with 1 Axes>"
      ]
     },
     "metadata": {},
     "output_type": "display_data"
    }
   ],
   "source": [
    "import matplotlib.pyplot as plt\n",
    "target = ['temperature','g','v']\n",
    "x = df.drop(target,axis = 1)\n",
    "plt.plot(x.iloc[0])"
   ]
  }
 ],
 "metadata": {
  "kernelspec": {
   "display_name": "memoria",
   "language": "python",
   "name": "memoria"
  },
  "language_info": {
   "codemirror_mode": {
    "name": "ipython",
    "version": 3
   },
   "file_extension": ".py",
   "mimetype": "text/x-python",
   "name": "python",
   "nbconvert_exporter": "python",
   "pygments_lexer": "ipython3",
   "version": "3.10.11"
  }
 },
 "nbformat": 4,
 "nbformat_minor": 2
}
