{
 "cells": [
  {
   "cell_type": "code",
   "execution_count": 1,
   "metadata": {},
   "outputs": [],
   "source": [
    "import pandas as pd\n",
    "import seaborn as sns\n",
    "import matplotlib.pyplot as plt\n",
    "import numpy as np\n",
    "\n",
    "# constants\n",
    "#path = 'C:/Users/monte/Documents/Memoria/src'\n",
    "path = 'C:/Users/asus/Documents/2023_2/Memoria/src'\n",
    "\n",
    "# Ostar\n",
    "O_df = pd.read_csv(path+'/Data/o_spectral_lines.csv')\n",
    "# Bstar\n",
    "B_df = pd.read_csv(path+'/Data/b_spectral_lines.csv')\n",
    "# Observed spectra\n",
    "Obs_df = pd.read_csv(path+'/Data/observed_spectral_lines.csv')"
   ]
  },
  {
   "cell_type": "code",
   "execution_count": 2,
   "metadata": {},
   "outputs": [],
   "source": [
    "import tensorflow as tf\n",
    "from tensorflow import keras \n",
    "from tensorflow.keras import layers \n",
    "\n",
    "#input_shape = (4, 10, 128) = (batch_size, steps, vectorLength) = (batchsize, rotaciones, frecuencias)\n",
    "\n",
    "#normalize = layers.Normalization()\n",
    "\n",
    "# This layer will shift and scale inputs into a distribution centered around 0 with standard deviation 1.\n",
    "# It accomplishes this by precomputing the mean and variance of the data and calling (input - mean) / sqrt(var) at runtime\n",
    "\n",
    "# TODO: Probar con los datos sin normalizar\n",
    "#normalize.adapt(x_train)\n",
    "\n",
    "#input_shape = (x_train.shape[1],1)\n",
    "\n",
    "def generate_model(): \n",
    "  return tf.keras.Sequential([\n",
    "  keras.Input(shape=(701,1)),\n",
    "  #normalize,\n",
    "  layers.Conv1D(32,padding=\"same\",kernel_size=3, activation='relu'),\n",
    "  layers.Conv1D(32,padding=\"same\",kernel_size=3, activation='relu'),\n",
    "  layers.Conv1D(32,padding=\"same\",kernel_size=3, activation='relu'),\n",
    "  layers.MaxPooling1D(pool_size=3, padding='same'),\n",
    "  layers.Conv1D(64,padding=\"same\",kernel_size=2, activation='relu'),\n",
    "  layers.Conv1D(64,padding=\"same\",kernel_size=2, activation='relu'),\n",
    "  layers.Conv1D(64,padding=\"same\",kernel_size=2, activation='relu'),\n",
    "  layers.MaxPooling1D(pool_size=2, padding='same'),\n",
    "  layers.Conv1D(128,padding=\"same\",kernel_size=2, activation='relu'),\n",
    "  layers.Conv1D(128,padding=\"same\",kernel_size=2, activation='relu'),\n",
    "  layers.Conv1D(128,padding=\"same\",kernel_size=2, activation='relu'),\n",
    "  layers.MaxPooling1D(pool_size=2, padding='same'),\n",
    "  layers.GlobalAveragePooling1D(),\n",
    "  \n",
    "  layers.Dense(128, activation='relu'),\n",
    "  layers.Dense(3, activation='linear')\n",
    "])"
   ]
  },
  {
   "cell_type": "code",
   "execution_count": 3,
   "metadata": {},
   "outputs": [],
   "source": [
    "from sklearn.model_selection import train_test_split\n",
    "from sklearn.preprocessing import MinMaxScaler\n",
    "from sklearn.preprocessing import StandardScaler\n",
    "\n",
    "target = ['temperature','g','v']\n",
    "\n",
    "\n",
    "X = B_df.drop(target,axis = 1)\n",
    "Y = B_df[target]\n",
    "\n",
    "X_obs = Obs_df.drop(target,axis=1)\n",
    "Y_obs = Obs_df[target]\n",
    "\n",
    "y_scaler = MinMaxScaler()\n",
    "\n",
    "x_train, x_val, y_train, y_val = train_test_split(X, Y, train_size=0.8, test_size=0.2, random_state=42)\n",
    "x_obs = X_obs\n",
    "\n",
    "#x_train = np.random.normal(loc=0, scale=0.01, size=x_train.shape) + x_train\n",
    "\n",
    "y_scaler = y_scaler.fit(y_train)\n",
    "y_train = y_scaler.transform(y_train)\n",
    "y_val = y_scaler.transform(y_val)\n",
    "y_obs = y_scaler.transform(Y_obs)\n"
   ]
  },
  {
   "cell_type": "code",
   "execution_count": 6,
   "metadata": {},
   "outputs": [
    {
     "name": "stdout",
     "output_type": "stream",
     "text": [
      "Epoch 1/10\n",
      "612/612 [==============================] - 21s 19ms/step - loss: 0.0857 - MAE: 0.2498 - val_loss: 0.0847 - val_MAE: 0.2495\n",
      "Epoch 2/10\n",
      "612/612 [==============================] - 11s 18ms/step - loss: 0.0826 - MAE: 0.2466 - val_loss: 0.0823 - val_MAE: 0.2472\n",
      "Epoch 3/10\n",
      "612/612 [==============================] - 11s 18ms/step - loss: 0.0822 - MAE: 0.2462 - val_loss: 0.0821 - val_MAE: 0.2465\n",
      "Epoch 4/10\n",
      "612/612 [==============================] - 11s 18ms/step - loss: 0.0821 - MAE: 0.2460 - val_loss: 0.0825 - val_MAE: 0.2469\n",
      "Epoch 5/10\n",
      "612/612 [==============================] - 11s 18ms/step - loss: 0.0821 - MAE: 0.2461 - val_loss: 0.0820 - val_MAE: 0.2463\n",
      "Epoch 6/10\n",
      "612/612 [==============================] - 11s 18ms/step - loss: 0.0821 - MAE: 0.2461 - val_loss: 0.0830 - val_MAE: 0.2474\n",
      "Epoch 7/10\n",
      "612/612 [==============================] - 11s 18ms/step - loss: 0.0821 - MAE: 0.2461 - val_loss: 0.0820 - val_MAE: 0.2464\n",
      "Epoch 8/10\n",
      "612/612 [==============================] - 11s 18ms/step - loss: 0.0820 - MAE: 0.2460 - val_loss: 0.0821 - val_MAE: 0.2466\n",
      "Epoch 9/10\n",
      "612/612 [==============================] - 11s 18ms/step - loss: 0.0820 - MAE: 0.2460 - val_loss: 0.0824 - val_MAE: 0.2468\n",
      "Epoch 10/10\n",
      "612/612 [==============================] - 11s 18ms/step - loss: 0.0819 - MAE: 0.2459 - val_loss: 0.0821 - val_MAE: 0.2463\n"
     ]
    }
   ],
   "source": [
    "from keras.optimizers import Adam\n",
    "\n",
    "model = generate_model()\n",
    "\n",
    "model.compile(loss='MSE',\n",
    "\t\t      optimizer=Adam(),\n",
    "\t\t      metrics=['MAE'])\n",
    "\n",
    "history = model.fit(\n",
    "  \tx = x_train,\n",
    "  \ty = y_train,\n",
    "\t\tepochs=10,\n",
    "\t\tvalidation_data=(x_val,y_val))\n"
   ]
  },
  {
   "cell_type": "code",
   "execution_count": 8,
   "metadata": {},
   "outputs": [
    {
     "name": "stdout",
     "output_type": "stream",
     "text": [
      "1/1 [==============================] - 0s 40ms/step\n"
     ]
    }
   ],
   "source": [
    "predictions = y_scaler.inverse_transform(model.predict(x_obs))"
   ]
  },
  {
   "cell_type": "code",
   "execution_count": 9,
   "metadata": {},
   "outputs": [
    {
     "data": {
      "text/plain": [
       "array([[2.1994469e+04, 3.5939684e+00, 2.3678839e+02],\n",
       "       [2.1994326e+04, 3.5940027e+00, 2.3679062e+02],\n",
       "       [2.1994346e+04, 3.5939505e+00, 2.3678801e+02],\n",
       "       [2.1994209e+04, 3.5939736e+00, 2.3678862e+02],\n",
       "       [2.1994209e+04, 3.5939736e+00, 2.3678862e+02],\n",
       "       [2.1994090e+04, 3.5939119e+00, 2.3678001e+02],\n",
       "       [2.1994469e+04, 3.5939684e+00, 2.3678839e+02],\n",
       "       [2.1994209e+04, 3.5939736e+00, 2.3678862e+02],\n",
       "       [2.1994350e+04, 3.5939393e+00, 2.3678642e+02]], dtype=float32)"
      ]
     },
     "execution_count": 9,
     "metadata": {},
     "output_type": "execute_result"
    }
   ],
   "source": [
    "predictions"
   ]
  },
  {
   "cell_type": "code",
   "execution_count": 12,
   "metadata": {},
   "outputs": [
    {
     "data": {
      "text/html": [
       "<div>\n",
       "<style scoped>\n",
       "    .dataframe tbody tr th:only-of-type {\n",
       "        vertical-align: middle;\n",
       "    }\n",
       "\n",
       "    .dataframe tbody tr th {\n",
       "        vertical-align: top;\n",
       "    }\n",
       "\n",
       "    .dataframe thead th {\n",
       "        text-align: right;\n",
       "    }\n",
       "</style>\n",
       "<table border=\"1\" class=\"dataframe\">\n",
       "  <thead>\n",
       "    <tr style=\"text-align: right;\">\n",
       "      <th></th>\n",
       "      <th>temperature</th>\n",
       "      <th>g</th>\n",
       "      <th>v</th>\n",
       "    </tr>\n",
       "  </thead>\n",
       "  <tbody>\n",
       "    <tr>\n",
       "      <th>0</th>\n",
       "      <td>15000.0</td>\n",
       "      <td>3.40</td>\n",
       "      <td>68.0</td>\n",
       "    </tr>\n",
       "    <tr>\n",
       "      <th>1</th>\n",
       "      <td>18400.0</td>\n",
       "      <td>3.50</td>\n",
       "      <td>40.0</td>\n",
       "    </tr>\n",
       "    <tr>\n",
       "      <th>2</th>\n",
       "      <td>30000.0</td>\n",
       "      <td>3.53</td>\n",
       "      <td>150.0</td>\n",
       "    </tr>\n",
       "    <tr>\n",
       "      <th>3</th>\n",
       "      <td>22000.0</td>\n",
       "      <td>3.90</td>\n",
       "      <td>280.0</td>\n",
       "    </tr>\n",
       "    <tr>\n",
       "      <th>4</th>\n",
       "      <td>24500.0</td>\n",
       "      <td>3.40</td>\n",
       "      <td>215.0</td>\n",
       "    </tr>\n",
       "    <tr>\n",
       "      <th>5</th>\n",
       "      <td>22000.0</td>\n",
       "      <td>3.50</td>\n",
       "      <td>180.0</td>\n",
       "    </tr>\n",
       "    <tr>\n",
       "      <th>6</th>\n",
       "      <td>20000.0</td>\n",
       "      <td>3.56</td>\n",
       "      <td>10.0</td>\n",
       "    </tr>\n",
       "    <tr>\n",
       "      <th>7</th>\n",
       "      <td>18000.0</td>\n",
       "      <td>3.53</td>\n",
       "      <td>250.0</td>\n",
       "    </tr>\n",
       "    <tr>\n",
       "      <th>8</th>\n",
       "      <td>26000.0</td>\n",
       "      <td>2.90</td>\n",
       "      <td>300.0</td>\n",
       "    </tr>\n",
       "  </tbody>\n",
       "</table>\n",
       "</div>"
      ],
      "text/plain": [
       "   temperature     g      v\n",
       "0      15000.0  3.40   68.0\n",
       "1      18400.0  3.50   40.0\n",
       "2      30000.0  3.53  150.0\n",
       "3      22000.0  3.90  280.0\n",
       "4      24500.0  3.40  215.0\n",
       "5      22000.0  3.50  180.0\n",
       "6      20000.0  3.56   10.0\n",
       "7      18000.0  3.53  250.0\n",
       "8      26000.0  2.90  300.0"
      ]
     },
     "execution_count": 12,
     "metadata": {},
     "output_type": "execute_result"
    }
   ],
   "source": [
    "Y_obs"
   ]
  }
 ],
 "metadata": {
  "kernelspec": {
   "display_name": "memoria",
   "language": "python",
   "name": "memoria"
  },
  "language_info": {
   "codemirror_mode": {
    "name": "ipython",
    "version": 3
   },
   "file_extension": ".py",
   "mimetype": "text/x-python",
   "name": "python",
   "nbconvert_exporter": "python",
   "pygments_lexer": "ipython3",
   "version": "3.10.11"
  }
 },
 "nbformat": 4,
 "nbformat_minor": 2
}
