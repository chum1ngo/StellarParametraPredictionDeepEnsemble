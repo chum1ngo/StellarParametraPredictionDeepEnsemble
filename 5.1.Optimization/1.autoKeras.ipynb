{
 "cells": [
  {
   "cell_type": "markdown",
   "metadata": {},
   "source": [
    "# Data & Imports"
   ]
  },
  {
   "cell_type": "code",
   "execution_count": 1,
   "metadata": {},
   "outputs": [
    {
     "name": "stdout",
     "output_type": "stream",
     "text": [
      "Using TensorFlow backend\n"
     ]
    }
   ],
   "source": [
    "import autokeras as ak\n",
    "import pandas as pd\n",
    "import seaborn as sns\n",
    "import matplotlib.pyplot as plt\n",
    "import numpy as np\n",
    "\n",
    "# constants\n",
    "path = 'C:/Users/Asus/Documents/2023_2/Memoria/src'\n",
    "\n",
    "# Ostar\n",
    "O_df = pd.read_csv(path+'/Data/o_spectral_lines_trim.csv')\n",
    "# Bstar\n",
    "B_df = pd.read_csv(path+'/Data/b_spectral_lines_trim.csv')\n",
    "# Observed spectra\n",
    "Obs_df = pd.read_csv(path+'/Data/observed_spectral_lines_trim.csv')"
   ]
  },
  {
   "cell_type": "code",
   "execution_count": 2,
   "metadata": {},
   "outputs": [
    {
     "name": "stderr",
     "output_type": "stream",
     "text": [
      "c:\\Users\\Asus\\Documents\\2023_2\\Memoria\\py310_tf\\lib\\site-packages\\sklearn\\base.py:464: UserWarning: X does not have valid feature names, but MinMaxScaler was fitted with feature names\n",
      "  warnings.warn(\n"
     ]
    }
   ],
   "source": [
    "from sklearn.model_selection import train_test_split\n",
    "from sklearn.preprocessing import MinMaxScaler\n",
    "\n",
    "target = ['temperature','g','v']\n",
    "\n",
    "\n",
    "X = B_df.drop(target,axis = 1)\n",
    "Y = B_df[target]\n",
    "X_obs = Obs_df.drop(target,axis=1)\n",
    "Y_obs = Obs_df[target]\n",
    "\n",
    "X = np.random.normal(loc=0, scale=0.01, size=X.shape) + X\n",
    "y_scaler = MinMaxScaler()\n",
    "\n",
    "x_train, x_val, y_train, y_val = train_test_split(X, Y, train_size=0.8, test_size=0.2, random_state=42)\n",
    "x_train, x_test, y_train, y_test = train_test_split(x_train, y_train, train_size=0.75, test_size=0.25, random_state=42)\n",
    "\n",
    "y_scaler = y_scaler.fit(y_train)\n",
    "y_train = y_scaler.transform(y_train)\n",
    "y_val = y_scaler.transform(y_val)\n",
    "y_test = y_scaler.transform(y_test)\n",
    "y_obs = y_scaler.transform(Y_obs.values)\n",
    "\n",
    "formatted_x_train = np.expand_dims(x_train, axis=2) #This step it's very important an CNN will only accept this data shape\n",
    "formatted_x_val = np.expand_dims(x_val, axis=2)\n",
    "formatted_x_test = np.expand_dims(x_test, axis=2)\n",
    "formatted_x_obs = np.expand_dims(X_obs, axis=2)\n"
   ]
  },
  {
   "cell_type": "code",
   "execution_count": 3,
   "metadata": {},
   "outputs": [],
   "source": [
    "# Density plot function\n",
    "\n",
    "# https://kdepy.readthedocs.io/en/latest/examples.html#minimal-working-example-with-options\n",
    "from KDEpy import FFTKDE\n",
    "from sklearn.neighbors import KernelDensity\n",
    "import numpy as np\n",
    "\n",
    "def SKL_density_plot(data, ax,low_bound=None,up_bound=None,title='', color='black',alpha=1,label='',kernel='gaussian', bw='silverman',linewidth=1):\n",
    "  \n",
    "\tif low_bound != None and up_bound != None:\n",
    "\t\tbw = FFTKDE(bw=bw, kernel='gaussian').fit(data).bw\n",
    "\t\tkde = KernelDensity(bandwidth=bw, kernel=kernel).fit(data.reshape(-1,1))\n",
    "\t\tdata = np.concatenate((data, 2 * low_bound - data, 2 * up_bound - data))\n",
    "\t\tkde = KernelDensity(bandwidth=kde.bandwidth_, kernel=kernel).fit(data.reshape(-1,1))\n",
    "\t\tx = np.linspace(low_bound,up_bound,1000)\n",
    "\t\ty = np.exp(kde.score_samples(x.reshape(-1,1)))\n",
    "\t\tplot_y = y[np.where((x>=low_bound) & (x<=up_bound))] # Set the KDE to zero outside of the domain\n",
    "\t\tplot_x = x[np.where((x>=low_bound) & (x<=up_bound))]  # Set the KDE to zero outside of the domain\n",
    "\t\tplot_y = plot_y * 3  # Double the y-values to get integral of ~1\n",
    "\t\tax.plot(plot_x, plot_y, label=label,color=color,alpha=alpha,linewidth=linewidth)\n",
    "\t\treturn x, y, kde\n",
    "\telse:\n",
    "\t\tkde = KernelDensity(bandwidth=bw, kernel=kernel).fit(data.reshape(-1,1))\n",
    "\t\tx=np.linspace(data.min(),data.max(),1000)\n",
    "\t\ty = np.exp(kde.score_samples(x.reshape(-1,1)))\n",
    "\t\tax.plot(x, y, label=label,color=color,alpha=alpha)\n",
    "\t\treturn x, y, kde"
   ]
  },
  {
   "cell_type": "markdown",
   "metadata": {},
   "source": [
    "# AutoModel"
   ]
  },
  {
   "cell_type": "code",
   "execution_count": 37,
   "metadata": {},
   "outputs": [],
   "source": [
    "import tensorflow as tf\n",
    "from tensorflow import keras \n",
    "from tensorflow.keras import layers \n",
    "\n",
    "#input_shape = (4, 10, 128) = (batch_size, steps, vectorLength) = (batchsize, rotaciones, frecuencias)\n",
    "\n",
    "#normalize = layers.Normalization()\n",
    "\n",
    "# This layer will shift and scale inputs into a distribution centered around 0 with standard deviation 1.\n",
    "# It accomplishes this by precomputing the mean and variance of the data and calling (input - mean) / sqrt(var) at runtime\n",
    "\n",
    "# TODO: Probar con los datos sin normalizar\n",
    "#normalize.adapt(x_train)\n",
    "\n",
    "input_shape = (x_train.shape[1],1)\n",
    "\n",
    "def generate_model(): \n",
    "  return tf.keras.Sequential([\n",
    "  keras.Input(shape=(input_shape)),\n",
    "  #normalize,\n",
    "  layers.Conv1D(32,padding=\"same\",kernel_size=7, activation='relu'),\n",
    "  layers.Conv1D(32,padding=\"same\",kernel_size=7, activation='relu'),\n",
    "  layers.MaxPooling1D(pool_size=3, padding='same'),\n",
    "  layers.Conv1D(64,padding=\"same\",kernel_size=7, activation='relu'),\n",
    "  layers.Conv1D(64,padding=\"same\",kernel_size=7, activation='relu'),\n",
    "  layers.MaxPooling1D(pool_size=2, padding='same'),\n",
    "  layers.GlobalAveragePooling1D(),\n",
    "  \n",
    "  layers.Dense(128, activation='relu'),\n",
    "  layers.Dense(3, activation='linear')\n",
    "])"
   ]
  },
  {
   "cell_type": "code",
   "execution_count": 59,
   "metadata": {},
   "outputs": [
    {
     "name": "stdout",
     "output_type": "stream",
     "text": [
      "Reloading Tuner from .\\auto_model\\tuner0.json\n"
     ]
    }
   ],
   "source": [
    "def generateAutoModel():\n",
    "\tinput = ak.Input()\n",
    "\tblock = ak.ConvBlock()(input)\n",
    "\tblock = ak.DenseBlock()(block)\n",
    "\tregression_output = ak.RegressionHead()(block)\n",
    "\treturn ak.AutoModel(\n",
    "\t  inputs=input,\n",
    "\t  outputs=regression_output,\n",
    "\t  max_trials=20,\n",
    "\t  loss='mse',\n",
    "   \tmetrics = 'mae'\n",
    "\t)\n",
    "\n",
    "model = generateAutoModel()"
   ]
  },
  {
   "cell_type": "code",
   "execution_count": 60,
   "metadata": {},
   "outputs": [
    {
     "name": "stdout",
     "output_type": "stream",
     "text": [
      "Trial 20 Complete [00h 08m 57s]\n",
      "val_loss: 0.008693327195942402\n",
      "\n",
      "Best val_loss So Far: 0.007894483394920826\n",
      "Total elapsed time: 03h 30m 51s\n",
      "Epoch 1/20\n",
      "459/459 [==============================] - 28s 58ms/step - loss: 0.1174 - mae: 0.2730 - val_loss: 0.0437 - val_mae: 0.1521\n",
      "Epoch 2/20\n",
      "459/459 [==============================] - 27s 58ms/step - loss: 0.0338 - mae: 0.1336 - val_loss: 0.0233 - val_mae: 0.0998\n",
      "Epoch 3/20\n",
      "459/459 [==============================] - 27s 59ms/step - loss: 0.0209 - mae: 0.0998 - val_loss: 0.0207 - val_mae: 0.0918\n",
      "Epoch 4/20\n",
      "459/459 [==============================] - 27s 58ms/step - loss: 0.0180 - mae: 0.0909 - val_loss: 0.0163 - val_mae: 0.0835\n",
      "Epoch 5/20\n",
      "459/459 [==============================] - 27s 58ms/step - loss: 0.0157 - mae: 0.0841 - val_loss: 0.0152 - val_mae: 0.0802\n",
      "Epoch 6/20\n",
      "459/459 [==============================] - 27s 58ms/step - loss: 0.0149 - mae: 0.0821 - val_loss: 0.0160 - val_mae: 0.0854\n",
      "Epoch 7/20\n",
      "459/459 [==============================] - 27s 58ms/step - loss: 0.0138 - mae: 0.0785 - val_loss: 0.0154 - val_mae: 0.0828\n",
      "Epoch 8/20\n",
      "459/459 [==============================] - 27s 58ms/step - loss: 0.0130 - mae: 0.0757 - val_loss: 0.0144 - val_mae: 0.0824\n",
      "Epoch 9/20\n",
      "459/459 [==============================] - 27s 58ms/step - loss: 0.0124 - mae: 0.0738 - val_loss: 0.0135 - val_mae: 0.0751\n",
      "Epoch 10/20\n",
      "459/459 [==============================] - 27s 58ms/step - loss: 0.0118 - mae: 0.0715 - val_loss: 0.0130 - val_mae: 0.0755\n",
      "Epoch 11/20\n",
      "459/459 [==============================] - 27s 58ms/step - loss: 0.0114 - mae: 0.0702 - val_loss: 0.0126 - val_mae: 0.0735\n",
      "Epoch 12/20\n",
      "459/459 [==============================] - 27s 58ms/step - loss: 0.0109 - mae: 0.0685 - val_loss: 0.0120 - val_mae: 0.0727\n",
      "Epoch 13/20\n",
      "459/459 [==============================] - 27s 58ms/step - loss: 0.0105 - mae: 0.0669 - val_loss: 0.0122 - val_mae: 0.0735\n",
      "Epoch 14/20\n",
      "459/459 [==============================] - 27s 58ms/step - loss: 0.0102 - mae: 0.0658 - val_loss: 0.0112 - val_mae: 0.0697\n",
      "Epoch 15/20\n",
      "459/459 [==============================] - 27s 58ms/step - loss: 0.0098 - mae: 0.0645 - val_loss: 0.0114 - val_mae: 0.0711\n",
      "Epoch 16/20\n",
      "459/459 [==============================] - 27s 58ms/step - loss: 0.0095 - mae: 0.0632 - val_loss: 0.0120 - val_mae: 0.0738\n",
      "Epoch 17/20\n",
      "459/459 [==============================] - 27s 58ms/step - loss: 0.0092 - mae: 0.0624 - val_loss: 0.0112 - val_mae: 0.0714\n",
      "Epoch 18/20\n",
      "459/459 [==============================] - 27s 58ms/step - loss: 0.0090 - mae: 0.0613 - val_loss: 0.0093 - val_mae: 0.0637\n",
      "Epoch 19/20\n",
      "459/459 [==============================] - 27s 58ms/step - loss: 0.0088 - mae: 0.0602 - val_loss: 0.0086 - val_mae: 0.0604\n",
      "Epoch 20/20\n",
      "459/459 [==============================] - 27s 58ms/step - loss: 0.0086 - mae: 0.0589 - val_loss: 0.0085 - val_mae: 0.0594\n"
     ]
    },
    {
     "name": "stderr",
     "output_type": "stream",
     "text": [
      "WARNING:absl:Found untraced functions such as _jit_compiled_convolution_op, _jit_compiled_convolution_op, _jit_compiled_convolution_op, _jit_compiled_convolution_op while saving (showing 4 of 4). These functions will not be directly callable after loading.\n"
     ]
    },
    {
     "name": "stdout",
     "output_type": "stream",
     "text": [
      "INFO:tensorflow:Assets written to: .\\auto_model\\best_model\\assets\n"
     ]
    },
    {
     "name": "stderr",
     "output_type": "stream",
     "text": [
      "INFO:tensorflow:Assets written to: .\\auto_model\\best_model\\assets\n"
     ]
    },
    {
     "data": {
      "text/plain": [
       "<keras.callbacks.History at 0x22c77987040>"
      ]
     },
     "execution_count": 60,
     "metadata": {},
     "output_type": "execute_result"
    }
   ],
   "source": [
    "# Feed the structured auto model with training data.\n",
    "#model.compile(loss = ['MSE'],\n",
    "#                           optimizer = tf.optimizers.Adam(),\n",
    "#                           metrics=['MAE'])\n",
    "model.fit(formatted_x_train, y_train,validation_data=(formatted_x_val, y_val), epochs=20)\n"
   ]
  },
  {
   "cell_type": "code",
   "execution_count": 61,
   "metadata": {},
   "outputs": [
    {
     "name": "stdout",
     "output_type": "stream",
     "text": [
      "153/153 [==============================] - 5s 32ms/step - loss: 0.0086 - mae: 0.0592\n",
      "loss: 0.009  MAE:0.059\n"
     ]
    }
   ],
   "source": [
    "# Evaluate the best model with testing data.\n",
    "evaluation = model.evaluate(formatted_x_test, y_test)\n",
    "\n",
    "print('loss: %.3f  MAE:%.3f'% (evaluation[0],evaluation[1]))"
   ]
  },
  {
   "cell_type": "code",
   "execution_count": 62,
   "metadata": {},
   "outputs": [
    {
     "name": "stdout",
     "output_type": "stream",
     "text": [
      "153/153 [==============================] - 5s 30ms/step\n",
      "153/153 [==============================] - 5s 30ms/step\n"
     ]
    }
   ],
   "source": [
    "predictions = y_scaler.inverse_transform(model.predict(formatted_x_test))"
   ]
  },
  {
   "cell_type": "code",
   "execution_count": 63,
   "metadata": {},
   "outputs": [
    {
     "data": {
      "image/png": "[encoded data removed]",
      "text/plain": [
       "<Figure size 1500x400 with 3 Axes>"
      ]
     },
     "metadata": {},
     "output_type": "display_data"
    }
   ],
   "source": [
    "fig, axes = plt.subplots(nrows=1, ncols=3, figsize=(15,4))\n",
    "\n",
    "for i, featureName in enumerate(target):\n",
    "\tx, y, kde = SKL_density_plot(predictions[:,i], axes[i], low_bound=Y.iloc[:,i].min(),up_bound=Y.iloc[:,i].max(), color = 'green',label='Predicted')\n",
    "\tx, y, kde = SKL_density_plot(y_scaler.inverse_transform(y_test)[:,i], axes[i], low_bound=Y.iloc[:,i].min(),up_bound=Y.iloc[:,i].max(), color='red',label='Test')\n",
    "\tmeasure = ['Temperature','log g', 'v sini']\n",
    "\tmeasure_unit = ['[K]', '[u]', '[km/s]']\n",
    "\taxes[i].set_xlabel(measure_unit[i])\n",
    "\taxes[i].set_ylabel('Densidad')\n",
    "\taxes[i].set_title('FDP '+measure[i]+', bw= '+str(kde.bandwidth_))\n",
    "\taxes[i].legend()\n",
    "\n",
    "plt.legend()\n",
    "plt.tight_layout();\n",
    "plt.show()"
   ]
  },
  {
   "cell_type": "markdown",
   "metadata": {},
   "source": [
    "### Datos de test vs predicción (modelo único)"
   ]
  },
  {
   "cell_type": "code",
   "execution_count": 64,
   "metadata": {},
   "outputs": [
    {
     "data": {
      "text/html": [
       "<div>\n",
       "<style scoped>\n",
       "    .dataframe tbody tr th:only-of-type {\n",
       "        vertical-align: middle;\n",
       "    }\n",
       "\n",
       "    .dataframe tbody tr th {\n",
       "        vertical-align: top;\n",
       "    }\n",
       "\n",
       "    .dataframe thead th {\n",
       "        text-align: right;\n",
       "    }\n",
       "</style>\n",
       "<table border=\"1\" class=\"dataframe\">\n",
       "  <thead>\n",
       "    <tr style=\"text-align: right;\">\n",
       "      <th></th>\n",
       "      <th>Temp</th>\n",
       "      <th>Temp_pred</th>\n",
       "      <th>Temp_Rel_Error</th>\n",
       "      <th>log_g</th>\n",
       "      <th>log_g_pred</th>\n",
       "      <th>log_g_Rel_Error</th>\n",
       "      <th>v</th>\n",
       "      <th>v_pred</th>\n",
       "      <th>v_Rel_Error</th>\n",
       "    </tr>\n",
       "  </thead>\n",
       "  <tbody>\n",
       "    <tr>\n",
       "      <th>0</th>\n",
       "      <td>28000.0</td>\n",
       "      <td>24821.755859</td>\n",
       "      <td>11.350872</td>\n",
       "      <td>2.75</td>\n",
       "      <td>2.536214</td>\n",
       "      <td>7.774050</td>\n",
       "      <td>156.0</td>\n",
       "      <td>155.320374</td>\n",
       "      <td>0.435658</td>\n",
       "    </tr>\n",
       "    <tr>\n",
       "      <th>1</th>\n",
       "      <td>27000.0</td>\n",
       "      <td>27168.121094</td>\n",
       "      <td>0.622671</td>\n",
       "      <td>4.25</td>\n",
       "      <td>4.037006</td>\n",
       "      <td>5.011615</td>\n",
       "      <td>24.0</td>\n",
       "      <td>24.089424</td>\n",
       "      <td>0.372601</td>\n",
       "    </tr>\n",
       "    <tr>\n",
       "      <th>2</th>\n",
       "      <td>28000.0</td>\n",
       "      <td>28322.164062</td>\n",
       "      <td>1.150586</td>\n",
       "      <td>4.50</td>\n",
       "      <td>4.444541</td>\n",
       "      <td>1.232412</td>\n",
       "      <td>213.0</td>\n",
       "      <td>212.224197</td>\n",
       "      <td>0.364227</td>\n",
       "    </tr>\n",
       "    <tr>\n",
       "      <th>3</th>\n",
       "      <td>28000.0</td>\n",
       "      <td>28143.933594</td>\n",
       "      <td>0.514049</td>\n",
       "      <td>4.50</td>\n",
       "      <td>4.268997</td>\n",
       "      <td>5.133396</td>\n",
       "      <td>36.0</td>\n",
       "      <td>31.089050</td>\n",
       "      <td>13.641527</td>\n",
       "    </tr>\n",
       "    <tr>\n",
       "      <th>4</th>\n",
       "      <td>16000.0</td>\n",
       "      <td>15238.187500</td>\n",
       "      <td>4.761328</td>\n",
       "      <td>2.50</td>\n",
       "      <td>2.657487</td>\n",
       "      <td>6.299467</td>\n",
       "      <td>327.0</td>\n",
       "      <td>315.634125</td>\n",
       "      <td>3.475803</td>\n",
       "    </tr>\n",
       "    <tr>\n",
       "      <th>5</th>\n",
       "      <td>18000.0</td>\n",
       "      <td>17231.681641</td>\n",
       "      <td>4.268435</td>\n",
       "      <td>3.25</td>\n",
       "      <td>3.599676</td>\n",
       "      <td>10.759251</td>\n",
       "      <td>216.0</td>\n",
       "      <td>215.702332</td>\n",
       "      <td>0.137809</td>\n",
       "    </tr>\n",
       "    <tr>\n",
       "      <th>6</th>\n",
       "      <td>22000.0</td>\n",
       "      <td>22272.556641</td>\n",
       "      <td>1.238894</td>\n",
       "      <td>3.50</td>\n",
       "      <td>3.417906</td>\n",
       "      <td>2.345542</td>\n",
       "      <td>54.0</td>\n",
       "      <td>64.531967</td>\n",
       "      <td>19.503643</td>\n",
       "    </tr>\n",
       "    <tr>\n",
       "      <th>7</th>\n",
       "      <td>21000.0</td>\n",
       "      <td>18763.216797</td>\n",
       "      <td>10.651349</td>\n",
       "      <td>3.25</td>\n",
       "      <td>3.394537</td>\n",
       "      <td>4.447299</td>\n",
       "      <td>321.0</td>\n",
       "      <td>314.650604</td>\n",
       "      <td>1.978005</td>\n",
       "    </tr>\n",
       "    <tr>\n",
       "      <th>8</th>\n",
       "      <td>18000.0</td>\n",
       "      <td>18114.722656</td>\n",
       "      <td>0.637348</td>\n",
       "      <td>3.75</td>\n",
       "      <td>3.865424</td>\n",
       "      <td>3.077984</td>\n",
       "      <td>72.0</td>\n",
       "      <td>68.221077</td>\n",
       "      <td>5.248504</td>\n",
       "    </tr>\n",
       "    <tr>\n",
       "      <th>9</th>\n",
       "      <td>20000.0</td>\n",
       "      <td>19916.416016</td>\n",
       "      <td>0.417920</td>\n",
       "      <td>4.00</td>\n",
       "      <td>4.012781</td>\n",
       "      <td>0.319517</td>\n",
       "      <td>138.0</td>\n",
       "      <td>139.408142</td>\n",
       "      <td>1.020393</td>\n",
       "    </tr>\n",
       "  </tbody>\n",
       "</table>\n",
       "</div>"
      ],
      "text/plain": [
       "      Temp     Temp_pred  Temp_Rel_Error  log_g  log_g_pred  log_g_Rel_Error  \\\n",
       "0  28000.0  24821.755859       11.350872   2.75    2.536214         7.774050   \n",
       "1  27000.0  27168.121094        0.622671   4.25    4.037006         5.011615   \n",
       "2  28000.0  28322.164062        1.150586   4.50    4.444541         1.232412   \n",
       "3  28000.0  28143.933594        0.514049   4.50    4.268997         5.133396   \n",
       "4  16000.0  15238.187500        4.761328   2.50    2.657487         6.299467   \n",
       "5  18000.0  17231.681641        4.268435   3.25    3.599676        10.759251   \n",
       "6  22000.0  22272.556641        1.238894   3.50    3.417906         2.345542   \n",
       "7  21000.0  18763.216797       10.651349   3.25    3.394537         4.447299   \n",
       "8  18000.0  18114.722656        0.637348   3.75    3.865424         3.077984   \n",
       "9  20000.0  19916.416016        0.417920   4.00    4.012781         0.319517   \n",
       "\n",
       "       v      v_pred  v_Rel_Error  \n",
       "0  156.0  155.320374     0.435658  \n",
       "1   24.0   24.089424     0.372601  \n",
       "2  213.0  212.224197     0.364227  \n",
       "3   36.0   31.089050    13.641527  \n",
       "4  327.0  315.634125     3.475803  \n",
       "5  216.0  215.702332     0.137809  \n",
       "6   54.0   64.531967    19.503643  \n",
       "7  321.0  314.650604     1.978005  \n",
       "8   72.0   68.221077     5.248504  \n",
       "9  138.0  139.408142     1.020393  "
      ]
     },
     "execution_count": 64,
     "metadata": {},
     "output_type": "execute_result"
    }
   ],
   "source": [
    "# dataframe\n",
    "inverse_y_test = y_scaler.inverse_transform(y_test)\n",
    "pred_error = np.abs(predictions-inverse_y_test)*(1/inverse_y_test)*100\n",
    "results = pd.DataFrame({\n",
    "  'Temp':inverse_y_test[:,0],'Temp_pred':predictions[:,0],'Temp_Rel_Error':pred_error[:,0],\n",
    "  'log_g':inverse_y_test[:,1],'log_g_pred':predictions[:,1],'log_g_Rel_Error':pred_error[:,1],\n",
    "  'v':inverse_y_test[:,2],'v_pred':predictions[:,2],'v_Rel_Error':pred_error[:,2]\n",
    "                    })\n",
    "results.head(10)"
   ]
  },
  {
   "cell_type": "markdown",
   "metadata": {},
   "source": [
    "### Datos observados vs predicción de modelo único"
   ]
  },
  {
   "cell_type": "code",
   "execution_count": 65,
   "metadata": {},
   "outputs": [
    {
     "name": "stdout",
     "output_type": "stream",
     "text": [
      "1/1 [==============================] - 0s 117ms/step\n",
      "1/1 [==============================] - 0s 15ms/step\n"
     ]
    },
    {
     "data": {
      "text/html": [
       "<div>\n",
       "<style scoped>\n",
       "    .dataframe tbody tr th:only-of-type {\n",
       "        vertical-align: middle;\n",
       "    }\n",
       "\n",
       "    .dataframe tbody tr th {\n",
       "        vertical-align: top;\n",
       "    }\n",
       "\n",
       "    .dataframe thead th {\n",
       "        text-align: right;\n",
       "    }\n",
       "</style>\n",
       "<table border=\"1\" class=\"dataframe\">\n",
       "  <thead>\n",
       "    <tr style=\"text-align: right;\">\n",
       "      <th></th>\n",
       "      <th>Temp</th>\n",
       "      <th>Temp_pred</th>\n",
       "      <th>Temp_Rel_Error</th>\n",
       "      <th>log_g</th>\n",
       "      <th>log_g_pred</th>\n",
       "      <th>log_g_Rel_Error</th>\n",
       "      <th>v</th>\n",
       "      <th>v_pred</th>\n",
       "      <th>v_Rel_Error</th>\n",
       "    </tr>\n",
       "  </thead>\n",
       "  <tbody>\n",
       "    <tr>\n",
       "      <th>0</th>\n",
       "      <td>15000.0</td>\n",
       "      <td>10667.453125</td>\n",
       "      <td>28.883646</td>\n",
       "      <td>3.40</td>\n",
       "      <td>3.496720</td>\n",
       "      <td>2.844708</td>\n",
       "      <td>68.0</td>\n",
       "      <td>145.655548</td>\n",
       "      <td>114.199335</td>\n",
       "    </tr>\n",
       "    <tr>\n",
       "      <th>1</th>\n",
       "      <td>18400.0</td>\n",
       "      <td>18669.656250</td>\n",
       "      <td>1.465523</td>\n",
       "      <td>3.50</td>\n",
       "      <td>4.675333</td>\n",
       "      <td>33.580930</td>\n",
       "      <td>40.0</td>\n",
       "      <td>92.146095</td>\n",
       "      <td>130.365238</td>\n",
       "    </tr>\n",
       "    <tr>\n",
       "      <th>2</th>\n",
       "      <td>30000.0</td>\n",
       "      <td>21019.859375</td>\n",
       "      <td>29.933802</td>\n",
       "      <td>3.53</td>\n",
       "      <td>2.932046</td>\n",
       "      <td>16.939202</td>\n",
       "      <td>150.0</td>\n",
       "      <td>159.570251</td>\n",
       "      <td>6.380168</td>\n",
       "    </tr>\n",
       "    <tr>\n",
       "      <th>3</th>\n",
       "      <td>22000.0</td>\n",
       "      <td>31032.640625</td>\n",
       "      <td>41.057457</td>\n",
       "      <td>3.90</td>\n",
       "      <td>3.836397</td>\n",
       "      <td>1.630854</td>\n",
       "      <td>280.0</td>\n",
       "      <td>345.107178</td>\n",
       "      <td>23.252563</td>\n",
       "    </tr>\n",
       "    <tr>\n",
       "      <th>4</th>\n",
       "      <td>24500.0</td>\n",
       "      <td>25408.359375</td>\n",
       "      <td>3.707589</td>\n",
       "      <td>3.40</td>\n",
       "      <td>3.489953</td>\n",
       "      <td>2.645678</td>\n",
       "      <td>215.0</td>\n",
       "      <td>226.371933</td>\n",
       "      <td>5.289271</td>\n",
       "    </tr>\n",
       "    <tr>\n",
       "      <th>5</th>\n",
       "      <td>22000.0</td>\n",
       "      <td>12643.116211</td>\n",
       "      <td>42.531290</td>\n",
       "      <td>3.50</td>\n",
       "      <td>3.513759</td>\n",
       "      <td>0.393111</td>\n",
       "      <td>180.0</td>\n",
       "      <td>247.917038</td>\n",
       "      <td>37.731688</td>\n",
       "    </tr>\n",
       "    <tr>\n",
       "      <th>6</th>\n",
       "      <td>20000.0</td>\n",
       "      <td>19217.138672</td>\n",
       "      <td>3.914307</td>\n",
       "      <td>3.56</td>\n",
       "      <td>2.959911</td>\n",
       "      <td>16.856430</td>\n",
       "      <td>10.0</td>\n",
       "      <td>109.723000</td>\n",
       "      <td>997.229996</td>\n",
       "    </tr>\n",
       "    <tr>\n",
       "      <th>7</th>\n",
       "      <td>18000.0</td>\n",
       "      <td>16631.787109</td>\n",
       "      <td>7.601183</td>\n",
       "      <td>3.53</td>\n",
       "      <td>3.707469</td>\n",
       "      <td>5.027464</td>\n",
       "      <td>250.0</td>\n",
       "      <td>247.901672</td>\n",
       "      <td>0.839331</td>\n",
       "    </tr>\n",
       "    <tr>\n",
       "      <th>8</th>\n",
       "      <td>26000.0</td>\n",
       "      <td>20392.123047</td>\n",
       "      <td>21.568758</td>\n",
       "      <td>2.90</td>\n",
       "      <td>2.411998</td>\n",
       "      <td>16.827654</td>\n",
       "      <td>300.0</td>\n",
       "      <td>270.639435</td>\n",
       "      <td>9.786855</td>\n",
       "    </tr>\n",
       "  </tbody>\n",
       "</table>\n",
       "</div>"
      ],
      "text/plain": [
       "      Temp     Temp_pred  Temp_Rel_Error  log_g  log_g_pred  log_g_Rel_Error  \\\n",
       "0  15000.0  10667.453125       28.883646   3.40    3.496720         2.844708   \n",
       "1  18400.0  18669.656250        1.465523   3.50    4.675333        33.580930   \n",
       "2  30000.0  21019.859375       29.933802   3.53    2.932046        16.939202   \n",
       "3  22000.0  31032.640625       41.057457   3.90    3.836397         1.630854   \n",
       "4  24500.0  25408.359375        3.707589   3.40    3.489953         2.645678   \n",
       "5  22000.0  12643.116211       42.531290   3.50    3.513759         0.393111   \n",
       "6  20000.0  19217.138672        3.914307   3.56    2.959911        16.856430   \n",
       "7  18000.0  16631.787109        7.601183   3.53    3.707469         5.027464   \n",
       "8  26000.0  20392.123047       21.568758   2.90    2.411998        16.827654   \n",
       "\n",
       "       v      v_pred  v_Rel_Error  \n",
       "0   68.0  145.655548   114.199335  \n",
       "1   40.0   92.146095   130.365238  \n",
       "2  150.0  159.570251     6.380168  \n",
       "3  280.0  345.107178    23.252563  \n",
       "4  215.0  226.371933     5.289271  \n",
       "5  180.0  247.917038    37.731688  \n",
       "6   10.0  109.723000   997.229996  \n",
       "7  250.0  247.901672     0.839331  \n",
       "8  300.0  270.639435     9.786855  "
      ]
     },
     "execution_count": 65,
     "metadata": {},
     "output_type": "execute_result"
    }
   ],
   "source": [
    "predictions = y_scaler.inverse_transform(model.predict(formatted_x_obs))\n",
    "\n",
    "inverse_y_obs = y_scaler.inverse_transform(y_obs)\n",
    "pred_error = np.abs(predictions-inverse_y_obs)*(1/inverse_y_obs)*100\n",
    "results = pd.DataFrame({\n",
    "  'Temp':inverse_y_obs[:,0],'Temp_pred':predictions[:,0],'Temp_Rel_Error':pred_error[:,0],\n",
    "  'log_g':inverse_y_obs[:,1],'log_g_pred':predictions[:,1],'log_g_Rel_Error':pred_error[:,1],\n",
    "  'v':inverse_y_obs[:,2],'v_pred':predictions[:,2],'v_Rel_Error':pred_error[:,2]\n",
    "                    })\n",
    "results.head(10)\n",
    "\n"
   ]
  },
  {
   "cell_type": "code",
   "execution_count": 93,
   "metadata": {},
   "outputs": [],
   "source": [
    "# / TODO ponerle titulo a las cosas \n",
    "# / TODO mostrar tabla con datos sintéticos\n",
    "# / TODO mostrar fdp datos sinteticos\n",
    "# / TODO mostrar resultados prediccion de datos observados\n",
    "# TODO distribucion predictiva de datos observados\n",
    "# / TODO agregar ruido a todas las particiones de x \n",
    "# / TODO mostrar el error\n",
    "# / TODO graficar comparativa de espectro observado con sintetico\n",
    "# TODO entender como se llego a la red nuronal\n",
    "# / TODO volver a generar instancia de entrenamiento de autokeras"
   ]
  },
  {
   "cell_type": "markdown",
   "metadata": {},
   "source": [
    "# Ensemble"
   ]
  },
  {
   "cell_type": "code",
   "execution_count": 94,
   "metadata": {},
   "outputs": [
    {
     "name": "stdout",
     "output_type": "stream",
     "text": [
      "Reloading Tuner from .\\auto_model\\tuner0.json\n",
      "Epoch 1/20\n",
      "459/459 [==============================] - 7s 13ms/step - loss: 0.2639 - mse: 0.0987\n",
      "Epoch 2/20\n",
      "459/459 [==============================] - 6s 13ms/step - loss: 0.2415 - mse: 0.0805\n",
      "Epoch 3/20\n",
      "459/459 [==============================] - 6s 13ms/step - loss: 0.2130 - mse: 0.0681\n",
      "Epoch 4/20\n",
      "459/459 [==============================] - 6s 13ms/step - loss: 0.1927 - mse: 0.0588\n",
      "Epoch 5/20\n",
      "459/459 [==============================] - 6s 13ms/step - loss: 0.1767 - mse: 0.0518\n",
      "Epoch 6/20\n",
      "459/459 [==============================] - 6s 13ms/step - loss: 0.1617 - mse: 0.0460\n",
      "Epoch 7/20\n",
      "459/459 [==============================] - 6s 13ms/step - loss: 0.1502 - mse: 0.0414\n",
      "Epoch 8/20\n",
      "459/459 [==============================] - 6s 13ms/step - loss: 0.1423 - mse: 0.0386\n",
      "Epoch 9/20\n",
      "459/459 [==============================] - 6s 13ms/step - loss: 0.1363 - mse: 0.0364\n",
      "Epoch 10/20\n",
      "459/459 [==============================] - 6s 13ms/step - loss: 0.1322 - mse: 0.0350\n",
      "Epoch 11/20\n",
      "459/459 [==============================] - 6s 13ms/step - loss: 0.1281 - mse: 0.0338\n",
      "Epoch 12/20\n",
      "459/459 [==============================] - 6s 13ms/step - loss: 0.1252 - mse: 0.0329\n",
      "Epoch 13/20\n",
      "459/459 [==============================] - 6s 13ms/step - loss: 0.1224 - mse: 0.0321\n",
      "Epoch 14/20\n",
      "459/459 [==============================] - 6s 13ms/step - loss: 0.1202 - mse: 0.0317\n",
      "Epoch 15/20\n",
      "459/459 [==============================] - 6s 13ms/step - loss: 0.1181 - mse: 0.0308\n",
      "Epoch 16/20\n",
      "459/459 [==============================] - 6s 13ms/step - loss: 0.1163 - mse: 0.0305\n",
      "Epoch 17/20\n",
      "459/459 [==============================] - 6s 13ms/step - loss: 0.1146 - mse: 0.0299\n",
      "Epoch 18/20\n",
      "459/459 [==============================] - 6s 13ms/step - loss: 0.1127 - mse: 0.0294\n",
      "Epoch 19/20\n",
      "459/459 [==============================] - 6s 13ms/step - loss: 0.1118 - mse: 0.0290\n",
      "Epoch 20/20\n",
      "459/459 [==============================] - 6s 13ms/step - loss: 0.1107 - mse: 0.0287\n"
     ]
    },
    {
     "name": "stderr",
     "output_type": "stream",
     "text": [
      "WARNING:absl:Found untraced functions such as _jit_compiled_convolution_op, _jit_compiled_convolution_op, _jit_compiled_convolution_op, _jit_compiled_convolution_op while saving (showing 4 of 4). These functions will not be directly callable after loading.\n"
     ]
    },
    {
     "name": "stdout",
     "output_type": "stream",
     "text": [
      "INFO:tensorflow:Assets written to: .\\auto_model\\best_model\\assets\n"
     ]
    },
    {
     "name": "stderr",
     "output_type": "stream",
     "text": [
      "INFO:tensorflow:Assets written to: .\\auto_model\\best_model\\assets\n"
     ]
    },
    {
     "name": "stdout",
     "output_type": "stream",
     "text": [
      "Reloading Tuner from .\\auto_model\\tuner0.json\n",
      "Epoch 1/20\n",
      "459/459 [==============================] - 7s 13ms/step - loss: 0.2619 - mse: 0.0969\n",
      "Epoch 2/20\n",
      "459/459 [==============================] - 6s 13ms/step - loss: 0.2395 - mse: 0.0798\n",
      "Epoch 3/20\n",
      "459/459 [==============================] - 6s 13ms/step - loss: 0.2101 - mse: 0.0673\n",
      "Epoch 4/20\n",
      "459/459 [==============================] - 6s 13ms/step - loss: 0.1909 - mse: 0.0581\n",
      "Epoch 5/20\n",
      "459/459 [==============================] - 6s 13ms/step - loss: 0.1735 - mse: 0.0506\n",
      "Epoch 6/20\n",
      "459/459 [==============================] - 6s 13ms/step - loss: 0.1587 - mse: 0.0448\n",
      "Epoch 7/20\n",
      "459/459 [==============================] - 6s 13ms/step - loss: 0.1485 - mse: 0.0409\n",
      "Epoch 8/20\n",
      "459/459 [==============================] - 6s 13ms/step - loss: 0.1406 - mse: 0.0379\n",
      "Epoch 9/20\n",
      "459/459 [==============================] - 6s 13ms/step - loss: 0.1352 - mse: 0.0360\n",
      "Epoch 10/20\n",
      "459/459 [==============================] - 6s 13ms/step - loss: 0.1309 - mse: 0.0347\n",
      "Epoch 11/20\n",
      "459/459 [==============================] - 6s 13ms/step - loss: 0.1268 - mse: 0.0335\n",
      "Epoch 12/20\n",
      "459/459 [==============================] - 6s 13ms/step - loss: 0.1245 - mse: 0.0329\n",
      "Epoch 13/20\n",
      "459/459 [==============================] - 6s 13ms/step - loss: 0.1216 - mse: 0.0321\n",
      "Epoch 14/20\n",
      "459/459 [==============================] - 6s 13ms/step - loss: 0.1197 - mse: 0.0316\n",
      "Epoch 15/20\n",
      "459/459 [==============================] - 6s 13ms/step - loss: 0.1180 - mse: 0.0312\n",
      "Epoch 16/20\n",
      "459/459 [==============================] - 6s 13ms/step - loss: 0.1163 - mse: 0.0307\n",
      "Epoch 17/20\n",
      "459/459 [==============================] - 6s 13ms/step - loss: 0.1149 - mse: 0.0302\n",
      "Epoch 18/20\n",
      "459/459 [==============================] - 6s 13ms/step - loss: 0.1138 - mse: 0.0300\n",
      "Epoch 19/20\n",
      "459/459 [==============================] - 6s 13ms/step - loss: 0.1128 - mse: 0.0296\n",
      "Epoch 20/20\n",
      "459/459 [==============================] - 6s 13ms/step - loss: 0.1110 - mse: 0.0291\n"
     ]
    },
    {
     "name": "stderr",
     "output_type": "stream",
     "text": [
      "WARNING:absl:Found untraced functions such as _jit_compiled_convolution_op, _jit_compiled_convolution_op, _jit_compiled_convolution_op, _jit_compiled_convolution_op while saving (showing 4 of 4). These functions will not be directly callable after loading.\n"
     ]
    },
    {
     "name": "stdout",
     "output_type": "stream",
     "text": [
      "INFO:tensorflow:Assets written to: .\\auto_model\\best_model\\assets\n"
     ]
    },
    {
     "name": "stderr",
     "output_type": "stream",
     "text": [
      "INFO:tensorflow:Assets written to: .\\auto_model\\best_model\\assets\n"
     ]
    },
    {
     "name": "stdout",
     "output_type": "stream",
     "text": [
      "Reloading Tuner from .\\auto_model\\tuner0.json\n",
      "Epoch 1/20\n",
      "459/459 [==============================] - 6s 13ms/step - loss: 0.2619 - mse: 0.0971\n",
      "Epoch 2/20\n",
      "459/459 [==============================] - 6s 13ms/step - loss: 0.2416 - mse: 0.0805\n",
      "Epoch 3/20\n",
      "459/459 [==============================] - 6s 13ms/step - loss: 0.2126 - mse: 0.0675\n",
      "Epoch 4/20\n",
      "459/459 [==============================] - 6s 13ms/step - loss: 0.1879 - mse: 0.0562\n",
      "Epoch 5/20\n",
      "459/459 [==============================] - 6s 13ms/step - loss: 0.1707 - mse: 0.0489\n",
      "Epoch 6/20\n",
      "459/459 [==============================] - 6s 13ms/step - loss: 0.1560 - mse: 0.0432\n",
      "Epoch 7/20\n",
      "459/459 [==============================] - 6s 13ms/step - loss: 0.1442 - mse: 0.0390\n",
      "Epoch 8/20\n",
      "459/459 [==============================] - 6s 13ms/step - loss: 0.1362 - mse: 0.0361\n",
      "Epoch 9/20\n",
      "459/459 [==============================] - 6s 13ms/step - loss: 0.1299 - mse: 0.0341\n",
      "Epoch 10/20\n",
      "459/459 [==============================] - 6s 13ms/step - loss: 0.1246 - mse: 0.0326\n",
      "Epoch 11/20\n",
      "459/459 [==============================] - 6s 13ms/step - loss: 0.1205 - mse: 0.0315\n",
      "Epoch 12/20\n",
      "459/459 [==============================] - 6s 13ms/step - loss: 0.1167 - mse: 0.0307\n",
      "Epoch 13/20\n",
      "459/459 [==============================] - 6s 13ms/step - loss: 0.1133 - mse: 0.0297\n",
      "Epoch 14/20\n",
      "459/459 [==============================] - 6s 13ms/step - loss: 0.1114 - mse: 0.0292\n",
      "Epoch 15/20\n",
      "459/459 [==============================] - 6s 13ms/step - loss: 0.1099 - mse: 0.0288\n",
      "Epoch 16/20\n",
      "459/459 [==============================] - 6s 13ms/step - loss: 0.1079 - mse: 0.0282\n",
      "Epoch 17/20\n",
      "459/459 [==============================] - 6s 13ms/step - loss: 0.1064 - mse: 0.0278\n",
      "Epoch 18/20\n",
      "459/459 [==============================] - 6s 13ms/step - loss: 0.1049 - mse: 0.0275\n",
      "Epoch 19/20\n",
      "459/459 [==============================] - 6s 13ms/step - loss: 0.1044 - mse: 0.0272\n",
      "Epoch 20/20\n",
      "459/459 [==============================] - 6s 13ms/step - loss: 0.1037 - mse: 0.0270\n"
     ]
    },
    {
     "name": "stderr",
     "output_type": "stream",
     "text": [
      "WARNING:absl:Found untraced functions such as _jit_compiled_convolution_op, _jit_compiled_convolution_op, _jit_compiled_convolution_op, _jit_compiled_convolution_op while saving (showing 4 of 4). These functions will not be directly callable after loading.\n"
     ]
    },
    {
     "name": "stdout",
     "output_type": "stream",
     "text": [
      "INFO:tensorflow:Assets written to: .\\auto_model\\best_model\\assets\n"
     ]
    },
    {
     "name": "stderr",
     "output_type": "stream",
     "text": [
      "INFO:tensorflow:Assets written to: .\\auto_model\\best_model\\assets\n"
     ]
    },
    {
     "name": "stdout",
     "output_type": "stream",
     "text": [
      "Reloading Tuner from .\\auto_model\\tuner0.json\n",
      "Epoch 1/20\n",
      "459/459 [==============================] - 6s 13ms/step - loss: 0.2628 - mse: 0.0973\n",
      "Epoch 2/20\n",
      "459/459 [==============================] - 6s 13ms/step - loss: 0.2318 - mse: 0.0757\n",
      "Epoch 3/20\n",
      "459/459 [==============================] - 6s 14ms/step - loss: 0.1943 - mse: 0.0593\n",
      "Epoch 4/20\n",
      "459/459 [==============================] - 6s 14ms/step - loss: 0.1718 - mse: 0.0496\n",
      "Epoch 5/20\n",
      "459/459 [==============================] - 6s 14ms/step - loss: 0.1529 - mse: 0.0423\n",
      "Epoch 6/20\n",
      "459/459 [==============================] - 6s 13ms/step - loss: 0.1415 - mse: 0.0382\n",
      "Epoch 7/20\n",
      "459/459 [==============================] - 6s 13ms/step - loss: 0.1341 - mse: 0.0358\n",
      "Epoch 8/20\n",
      "459/459 [==============================] - 6s 13ms/step - loss: 0.1281 - mse: 0.0338\n",
      "Epoch 9/20\n",
      "459/459 [==============================] - 6s 13ms/step - loss: 0.1233 - mse: 0.0325\n",
      "Epoch 10/20\n",
      "459/459 [==============================] - 6s 13ms/step - loss: 0.1192 - mse: 0.0315\n",
      "Epoch 11/20\n",
      "459/459 [==============================] - 6s 13ms/step - loss: 0.1159 - mse: 0.0304\n",
      "Epoch 12/20\n",
      "459/459 [==============================] - 6s 13ms/step - loss: 0.1130 - mse: 0.0297\n",
      "Epoch 13/20\n",
      "459/459 [==============================] - 6s 13ms/step - loss: 0.1110 - mse: 0.0294\n",
      "Epoch 14/20\n",
      "459/459 [==============================] - 6s 13ms/step - loss: 0.1095 - mse: 0.0289\n",
      "Epoch 15/20\n",
      "459/459 [==============================] - 6s 13ms/step - loss: 0.1078 - mse: 0.0286\n",
      "Epoch 16/20\n",
      "459/459 [==============================] - 6s 13ms/step - loss: 0.1069 - mse: 0.0282\n",
      "Epoch 17/20\n",
      "459/459 [==============================] - 6s 13ms/step - loss: 0.1058 - mse: 0.0278\n",
      "Epoch 18/20\n",
      "459/459 [==============================] - 6s 13ms/step - loss: 0.1048 - mse: 0.0276\n",
      "Epoch 19/20\n",
      "459/459 [==============================] - 6s 13ms/step - loss: 0.1038 - mse: 0.0271\n",
      "Epoch 20/20\n",
      "459/459 [==============================] - 6s 13ms/step - loss: 0.1031 - mse: 0.0270\n"
     ]
    },
    {
     "name": "stderr",
     "output_type": "stream",
     "text": [
      "WARNING:absl:Found untraced functions such as _jit_compiled_convolution_op, _jit_compiled_convolution_op, _jit_compiled_convolution_op, _jit_compiled_convolution_op while saving (showing 4 of 4). These functions will not be directly callable after loading.\n"
     ]
    },
    {
     "name": "stdout",
     "output_type": "stream",
     "text": [
      "INFO:tensorflow:Assets written to: .\\auto_model\\best_model\\assets\n"
     ]
    },
    {
     "name": "stderr",
     "output_type": "stream",
     "text": [
      "INFO:tensorflow:Assets written to: .\\auto_model\\best_model\\assets\n"
     ]
    },
    {
     "name": "stdout",
     "output_type": "stream",
     "text": [
      "Reloading Tuner from .\\auto_model\\tuner0.json\n",
      "Epoch 1/20\n",
      "459/459 [==============================] - 7s 13ms/step - loss: 0.2651 - mse: 0.1000\n",
      "Epoch 2/20\n",
      "459/459 [==============================] - 6s 13ms/step - loss: 0.2429 - mse: 0.0809\n",
      "Epoch 3/20\n",
      "459/459 [==============================] - 6s 13ms/step - loss: 0.2201 - mse: 0.0707\n",
      "Epoch 4/20\n",
      "459/459 [==============================] - 6s 13ms/step - loss: 0.1980 - mse: 0.0612\n",
      "Epoch 5/20\n",
      "459/459 [==============================] - 6s 13ms/step - loss: 0.1831 - mse: 0.0543\n",
      "Epoch 6/20\n",
      "459/459 [==============================] - 6s 13ms/step - loss: 0.1685 - mse: 0.0482\n",
      "Epoch 7/20\n",
      "459/459 [==============================] - 6s 13ms/step - loss: 0.1543 - mse: 0.0427\n",
      "Epoch 8/20\n",
      "459/459 [==============================] - 6s 13ms/step - loss: 0.1431 - mse: 0.0387\n",
      "Epoch 9/20\n",
      "459/459 [==============================] - 6s 13ms/step - loss: 0.1361 - mse: 0.0361\n",
      "Epoch 10/20\n",
      "459/459 [==============================] - 6s 13ms/step - loss: 0.1300 - mse: 0.0341\n",
      "Epoch 11/20\n",
      "459/459 [==============================] - 6s 13ms/step - loss: 0.1257 - mse: 0.0329\n",
      "Epoch 12/20\n",
      "459/459 [==============================] - 6s 13ms/step - loss: 0.1216 - mse: 0.0317\n",
      "Epoch 13/20\n",
      "459/459 [==============================] - 6s 13ms/step - loss: 0.1186 - mse: 0.0311\n",
      "Epoch 14/20\n",
      "459/459 [==============================] - 6s 13ms/step - loss: 0.1159 - mse: 0.0303\n",
      "Epoch 15/20\n",
      "459/459 [==============================] - 6s 13ms/step - loss: 0.1128 - mse: 0.0295\n",
      "Epoch 16/20\n",
      "459/459 [==============================] - 6s 13ms/step - loss: 0.1107 - mse: 0.0288\n",
      "Epoch 17/20\n",
      "459/459 [==============================] - 6s 13ms/step - loss: 0.1091 - mse: 0.0284\n",
      "Epoch 18/20\n",
      "459/459 [==============================] - 6s 13ms/step - loss: 0.1076 - mse: 0.0281\n",
      "Epoch 19/20\n",
      "459/459 [==============================] - 6s 13ms/step - loss: 0.1064 - mse: 0.0276\n",
      "Epoch 20/20\n",
      "459/459 [==============================] - 6s 13ms/step - loss: 0.1055 - mse: 0.0274\n"
     ]
    },
    {
     "name": "stderr",
     "output_type": "stream",
     "text": [
      "WARNING:absl:Found untraced functions such as _jit_compiled_convolution_op, _jit_compiled_convolution_op, _jit_compiled_convolution_op, _jit_compiled_convolution_op while saving (showing 4 of 4). These functions will not be directly callable after loading.\n"
     ]
    },
    {
     "name": "stdout",
     "output_type": "stream",
     "text": [
      "INFO:tensorflow:Assets written to: .\\auto_model\\best_model\\assets\n"
     ]
    },
    {
     "name": "stderr",
     "output_type": "stream",
     "text": [
      "INFO:tensorflow:Assets written to: .\\auto_model\\best_model\\assets\n"
     ]
    },
    {
     "name": "stdout",
     "output_type": "stream",
     "text": [
      "Reloading Tuner from .\\auto_model\\tuner0.json\n",
      "Epoch 1/20\n",
      "459/459 [==============================] - 7s 13ms/step - loss: 0.2651 - mse: 0.0994\n",
      "Epoch 2/20\n",
      "459/459 [==============================] - 6s 13ms/step - loss: 0.2429 - mse: 0.0812\n",
      "Epoch 3/20\n",
      "459/459 [==============================] - 6s 13ms/step - loss: 0.2148 - mse: 0.0687\n",
      "Epoch 4/20\n",
      "459/459 [==============================] - 6s 13ms/step - loss: 0.1947 - mse: 0.0596\n",
      "Epoch 5/20\n",
      "459/459 [==============================] - 6s 13ms/step - loss: 0.1803 - mse: 0.0530\n",
      "Epoch 6/20\n",
      "459/459 [==============================] - 6s 13ms/step - loss: 0.1650 - mse: 0.0471\n",
      "Epoch 7/20\n",
      "459/459 [==============================] - 6s 13ms/step - loss: 0.1524 - mse: 0.0422\n",
      "Epoch 8/20\n",
      "459/459 [==============================] - 6s 13ms/step - loss: 0.1437 - mse: 0.0391\n",
      "Epoch 9/20\n",
      "459/459 [==============================] - 6s 13ms/step - loss: 0.1358 - mse: 0.0365\n",
      "Epoch 10/20\n",
      "459/459 [==============================] - 6s 13ms/step - loss: 0.1314 - mse: 0.0351\n",
      "Epoch 11/20\n",
      "459/459 [==============================] - 6s 13ms/step - loss: 0.1265 - mse: 0.0336\n",
      "Epoch 12/20\n",
      "459/459 [==============================] - 6s 13ms/step - loss: 0.1227 - mse: 0.0326\n",
      "Epoch 13/20\n",
      "459/459 [==============================] - 6s 13ms/step - loss: 0.1188 - mse: 0.0316\n",
      "Epoch 14/20\n",
      "459/459 [==============================] - 6s 13ms/step - loss: 0.1156 - mse: 0.0308\n",
      "Epoch 15/20\n",
      "459/459 [==============================] - 6s 13ms/step - loss: 0.1126 - mse: 0.0301\n",
      "Epoch 16/20\n",
      "459/459 [==============================] - 6s 13ms/step - loss: 0.1106 - mse: 0.0295\n",
      "Epoch 17/20\n",
      "459/459 [==============================] - 6s 13ms/step - loss: 0.1083 - mse: 0.0288\n",
      "Epoch 18/20\n",
      "459/459 [==============================] - 6s 13ms/step - loss: 0.1072 - mse: 0.0286\n",
      "Epoch 19/20\n",
      "459/459 [==============================] - 6s 13ms/step - loss: 0.1059 - mse: 0.0282\n",
      "Epoch 20/20\n",
      "459/459 [==============================] - 6s 13ms/step - loss: 0.1044 - mse: 0.0276\n"
     ]
    },
    {
     "name": "stderr",
     "output_type": "stream",
     "text": [
      "WARNING:absl:Found untraced functions such as _jit_compiled_convolution_op, _jit_compiled_convolution_op, _jit_compiled_convolution_op, _jit_compiled_convolution_op while saving (showing 4 of 4). These functions will not be directly callable after loading.\n"
     ]
    },
    {
     "name": "stdout",
     "output_type": "stream",
     "text": [
      "INFO:tensorflow:Assets written to: .\\auto_model\\best_model\\assets\n"
     ]
    },
    {
     "name": "stderr",
     "output_type": "stream",
     "text": [
      "INFO:tensorflow:Assets written to: .\\auto_model\\best_model\\assets\n"
     ]
    },
    {
     "name": "stdout",
     "output_type": "stream",
     "text": [
      "Reloading Tuner from .\\auto_model\\tuner0.json\n",
      "Epoch 1/20\n",
      "459/459 [==============================] - 7s 13ms/step - loss: 0.2634 - mse: 0.0986\n",
      "Epoch 2/20\n",
      "459/459 [==============================] - 6s 13ms/step - loss: 0.2418 - mse: 0.0808\n",
      "Epoch 3/20\n",
      "459/459 [==============================] - 6s 13ms/step - loss: 0.2231 - mse: 0.0728\n",
      "Epoch 4/20\n",
      "459/459 [==============================] - 6s 13ms/step - loss: 0.2080 - mse: 0.0663\n",
      "Epoch 5/20\n",
      "459/459 [==============================] - 6s 13ms/step - loss: 0.1997 - mse: 0.0621\n",
      "Epoch 6/20\n",
      "459/459 [==============================] - 6s 13ms/step - loss: 0.1910 - mse: 0.0576\n",
      "Epoch 7/20\n",
      "459/459 [==============================] - 6s 13ms/step - loss: 0.1807 - mse: 0.0528\n",
      "Epoch 8/20\n",
      "459/459 [==============================] - 6s 13ms/step - loss: 0.1653 - mse: 0.0465\n",
      "Epoch 9/20\n",
      "459/459 [==============================] - 6s 13ms/step - loss: 0.1512 - mse: 0.0413\n",
      "Epoch 10/20\n",
      "459/459 [==============================] - 6s 13ms/step - loss: 0.1412 - mse: 0.0379\n",
      "Epoch 11/20\n",
      "459/459 [==============================] - 6s 13ms/step - loss: 0.1337 - mse: 0.0356\n",
      "Epoch 12/20\n",
      "459/459 [==============================] - 6s 13ms/step - loss: 0.1288 - mse: 0.0341\n",
      "Epoch 13/20\n",
      "459/459 [==============================] - 6s 13ms/step - loss: 0.1240 - mse: 0.0328\n",
      "Epoch 14/20\n",
      "459/459 [==============================] - 6s 13ms/step - loss: 0.1190 - mse: 0.0314\n",
      "Epoch 15/20\n",
      "459/459 [==============================] - 6s 13ms/step - loss: 0.1148 - mse: 0.0302\n",
      "Epoch 16/20\n",
      "459/459 [==============================] - 6s 13ms/step - loss: 0.1105 - mse: 0.0290\n",
      "Epoch 17/20\n",
      "459/459 [==============================] - 6s 13ms/step - loss: 0.1071 - mse: 0.0282\n",
      "Epoch 18/20\n",
      "459/459 [==============================] - 6s 13ms/step - loss: 0.1042 - mse: 0.0274\n",
      "Epoch 19/20\n",
      "459/459 [==============================] - 6s 13ms/step - loss: 0.1022 - mse: 0.0266\n",
      "Epoch 20/20\n",
      "459/459 [==============================] - 6s 13ms/step - loss: 0.1009 - mse: 0.0262\n"
     ]
    },
    {
     "name": "stderr",
     "output_type": "stream",
     "text": [
      "WARNING:absl:Found untraced functions such as _jit_compiled_convolution_op, _jit_compiled_convolution_op, _jit_compiled_convolution_op, _jit_compiled_convolution_op while saving (showing 4 of 4). These functions will not be directly callable after loading.\n"
     ]
    },
    {
     "name": "stdout",
     "output_type": "stream",
     "text": [
      "INFO:tensorflow:Assets written to: .\\auto_model\\best_model\\assets\n"
     ]
    },
    {
     "name": "stderr",
     "output_type": "stream",
     "text": [
      "INFO:tensorflow:Assets written to: .\\auto_model\\best_model\\assets\n"
     ]
    },
    {
     "name": "stdout",
     "output_type": "stream",
     "text": [
      "Reloading Tuner from .\\auto_model\\tuner0.json\n",
      "Epoch 1/20\n",
      "459/459 [==============================] - 7s 14ms/step - loss: 0.2666 - mse: 0.1016\n",
      "Epoch 2/20\n",
      "459/459 [==============================] - 6s 13ms/step - loss: 0.2405 - mse: 0.0799\n",
      "Epoch 3/20\n",
      "459/459 [==============================] - 6s 13ms/step - loss: 0.2113 - mse: 0.0672\n",
      "Epoch 4/20\n",
      "459/459 [==============================] - 6s 13ms/step - loss: 0.1909 - mse: 0.0580\n",
      "Epoch 5/20\n",
      "459/459 [==============================] - 6s 13ms/step - loss: 0.1769 - mse: 0.0520\n",
      "Epoch 6/20\n",
      "459/459 [==============================] - 6s 13ms/step - loss: 0.1624 - mse: 0.0461\n",
      "Epoch 7/20\n",
      "459/459 [==============================] - 6s 13ms/step - loss: 0.1510 - mse: 0.0417\n",
      "Epoch 8/20\n",
      "459/459 [==============================] - 6s 13ms/step - loss: 0.1422 - mse: 0.0383\n",
      "Epoch 9/20\n",
      "459/459 [==============================] - 6s 13ms/step - loss: 0.1354 - mse: 0.0358\n",
      "Epoch 10/20\n",
      "459/459 [==============================] - 6s 13ms/step - loss: 0.1307 - mse: 0.0343\n",
      "Epoch 11/20\n",
      "459/459 [==============================] - 6s 13ms/step - loss: 0.1255 - mse: 0.0327\n",
      "Epoch 12/20\n",
      "459/459 [==============================] - 6s 13ms/step - loss: 0.1222 - mse: 0.0319\n",
      "Epoch 13/20\n",
      "459/459 [==============================] - 6s 13ms/step - loss: 0.1188 - mse: 0.0309\n",
      "Epoch 14/20\n",
      "459/459 [==============================] - 6s 13ms/step - loss: 0.1168 - mse: 0.0306\n",
      "Epoch 15/20\n",
      "459/459 [==============================] - 6s 13ms/step - loss: 0.1143 - mse: 0.0300\n",
      "Epoch 16/20\n",
      "459/459 [==============================] - 6s 13ms/step - loss: 0.1127 - mse: 0.0294\n",
      "Epoch 17/20\n",
      "459/459 [==============================] - 6s 13ms/step - loss: 0.1110 - mse: 0.0291\n",
      "Epoch 18/20\n",
      "459/459 [==============================] - 6s 13ms/step - loss: 0.1094 - mse: 0.0286\n",
      "Epoch 19/20\n",
      "459/459 [==============================] - 6s 13ms/step - loss: 0.1087 - mse: 0.0284\n",
      "Epoch 20/20\n",
      "459/459 [==============================] - 6s 13ms/step - loss: 0.1069 - mse: 0.0277\n"
     ]
    },
    {
     "name": "stderr",
     "output_type": "stream",
     "text": [
      "WARNING:absl:Found untraced functions such as _jit_compiled_convolution_op, _jit_compiled_convolution_op, _jit_compiled_convolution_op, _jit_compiled_convolution_op while saving (showing 4 of 4). These functions will not be directly callable after loading.\n"
     ]
    },
    {
     "name": "stdout",
     "output_type": "stream",
     "text": [
      "INFO:tensorflow:Assets written to: .\\auto_model\\best_model\\assets\n"
     ]
    },
    {
     "name": "stderr",
     "output_type": "stream",
     "text": [
      "INFO:tensorflow:Assets written to: .\\auto_model\\best_model\\assets\n"
     ]
    },
    {
     "name": "stdout",
     "output_type": "stream",
     "text": [
      "Reloading Tuner from .\\auto_model\\tuner0.json\n",
      "Epoch 1/20\n",
      "459/459 [==============================] - 7s 13ms/step - loss: 0.2625 - mse: 0.0980\n",
      "Epoch 2/20\n",
      "459/459 [==============================] - 6s 13ms/step - loss: 0.2383 - mse: 0.0786\n",
      "Epoch 3/20\n",
      "459/459 [==============================] - 6s 13ms/step - loss: 0.2079 - mse: 0.0656\n",
      "Epoch 4/20\n",
      "459/459 [==============================] - 6s 13ms/step - loss: 0.1888 - mse: 0.0569\n",
      "Epoch 5/20\n",
      "459/459 [==============================] - 6s 13ms/step - loss: 0.1734 - mse: 0.0500\n",
      "Epoch 6/20\n",
      "459/459 [==============================] - 6s 13ms/step - loss: 0.1581 - mse: 0.0442\n",
      "Epoch 7/20\n",
      "459/459 [==============================] - 6s 13ms/step - loss: 0.1466 - mse: 0.0398\n",
      "Epoch 8/20\n",
      "459/459 [==============================] - 6s 13ms/step - loss: 0.1394 - mse: 0.0373\n",
      "Epoch 9/20\n",
      "459/459 [==============================] - 6s 13ms/step - loss: 0.1326 - mse: 0.0351\n",
      "Epoch 10/20\n",
      "459/459 [==============================] - 6s 13ms/step - loss: 0.1277 - mse: 0.0336\n",
      "Epoch 11/20\n",
      "459/459 [==============================] - 6s 13ms/step - loss: 0.1227 - mse: 0.0322\n",
      "Epoch 12/20\n",
      "459/459 [==============================] - 6s 13ms/step - loss: 0.1187 - mse: 0.0311\n",
      "Epoch 13/20\n",
      "459/459 [==============================] - 6s 13ms/step - loss: 0.1157 - mse: 0.0302\n",
      "Epoch 14/20\n",
      "459/459 [==============================] - 6s 13ms/step - loss: 0.1133 - mse: 0.0298\n",
      "Epoch 15/20\n",
      "459/459 [==============================] - 6s 13ms/step - loss: 0.1111 - mse: 0.0292\n",
      "Epoch 16/20\n",
      "459/459 [==============================] - 6s 13ms/step - loss: 0.1091 - mse: 0.0286\n",
      "Epoch 17/20\n",
      "459/459 [==============================] - 6s 13ms/step - loss: 0.1081 - mse: 0.0281\n",
      "Epoch 18/20\n",
      "459/459 [==============================] - 6s 13ms/step - loss: 0.1069 - mse: 0.0280\n",
      "Epoch 19/20\n",
      "459/459 [==============================] - 6s 13ms/step - loss: 0.1060 - mse: 0.0277\n",
      "Epoch 20/20\n",
      "459/459 [==============================] - 6s 13ms/step - loss: 0.1050 - mse: 0.0273\n"
     ]
    },
    {
     "name": "stderr",
     "output_type": "stream",
     "text": [
      "WARNING:absl:Found untraced functions such as _jit_compiled_convolution_op, _jit_compiled_convolution_op, _jit_compiled_convolution_op, _jit_compiled_convolution_op while saving (showing 4 of 4). These functions will not be directly callable after loading.\n"
     ]
    },
    {
     "name": "stdout",
     "output_type": "stream",
     "text": [
      "INFO:tensorflow:Assets written to: .\\auto_model\\best_model\\assets\n"
     ]
    },
    {
     "name": "stderr",
     "output_type": "stream",
     "text": [
      "INFO:tensorflow:Assets written to: .\\auto_model\\best_model\\assets\n"
     ]
    },
    {
     "name": "stdout",
     "output_type": "stream",
     "text": [
      "Reloading Tuner from .\\auto_model\\tuner0.json\n",
      "Epoch 1/20\n",
      "459/459 [==============================] - 7s 13ms/step - loss: 0.2665 - mse: 0.1017\n",
      "Epoch 2/20\n",
      "459/459 [==============================] - 6s 13ms/step - loss: 0.2381 - mse: 0.0786\n",
      "Epoch 3/20\n",
      "459/459 [==============================] - 6s 13ms/step - loss: 0.2039 - mse: 0.0637\n",
      "Epoch 4/20\n",
      "459/459 [==============================] - 6s 13ms/step - loss: 0.1836 - mse: 0.0545\n",
      "Epoch 5/20\n",
      "459/459 [==============================] - 6s 13ms/step - loss: 0.1654 - mse: 0.0467\n",
      "Epoch 6/20\n",
      "459/459 [==============================] - 6s 13ms/step - loss: 0.1513 - mse: 0.0414\n",
      "Epoch 7/20\n",
      "459/459 [==============================] - 6s 13ms/step - loss: 0.1418 - mse: 0.0379\n",
      "Epoch 8/20\n",
      "459/459 [==============================] - 6s 13ms/step - loss: 0.1351 - mse: 0.0358\n",
      "Epoch 9/20\n",
      "459/459 [==============================] - 6s 14ms/step - loss: 0.1306 - mse: 0.0340\n",
      "Epoch 10/20\n",
      "459/459 [==============================] - 6s 14ms/step - loss: 0.1273 - mse: 0.0332\n",
      "Epoch 11/20\n",
      "459/459 [==============================] - 6s 13ms/step - loss: 0.1241 - mse: 0.0324\n",
      "Epoch 12/20\n",
      "459/459 [==============================] - 6s 14ms/step - loss: 0.1216 - mse: 0.0317\n",
      "Epoch 13/20\n",
      "459/459 [==============================] - 6s 13ms/step - loss: 0.1193 - mse: 0.0309\n",
      "Epoch 14/20\n",
      "459/459 [==============================] - 6s 13ms/step - loss: 0.1169 - mse: 0.0305\n",
      "Epoch 15/20\n",
      "459/459 [==============================] - 6s 13ms/step - loss: 0.1152 - mse: 0.0300\n",
      "Epoch 16/20\n",
      "459/459 [==============================] - 6s 13ms/step - loss: 0.1131 - mse: 0.0295\n",
      "Epoch 17/20\n",
      "459/459 [==============================] - 6s 13ms/step - loss: 0.1117 - mse: 0.0291\n",
      "Epoch 18/20\n",
      "459/459 [==============================] - 6s 13ms/step - loss: 0.1103 - mse: 0.0287\n",
      "Epoch 19/20\n",
      "459/459 [==============================] - 6s 13ms/step - loss: 0.1091 - mse: 0.0285\n",
      "Epoch 20/20\n",
      "459/459 [==============================] - 6s 13ms/step - loss: 0.1071 - mse: 0.0278\n"
     ]
    },
    {
     "name": "stderr",
     "output_type": "stream",
     "text": [
      "WARNING:absl:Found untraced functions such as _jit_compiled_convolution_op, _jit_compiled_convolution_op, _jit_compiled_convolution_op, _jit_compiled_convolution_op while saving (showing 4 of 4). These functions will not be directly callable after loading.\n"
     ]
    },
    {
     "name": "stdout",
     "output_type": "stream",
     "text": [
      "INFO:tensorflow:Assets written to: .\\auto_model\\best_model\\assets\n"
     ]
    },
    {
     "name": "stderr",
     "output_type": "stream",
     "text": [
      "INFO:tensorflow:Assets written to: .\\auto_model\\best_model\\assets\n"
     ]
    },
    {
     "name": "stdout",
     "output_type": "stream",
     "text": [
      "Reloading Tuner from .\\auto_model\\tuner0.json\n",
      "Epoch 1/20\n",
      "459/459 [==============================] - 7s 14ms/step - loss: 0.2668 - mse: 0.1016\n",
      "Epoch 2/20\n",
      "459/459 [==============================] - 6s 13ms/step - loss: 0.2409 - mse: 0.0797\n",
      "Epoch 3/20\n",
      "459/459 [==============================] - 6s 13ms/step - loss: 0.2063 - mse: 0.0646\n",
      "Epoch 4/20\n",
      "459/459 [==============================] - 6s 13ms/step - loss: 0.1838 - mse: 0.0542\n",
      "Epoch 5/20\n",
      "459/459 [==============================] - 6s 13ms/step - loss: 0.1624 - mse: 0.0456\n",
      "Epoch 6/20\n",
      "459/459 [==============================] - 6s 13ms/step - loss: 0.1478 - mse: 0.0402\n",
      "Epoch 7/20\n",
      "459/459 [==============================] - 6s 13ms/step - loss: 0.1382 - mse: 0.0366\n",
      "Epoch 8/20\n",
      "459/459 [==============================] - 6s 13ms/step - loss: 0.1318 - mse: 0.0346\n",
      "Epoch 9/20\n",
      "459/459 [==============================] - 6s 13ms/step - loss: 0.1270 - mse: 0.0330\n",
      "Epoch 10/20\n",
      "459/459 [==============================] - 6s 13ms/step - loss: 0.1220 - mse: 0.0316\n",
      "Epoch 11/20\n",
      "459/459 [==============================] - 6s 13ms/step - loss: 0.1185 - mse: 0.0307\n",
      "Epoch 12/20\n",
      "459/459 [==============================] - 6s 13ms/step - loss: 0.1147 - mse: 0.0297\n",
      "Epoch 13/20\n",
      "459/459 [==============================] - 6s 13ms/step - loss: 0.1115 - mse: 0.0289\n",
      "Epoch 14/20\n",
      "459/459 [==============================] - 6s 13ms/step - loss: 0.1090 - mse: 0.0281\n",
      "Epoch 15/20\n",
      "459/459 [==============================] - 6s 13ms/step - loss: 0.1075 - mse: 0.0279\n",
      "Epoch 16/20\n",
      "459/459 [==============================] - 6s 13ms/step - loss: 0.1059 - mse: 0.0273\n",
      "Epoch 17/20\n",
      "459/459 [==============================] - 6s 13ms/step - loss: 0.1046 - mse: 0.0270\n",
      "Epoch 18/20\n",
      "459/459 [==============================] - 6s 13ms/step - loss: 0.1030 - mse: 0.0265\n",
      "Epoch 19/20\n",
      "459/459 [==============================] - 6s 13ms/step - loss: 0.1018 - mse: 0.0261\n",
      "Epoch 20/20\n",
      "459/459 [==============================] - 6s 13ms/step - loss: 0.1009 - mse: 0.0259\n"
     ]
    },
    {
     "name": "stderr",
     "output_type": "stream",
     "text": [
      "WARNING:absl:Found untraced functions such as _jit_compiled_convolution_op, _jit_compiled_convolution_op, _jit_compiled_convolution_op, _jit_compiled_convolution_op while saving (showing 4 of 4). These functions will not be directly callable after loading.\n"
     ]
    },
    {
     "name": "stdout",
     "output_type": "stream",
     "text": [
      "INFO:tensorflow:Assets written to: .\\auto_model\\best_model\\assets\n"
     ]
    },
    {
     "name": "stderr",
     "output_type": "stream",
     "text": [
      "INFO:tensorflow:Assets written to: .\\auto_model\\best_model\\assets\n"
     ]
    },
    {
     "name": "stdout",
     "output_type": "stream",
     "text": [
      "Reloading Tuner from .\\auto_model\\tuner0.json\n",
      "Epoch 1/20\n",
      "459/459 [==============================] - 7s 14ms/step - loss: 0.2651 - mse: 0.1001\n",
      "Epoch 2/20\n",
      "459/459 [==============================] - 6s 13ms/step - loss: 0.2379 - mse: 0.0784\n",
      "Epoch 3/20\n",
      "459/459 [==============================] - 6s 13ms/step - loss: 0.1998 - mse: 0.0620\n",
      "Epoch 4/20\n",
      "459/459 [==============================] - 6s 13ms/step - loss: 0.1779 - mse: 0.0522\n",
      "Epoch 5/20\n",
      "459/459 [==============================] - 6s 13ms/step - loss: 0.1604 - mse: 0.0453\n",
      "Epoch 6/20\n",
      "459/459 [==============================] - 6s 13ms/step - loss: 0.1486 - mse: 0.0411\n",
      "Epoch 7/20\n",
      "459/459 [==============================] - 6s 13ms/step - loss: 0.1411 - mse: 0.0382\n",
      "Epoch 8/20\n",
      "459/459 [==============================] - 6s 13ms/step - loss: 0.1355 - mse: 0.0362\n",
      "Epoch 9/20\n",
      "459/459 [==============================] - 6s 13ms/step - loss: 0.1315 - mse: 0.0350\n",
      "Epoch 10/20\n",
      "459/459 [==============================] - 6s 13ms/step - loss: 0.1283 - mse: 0.0338\n",
      "Epoch 11/20\n",
      "459/459 [==============================] - 6s 13ms/step - loss: 0.1257 - mse: 0.0331\n",
      "Epoch 12/20\n",
      "459/459 [==============================] - 6s 13ms/step - loss: 0.1232 - mse: 0.0326\n",
      "Epoch 13/20\n",
      "459/459 [==============================] - 6s 13ms/step - loss: 0.1210 - mse: 0.0320\n",
      "Epoch 14/20\n",
      "459/459 [==============================] - 6s 13ms/step - loss: 0.1198 - mse: 0.0318\n",
      "Epoch 15/20\n",
      "459/459 [==============================] - 6s 13ms/step - loss: 0.1180 - mse: 0.0312\n",
      "Epoch 16/20\n",
      "459/459 [==============================] - 6s 13ms/step - loss: 0.1164 - mse: 0.0307\n",
      "Epoch 17/20\n",
      "459/459 [==============================] - 6s 14ms/step - loss: 0.1156 - mse: 0.0305\n",
      "Epoch 18/20\n",
      "459/459 [==============================] - 6s 13ms/step - loss: 0.1137 - mse: 0.0300\n",
      "Epoch 19/20\n",
      "459/459 [==============================] - 6s 13ms/step - loss: 0.1129 - mse: 0.0298\n",
      "Epoch 20/20\n",
      "459/459 [==============================] - 6s 13ms/step - loss: 0.1120 - mse: 0.0296\n"
     ]
    },
    {
     "name": "stderr",
     "output_type": "stream",
     "text": [
      "WARNING:absl:Found untraced functions such as _jit_compiled_convolution_op, _jit_compiled_convolution_op, _jit_compiled_convolution_op, _jit_compiled_convolution_op while saving (showing 4 of 4). These functions will not be directly callable after loading.\n"
     ]
    },
    {
     "name": "stdout",
     "output_type": "stream",
     "text": [
      "INFO:tensorflow:Assets written to: .\\auto_model\\best_model\\assets\n"
     ]
    },
    {
     "name": "stderr",
     "output_type": "stream",
     "text": [
      "INFO:tensorflow:Assets written to: .\\auto_model\\best_model\\assets\n"
     ]
    },
    {
     "name": "stdout",
     "output_type": "stream",
     "text": [
      "Reloading Tuner from .\\auto_model\\tuner0.json\n",
      "Epoch 1/20\n",
      "459/459 [==============================] - 7s 13ms/step - loss: 0.2592 - mse: 0.0949\n",
      "Epoch 2/20\n",
      "459/459 [==============================] - 6s 13ms/step - loss: 0.2401 - mse: 0.0799\n",
      "Epoch 3/20\n",
      "459/459 [==============================] - 6s 13ms/step - loss: 0.2141 - mse: 0.0688\n",
      "Epoch 4/20\n",
      "459/459 [==============================] - 6s 13ms/step - loss: 0.1962 - mse: 0.0606\n",
      "Epoch 5/20\n",
      "459/459 [==============================] - 6s 13ms/step - loss: 0.1832 - mse: 0.0544\n",
      "Epoch 6/20\n",
      "459/459 [==============================] - 6s 13ms/step - loss: 0.1692 - mse: 0.0486\n",
      "Epoch 7/20\n",
      "459/459 [==============================] - 6s 13ms/step - loss: 0.1566 - mse: 0.0439\n",
      "Epoch 8/20\n",
      "459/459 [==============================] - 6s 13ms/step - loss: 0.1473 - mse: 0.0405\n",
      "Epoch 9/20\n",
      "459/459 [==============================] - 6s 13ms/step - loss: 0.1405 - mse: 0.0378\n",
      "Epoch 10/20\n",
      "459/459 [==============================] - 6s 13ms/step - loss: 0.1353 - mse: 0.0361\n",
      "Epoch 11/20\n",
      "459/459 [==============================] - 6s 13ms/step - loss: 0.1316 - mse: 0.0349\n",
      "Epoch 12/20\n",
      "459/459 [==============================] - 6s 13ms/step - loss: 0.1285 - mse: 0.0340\n",
      "Epoch 13/20\n",
      "459/459 [==============================] - 6s 13ms/step - loss: 0.1256 - mse: 0.0331\n",
      "Epoch 14/20\n",
      "459/459 [==============================] - 6s 13ms/step - loss: 0.1239 - mse: 0.0327\n",
      "Epoch 15/20\n",
      "459/459 [==============================] - 6s 13ms/step - loss: 0.1215 - mse: 0.0321\n",
      "Epoch 16/20\n",
      "459/459 [==============================] - 6s 13ms/step - loss: 0.1200 - mse: 0.0317\n",
      "Epoch 17/20\n",
      "459/459 [==============================] - 6s 13ms/step - loss: 0.1177 - mse: 0.0311\n",
      "Epoch 18/20\n",
      "459/459 [==============================] - 6s 13ms/step - loss: 0.1166 - mse: 0.0307\n",
      "Epoch 19/20\n",
      "459/459 [==============================] - 6s 13ms/step - loss: 0.1152 - mse: 0.0305\n",
      "Epoch 20/20\n",
      "459/459 [==============================] - 6s 13ms/step - loss: 0.1140 - mse: 0.0302\n"
     ]
    },
    {
     "name": "stderr",
     "output_type": "stream",
     "text": [
      "WARNING:absl:Found untraced functions such as _jit_compiled_convolution_op, _jit_compiled_convolution_op, _jit_compiled_convolution_op, _jit_compiled_convolution_op while saving (showing 4 of 4). These functions will not be directly callable after loading.\n"
     ]
    },
    {
     "name": "stdout",
     "output_type": "stream",
     "text": [
      "INFO:tensorflow:Assets written to: .\\auto_model\\best_model\\assets\n"
     ]
    },
    {
     "name": "stderr",
     "output_type": "stream",
     "text": [
      "INFO:tensorflow:Assets written to: .\\auto_model\\best_model\\assets\n"
     ]
    },
    {
     "name": "stdout",
     "output_type": "stream",
     "text": [
      "Reloading Tuner from .\\auto_model\\tuner0.json\n",
      "Epoch 1/20\n",
      "459/459 [==============================] - 7s 14ms/step - loss: 0.2659 - mse: 0.1008\n",
      "Epoch 2/20\n",
      "459/459 [==============================] - 6s 13ms/step - loss: 0.2347 - mse: 0.0771\n",
      "Epoch 3/20\n",
      "459/459 [==============================] - 6s 13ms/step - loss: 0.1976 - mse: 0.0612\n",
      "Epoch 4/20\n",
      "459/459 [==============================] - 6s 13ms/step - loss: 0.1761 - mse: 0.0515\n",
      "Epoch 5/20\n",
      "459/459 [==============================] - 6s 13ms/step - loss: 0.1581 - mse: 0.0444\n",
      "Epoch 6/20\n",
      "459/459 [==============================] - 6s 13ms/step - loss: 0.1463 - mse: 0.0398\n",
      "Epoch 7/20\n",
      "459/459 [==============================] - 6s 13ms/step - loss: 0.1383 - mse: 0.0369\n",
      "Epoch 8/20\n",
      "459/459 [==============================] - 6s 13ms/step - loss: 0.1322 - mse: 0.0348\n",
      "Epoch 9/20\n",
      "459/459 [==============================] - 6s 13ms/step - loss: 0.1275 - mse: 0.0334\n",
      "Epoch 10/20\n",
      "459/459 [==============================] - 6s 13ms/step - loss: 0.1235 - mse: 0.0324\n",
      "Epoch 11/20\n",
      "459/459 [==============================] - 6s 13ms/step - loss: 0.1203 - mse: 0.0314\n",
      "Epoch 12/20\n",
      "459/459 [==============================] - 6s 13ms/step - loss: 0.1169 - mse: 0.0306\n",
      "Epoch 13/20\n",
      "459/459 [==============================] - 6s 13ms/step - loss: 0.1153 - mse: 0.0302\n",
      "Epoch 14/20\n",
      "459/459 [==============================] - 6s 13ms/step - loss: 0.1129 - mse: 0.0295\n",
      "Epoch 15/20\n",
      "459/459 [==============================] - 6s 13ms/step - loss: 0.1110 - mse: 0.0288\n",
      "Epoch 16/20\n",
      "459/459 [==============================] - 6s 13ms/step - loss: 0.1096 - mse: 0.0284\n",
      "Epoch 17/20\n",
      "459/459 [==============================] - 6s 14ms/step - loss: 0.1085 - mse: 0.0281\n",
      "Epoch 18/20\n",
      "459/459 [==============================] - 6s 13ms/step - loss: 0.1072 - mse: 0.0277\n",
      "Epoch 19/20\n",
      "459/459 [==============================] - 6s 13ms/step - loss: 0.1059 - mse: 0.0273\n",
      "Epoch 20/20\n",
      "459/459 [==============================] - 6s 13ms/step - loss: 0.1053 - mse: 0.0272\n"
     ]
    },
    {
     "name": "stderr",
     "output_type": "stream",
     "text": [
      "WARNING:absl:Found untraced functions such as _jit_compiled_convolution_op, _jit_compiled_convolution_op, _jit_compiled_convolution_op, _jit_compiled_convolution_op while saving (showing 4 of 4). These functions will not be directly callable after loading.\n"
     ]
    },
    {
     "name": "stdout",
     "output_type": "stream",
     "text": [
      "INFO:tensorflow:Assets written to: .\\auto_model\\best_model\\assets\n"
     ]
    },
    {
     "name": "stderr",
     "output_type": "stream",
     "text": [
      "INFO:tensorflow:Assets written to: .\\auto_model\\best_model\\assets\n"
     ]
    },
    {
     "name": "stdout",
     "output_type": "stream",
     "text": [
      "Reloading Tuner from .\\auto_model\\tuner0.json\n",
      "Epoch 1/20\n",
      "459/459 [==============================] - 7s 14ms/step - loss: 0.2645 - mse: 0.0999\n",
      "Epoch 2/20\n",
      "459/459 [==============================] - 6s 13ms/step - loss: 0.2399 - mse: 0.0798\n",
      "Epoch 3/20\n",
      "459/459 [==============================] - 6s 13ms/step - loss: 0.2122 - mse: 0.0678\n",
      "Epoch 4/20\n",
      "459/459 [==============================] - 6s 13ms/step - loss: 0.1932 - mse: 0.0589\n",
      "Epoch 5/20\n",
      "459/459 [==============================] - 6s 13ms/step - loss: 0.1791 - mse: 0.0524\n",
      "Epoch 6/20\n",
      "459/459 [==============================] - 6s 13ms/step - loss: 0.1645 - mse: 0.0468\n",
      "Epoch 7/20\n",
      "459/459 [==============================] - 6s 13ms/step - loss: 0.1508 - mse: 0.0415\n",
      "Epoch 8/20\n",
      "459/459 [==============================] - 6s 13ms/step - loss: 0.1411 - mse: 0.0380\n",
      "Epoch 9/20\n",
      "459/459 [==============================] - 6s 13ms/step - loss: 0.1333 - mse: 0.0356\n",
      "Epoch 10/20\n",
      "459/459 [==============================] - 6s 13ms/step - loss: 0.1277 - mse: 0.0340\n",
      "Epoch 11/20\n",
      "459/459 [==============================] - 6s 13ms/step - loss: 0.1225 - mse: 0.0326\n",
      "Epoch 12/20\n",
      "459/459 [==============================] - 6s 13ms/step - loss: 0.1187 - mse: 0.0316\n",
      "Epoch 13/20\n",
      "459/459 [==============================] - 6s 13ms/step - loss: 0.1155 - mse: 0.0306\n",
      "Epoch 14/20\n",
      "459/459 [==============================] - 6s 13ms/step - loss: 0.1118 - mse: 0.0296\n",
      "Epoch 15/20\n",
      "459/459 [==============================] - 6s 13ms/step - loss: 0.1092 - mse: 0.0289\n",
      "Epoch 16/20\n",
      "459/459 [==============================] - 6s 13ms/step - loss: 0.1069 - mse: 0.0282\n",
      "Epoch 17/20\n",
      "459/459 [==============================] - 6s 13ms/step - loss: 0.1054 - mse: 0.0278\n",
      "Epoch 18/20\n",
      "459/459 [==============================] - 6s 13ms/step - loss: 0.1039 - mse: 0.0274\n",
      "Epoch 19/20\n",
      "459/459 [==============================] - 6s 13ms/step - loss: 0.1028 - mse: 0.0270\n",
      "Epoch 20/20\n",
      "459/459 [==============================] - 6s 13ms/step - loss: 0.1017 - mse: 0.0266\n"
     ]
    },
    {
     "name": "stderr",
     "output_type": "stream",
     "text": [
      "WARNING:absl:Found untraced functions such as _jit_compiled_convolution_op, _jit_compiled_convolution_op, _jit_compiled_convolution_op, _jit_compiled_convolution_op while saving (showing 4 of 4). These functions will not be directly callable after loading.\n"
     ]
    },
    {
     "name": "stdout",
     "output_type": "stream",
     "text": [
      "INFO:tensorflow:Assets written to: .\\auto_model\\best_model\\assets\n"
     ]
    },
    {
     "name": "stderr",
     "output_type": "stream",
     "text": [
      "INFO:tensorflow:Assets written to: .\\auto_model\\best_model\\assets\n"
     ]
    },
    {
     "name": "stdout",
     "output_type": "stream",
     "text": [
      "Reloading Tuner from .\\auto_model\\tuner0.json\n",
      "Epoch 1/20\n",
      "459/459 [==============================] - 7s 14ms/step - loss: 0.2681 - mse: 0.1025\n",
      "Epoch 2/20\n",
      "459/459 [==============================] - 6s 13ms/step - loss: 0.2376 - mse: 0.0782\n",
      "Epoch 3/20\n",
      "459/459 [==============================] - 6s 13ms/step - loss: 0.1960 - mse: 0.0604\n",
      "Epoch 4/20\n",
      "459/459 [==============================] - 6s 13ms/step - loss: 0.1771 - mse: 0.0517\n",
      "Epoch 5/20\n",
      "459/459 [==============================] - 6s 13ms/step - loss: 0.1607 - mse: 0.0452\n",
      "Epoch 6/20\n",
      "459/459 [==============================] - 6s 13ms/step - loss: 0.1489 - mse: 0.0407\n",
      "Epoch 7/20\n",
      "459/459 [==============================] - 6s 13ms/step - loss: 0.1388 - mse: 0.0369\n",
      "Epoch 8/20\n",
      "459/459 [==============================] - 6s 14ms/step - loss: 0.1321 - mse: 0.0347\n",
      "Epoch 9/20\n",
      "459/459 [==============================] - 6s 13ms/step - loss: 0.1275 - mse: 0.0331\n",
      "Epoch 10/20\n",
      "459/459 [==============================] - 6s 13ms/step - loss: 0.1228 - mse: 0.0319\n",
      "Epoch 11/20\n",
      "459/459 [==============================] - 6s 13ms/step - loss: 0.1198 - mse: 0.0310\n",
      "Epoch 12/20\n",
      "459/459 [==============================] - 6s 13ms/step - loss: 0.1161 - mse: 0.0300\n",
      "Epoch 13/20\n",
      "459/459 [==============================] - 6s 13ms/step - loss: 0.1138 - mse: 0.0294\n",
      "Epoch 14/20\n",
      "459/459 [==============================] - 6s 13ms/step - loss: 0.1117 - mse: 0.0289\n",
      "Epoch 15/20\n",
      "459/459 [==============================] - 6s 13ms/step - loss: 0.1098 - mse: 0.0284\n",
      "Epoch 16/20\n",
      "459/459 [==============================] - 6s 13ms/step - loss: 0.1081 - mse: 0.0279\n",
      "Epoch 17/20\n",
      "459/459 [==============================] - 6s 13ms/step - loss: 0.1067 - mse: 0.0272\n",
      "Epoch 18/20\n",
      "459/459 [==============================] - 6s 13ms/step - loss: 0.1061 - mse: 0.0272\n",
      "Epoch 19/20\n",
      "459/459 [==============================] - 6s 13ms/step - loss: 0.1046 - mse: 0.0268\n",
      "Epoch 20/20\n",
      "459/459 [==============================] - 6s 13ms/step - loss: 0.1040 - mse: 0.0265\n"
     ]
    },
    {
     "name": "stderr",
     "output_type": "stream",
     "text": [
      "WARNING:absl:Found untraced functions such as _jit_compiled_convolution_op, _jit_compiled_convolution_op, _jit_compiled_convolution_op, _jit_compiled_convolution_op while saving (showing 4 of 4). These functions will not be directly callable after loading.\n"
     ]
    },
    {
     "name": "stdout",
     "output_type": "stream",
     "text": [
      "INFO:tensorflow:Assets written to: .\\auto_model\\best_model\\assets\n"
     ]
    },
    {
     "name": "stderr",
     "output_type": "stream",
     "text": [
      "INFO:tensorflow:Assets written to: .\\auto_model\\best_model\\assets\n"
     ]
    },
    {
     "name": "stdout",
     "output_type": "stream",
     "text": [
      "Reloading Tuner from .\\auto_model\\tuner0.json\n",
      "Epoch 1/20\n",
      "459/459 [==============================] - 7s 13ms/step - loss: 0.2649 - mse: 0.1001\n",
      "Epoch 2/20\n",
      "459/459 [==============================] - 6s 13ms/step - loss: 0.2334 - mse: 0.0765\n",
      "Epoch 3/20\n",
      "459/459 [==============================] - 6s 13ms/step - loss: 0.2021 - mse: 0.0631\n",
      "Epoch 4/20\n",
      "459/459 [==============================] - 6s 13ms/step - loss: 0.1823 - mse: 0.0540\n",
      "Epoch 5/20\n",
      "459/459 [==============================] - 6s 13ms/step - loss: 0.1627 - mse: 0.0460\n",
      "Epoch 6/20\n",
      "459/459 [==============================] - 6s 13ms/step - loss: 0.1483 - mse: 0.0406\n",
      "Epoch 7/20\n",
      "459/459 [==============================] - 6s 13ms/step - loss: 0.1371 - mse: 0.0367\n",
      "Epoch 8/20\n",
      "459/459 [==============================] - 6s 13ms/step - loss: 0.1295 - mse: 0.0344\n",
      "Epoch 9/20\n",
      "459/459 [==============================] - 6s 13ms/step - loss: 0.1230 - mse: 0.0325\n",
      "Epoch 10/20\n",
      "459/459 [==============================] - 6s 13ms/step - loss: 0.1188 - mse: 0.0314\n",
      "Epoch 11/20\n",
      "459/459 [==============================] - 6s 13ms/step - loss: 0.1147 - mse: 0.0303\n",
      "Epoch 12/20\n",
      "459/459 [==============================] - 6s 13ms/step - loss: 0.1119 - mse: 0.0296\n",
      "Epoch 13/20\n",
      "459/459 [==============================] - 6s 13ms/step - loss: 0.1099 - mse: 0.0291\n",
      "Epoch 14/20\n",
      "459/459 [==============================] - 6s 13ms/step - loss: 0.1081 - mse: 0.0286\n",
      "Epoch 15/20\n",
      "459/459 [==============================] - 6s 13ms/step - loss: 0.1068 - mse: 0.0281\n",
      "Epoch 16/20\n",
      "459/459 [==============================] - 6s 13ms/step - loss: 0.1056 - mse: 0.0277\n",
      "Epoch 17/20\n",
      "459/459 [==============================] - 6s 13ms/step - loss: 0.1048 - mse: 0.0275\n",
      "Epoch 18/20\n",
      "459/459 [==============================] - 6s 13ms/step - loss: 0.1036 - mse: 0.0271\n",
      "Epoch 19/20\n",
      "459/459 [==============================] - 6s 13ms/step - loss: 0.1029 - mse: 0.0268\n",
      "Epoch 20/20\n",
      "459/459 [==============================] - 6s 13ms/step - loss: 0.1021 - mse: 0.0267\n"
     ]
    },
    {
     "name": "stderr",
     "output_type": "stream",
     "text": [
      "WARNING:absl:Found untraced functions such as _jit_compiled_convolution_op, _jit_compiled_convolution_op, _jit_compiled_convolution_op, _jit_compiled_convolution_op while saving (showing 4 of 4). These functions will not be directly callable after loading.\n"
     ]
    },
    {
     "name": "stdout",
     "output_type": "stream",
     "text": [
      "INFO:tensorflow:Assets written to: .\\auto_model\\best_model\\assets\n"
     ]
    },
    {
     "name": "stderr",
     "output_type": "stream",
     "text": [
      "INFO:tensorflow:Assets written to: .\\auto_model\\best_model\\assets\n"
     ]
    },
    {
     "name": "stdout",
     "output_type": "stream",
     "text": [
      "Reloading Tuner from .\\auto_model\\tuner0.json\n",
      "Epoch 1/20\n",
      "459/459 [==============================] - 7s 13ms/step - loss: 0.2662 - mse: 0.1011\n",
      "Epoch 2/20\n",
      "459/459 [==============================] - 6s 13ms/step - loss: 0.2376 - mse: 0.0783\n",
      "Epoch 3/20\n",
      "459/459 [==============================] - 6s 13ms/step - loss: 0.2004 - mse: 0.0624\n",
      "Epoch 4/20\n",
      "459/459 [==============================] - 6s 13ms/step - loss: 0.1802 - mse: 0.0530\n",
      "Epoch 5/20\n",
      "459/459 [==============================] - 6s 13ms/step - loss: 0.1621 - mse: 0.0459\n",
      "Epoch 6/20\n",
      "459/459 [==============================] - 6s 13ms/step - loss: 0.1499 - mse: 0.0412\n",
      "Epoch 7/20\n",
      "459/459 [==============================] - 6s 13ms/step - loss: 0.1422 - mse: 0.0384\n",
      "Epoch 8/20\n",
      "459/459 [==============================] - 6s 13ms/step - loss: 0.1371 - mse: 0.0366\n",
      "Epoch 9/20\n",
      "459/459 [==============================] - 6s 13ms/step - loss: 0.1327 - mse: 0.0350\n",
      "Epoch 10/20\n",
      "459/459 [==============================] - 6s 13ms/step - loss: 0.1291 - mse: 0.0340\n",
      "Epoch 11/20\n",
      "459/459 [==============================] - 6s 13ms/step - loss: 0.1264 - mse: 0.0332\n",
      "Epoch 12/20\n",
      "459/459 [==============================] - 6s 13ms/step - loss: 0.1240 - mse: 0.0325\n",
      "Epoch 13/20\n",
      "459/459 [==============================] - 6s 13ms/step - loss: 0.1219 - mse: 0.0320\n",
      "Epoch 14/20\n",
      "459/459 [==============================] - 6s 13ms/step - loss: 0.1205 - mse: 0.0316\n",
      "Epoch 15/20\n",
      "459/459 [==============================] - 6s 13ms/step - loss: 0.1183 - mse: 0.0310\n",
      "Epoch 16/20\n",
      "459/459 [==============================] - 6s 13ms/step - loss: 0.1171 - mse: 0.0306\n",
      "Epoch 17/20\n",
      "459/459 [==============================] - 6s 13ms/step - loss: 0.1163 - mse: 0.0305\n",
      "Epoch 18/20\n",
      "459/459 [==============================] - 6s 13ms/step - loss: 0.1150 - mse: 0.0302\n",
      "Epoch 19/20\n",
      "459/459 [==============================] - 6s 13ms/step - loss: 0.1135 - mse: 0.0297\n",
      "Epoch 20/20\n",
      "459/459 [==============================] - 6s 13ms/step - loss: 0.1130 - mse: 0.0296\n"
     ]
    },
    {
     "name": "stderr",
     "output_type": "stream",
     "text": [
      "WARNING:absl:Found untraced functions such as _jit_compiled_convolution_op, _jit_compiled_convolution_op, _jit_compiled_convolution_op, _jit_compiled_convolution_op while saving (showing 4 of 4). These functions will not be directly callable after loading.\n"
     ]
    },
    {
     "name": "stdout",
     "output_type": "stream",
     "text": [
      "INFO:tensorflow:Assets written to: .\\auto_model\\best_model\\assets\n"
     ]
    },
    {
     "name": "stderr",
     "output_type": "stream",
     "text": [
      "INFO:tensorflow:Assets written to: .\\auto_model\\best_model\\assets\n"
     ]
    },
    {
     "name": "stdout",
     "output_type": "stream",
     "text": [
      "Reloading Tuner from .\\auto_model\\tuner0.json\n",
      "Epoch 1/20\n",
      "459/459 [==============================] - 6s 13ms/step - loss: 0.2641 - mse: 0.0988\n",
      "Epoch 2/20\n",
      "459/459 [==============================] - 6s 13ms/step - loss: 0.2385 - mse: 0.0788\n",
      "Epoch 3/20\n",
      "459/459 [==============================] - 6s 13ms/step - loss: 0.1980 - mse: 0.0612\n",
      "Epoch 4/20\n",
      "459/459 [==============================] - 6s 13ms/step - loss: 0.1750 - mse: 0.0510\n",
      "Epoch 5/20\n",
      "459/459 [==============================] - 6s 13ms/step - loss: 0.1570 - mse: 0.0439\n",
      "Epoch 6/20\n",
      "459/459 [==============================] - 6s 13ms/step - loss: 0.1440 - mse: 0.0392\n",
      "Epoch 7/20\n",
      "459/459 [==============================] - 6s 13ms/step - loss: 0.1352 - mse: 0.0361\n",
      "Epoch 8/20\n",
      "459/459 [==============================] - 6s 13ms/step - loss: 0.1294 - mse: 0.0341\n",
      "Epoch 9/20\n",
      "459/459 [==============================] - 6s 13ms/step - loss: 0.1238 - mse: 0.0326\n",
      "Epoch 10/20\n",
      "459/459 [==============================] - 6s 13ms/step - loss: 0.1193 - mse: 0.0313\n",
      "Epoch 11/20\n",
      "459/459 [==============================] - 6s 13ms/step - loss: 0.1163 - mse: 0.0306\n",
      "Epoch 12/20\n",
      "459/459 [==============================] - 6s 13ms/step - loss: 0.1135 - mse: 0.0298\n",
      "Epoch 13/20\n",
      "459/459 [==============================] - 6s 13ms/step - loss: 0.1107 - mse: 0.0292\n",
      "Epoch 14/20\n",
      "459/459 [==============================] - 6s 13ms/step - loss: 0.1084 - mse: 0.0285\n",
      "Epoch 15/20\n",
      "459/459 [==============================] - 6s 13ms/step - loss: 0.1076 - mse: 0.0280\n",
      "Epoch 16/20\n",
      "459/459 [==============================] - 6s 13ms/step - loss: 0.1057 - mse: 0.0276\n",
      "Epoch 17/20\n",
      "459/459 [==============================] - 6s 13ms/step - loss: 0.1054 - mse: 0.0274\n",
      "Epoch 18/20\n",
      "459/459 [==============================] - 6s 13ms/step - loss: 0.1043 - mse: 0.0270\n",
      "Epoch 19/20\n",
      "459/459 [==============================] - 6s 13ms/step - loss: 0.1037 - mse: 0.0269\n",
      "Epoch 20/20\n",
      "459/459 [==============================] - 6s 13ms/step - loss: 0.1027 - mse: 0.0265\n"
     ]
    },
    {
     "name": "stderr",
     "output_type": "stream",
     "text": [
      "WARNING:absl:Found untraced functions such as _jit_compiled_convolution_op, _jit_compiled_convolution_op, _jit_compiled_convolution_op, _jit_compiled_convolution_op while saving (showing 4 of 4). These functions will not be directly callable after loading.\n"
     ]
    },
    {
     "name": "stdout",
     "output_type": "stream",
     "text": [
      "INFO:tensorflow:Assets written to: .\\auto_model\\best_model\\assets\n"
     ]
    },
    {
     "name": "stderr",
     "output_type": "stream",
     "text": [
      "INFO:tensorflow:Assets written to: .\\auto_model\\best_model\\assets\n"
     ]
    },
    {
     "name": "stdout",
     "output_type": "stream",
     "text": [
      "Reloading Tuner from .\\auto_model\\tuner0.json\n",
      "Epoch 1/20\n",
      "459/459 [==============================] - 7s 14ms/step - loss: 0.2653 - mse: 0.1007\n",
      "Epoch 2/20\n",
      "459/459 [==============================] - 6s 13ms/step - loss: 0.2390 - mse: 0.0791\n",
      "Epoch 3/20\n",
      "459/459 [==============================] - 6s 13ms/step - loss: 0.2045 - mse: 0.0640\n",
      "Epoch 4/20\n",
      "459/459 [==============================] - 6s 13ms/step - loss: 0.1832 - mse: 0.0542\n",
      "Epoch 5/20\n",
      "459/459 [==============================] - 6s 13ms/step - loss: 0.1674 - mse: 0.0479\n",
      "Epoch 6/20\n",
      "459/459 [==============================] - 6s 13ms/step - loss: 0.1546 - mse: 0.0430\n",
      "Epoch 7/20\n",
      "459/459 [==============================] - 6s 13ms/step - loss: 0.1455 - mse: 0.0395\n",
      "Epoch 8/20\n",
      "459/459 [==============================] - 6s 13ms/step - loss: 0.1385 - mse: 0.0371\n",
      "Epoch 9/20\n",
      "459/459 [==============================] - 6s 13ms/step - loss: 0.1337 - mse: 0.0354\n",
      "Epoch 10/20\n",
      "459/459 [==============================] - 6s 13ms/step - loss: 0.1304 - mse: 0.0342\n",
      "Epoch 11/20\n",
      "459/459 [==============================] - 6s 13ms/step - loss: 0.1273 - mse: 0.0333\n",
      "Epoch 12/20\n",
      "459/459 [==============================] - 6s 13ms/step - loss: 0.1241 - mse: 0.0325\n",
      "Epoch 13/20\n",
      "459/459 [==============================] - 6s 13ms/step - loss: 0.1224 - mse: 0.0320\n",
      "Epoch 14/20\n",
      "459/459 [==============================] - 6s 13ms/step - loss: 0.1199 - mse: 0.0314\n",
      "Epoch 15/20\n",
      "459/459 [==============================] - 6s 13ms/step - loss: 0.1184 - mse: 0.0309\n",
      "Epoch 16/20\n",
      "459/459 [==============================] - 6s 13ms/step - loss: 0.1170 - mse: 0.0307\n",
      "Epoch 17/20\n",
      "459/459 [==============================] - 6s 13ms/step - loss: 0.1160 - mse: 0.0304\n",
      "Epoch 18/20\n",
      "459/459 [==============================] - 6s 13ms/step - loss: 0.1147 - mse: 0.0300\n",
      "Epoch 19/20\n",
      "459/459 [==============================] - 6s 13ms/step - loss: 0.1137 - mse: 0.0298\n",
      "Epoch 20/20\n",
      "459/459 [==============================] - 6s 13ms/step - loss: 0.1130 - mse: 0.0295\n"
     ]
    },
    {
     "name": "stderr",
     "output_type": "stream",
     "text": [
      "WARNING:absl:Found untraced functions such as _jit_compiled_convolution_op, _jit_compiled_convolution_op, _jit_compiled_convolution_op, _jit_compiled_convolution_op while saving (showing 4 of 4). These functions will not be directly callable after loading.\n"
     ]
    },
    {
     "name": "stdout",
     "output_type": "stream",
     "text": [
      "INFO:tensorflow:Assets written to: .\\auto_model\\best_model\\assets\n"
     ]
    },
    {
     "name": "stderr",
     "output_type": "stream",
     "text": [
      "INFO:tensorflow:Assets written to: .\\auto_model\\best_model\\assets\n"
     ]
    },
    {
     "name": "stdout",
     "output_type": "stream",
     "text": [
      "Reloading Tuner from .\\auto_model\\tuner0.json\n",
      "Epoch 1/20\n",
      "459/459 [==============================] - 7s 13ms/step - loss: 0.2642 - mse: 0.0993\n",
      "Epoch 2/20\n",
      "459/459 [==============================] - 6s 13ms/step - loss: 0.2377 - mse: 0.0783\n",
      "Epoch 3/20\n",
      "459/459 [==============================] - 6s 13ms/step - loss: 0.1985 - mse: 0.0614\n",
      "Epoch 4/20\n",
      "459/459 [==============================] - 6s 13ms/step - loss: 0.1766 - mse: 0.0516\n",
      "Epoch 5/20\n",
      "459/459 [==============================] - 6s 13ms/step - loss: 0.1591 - mse: 0.0447\n",
      "Epoch 6/20\n",
      "459/459 [==============================] - 6s 13ms/step - loss: 0.1463 - mse: 0.0397\n",
      "Epoch 7/20\n",
      "459/459 [==============================] - 6s 13ms/step - loss: 0.1378 - mse: 0.0366\n",
      "Epoch 8/20\n",
      "459/459 [==============================] - 6s 13ms/step - loss: 0.1306 - mse: 0.0341\n",
      "Epoch 9/20\n",
      "459/459 [==============================] - 6s 13ms/step - loss: 0.1250 - mse: 0.0325\n",
      "Epoch 10/20\n",
      "459/459 [==============================] - 6s 13ms/step - loss: 0.1202 - mse: 0.0311\n",
      "Epoch 11/20\n",
      "459/459 [==============================] - 6s 13ms/step - loss: 0.1167 - mse: 0.0303\n",
      "Epoch 12/20\n",
      "459/459 [==============================] - 6s 13ms/step - loss: 0.1141 - mse: 0.0296\n",
      "Epoch 13/20\n",
      "459/459 [==============================] - 6s 13ms/step - loss: 0.1124 - mse: 0.0293\n",
      "Epoch 14/20\n",
      "459/459 [==============================] - 6s 13ms/step - loss: 0.1095 - mse: 0.0284\n",
      "Epoch 15/20\n",
      "459/459 [==============================] - 6s 13ms/step - loss: 0.1087 - mse: 0.0282\n",
      "Epoch 16/20\n",
      "459/459 [==============================] - 6s 13ms/step - loss: 0.1066 - mse: 0.0277\n",
      "Epoch 17/20\n",
      "459/459 [==============================] - 6s 13ms/step - loss: 0.1062 - mse: 0.0275\n",
      "Epoch 18/20\n",
      "459/459 [==============================] - 6s 13ms/step - loss: 0.1051 - mse: 0.0272\n",
      "Epoch 19/20\n",
      "459/459 [==============================] - 6s 13ms/step - loss: 0.1040 - mse: 0.0268\n",
      "Epoch 20/20\n",
      "459/459 [==============================] - 6s 13ms/step - loss: 0.1030 - mse: 0.0267\n"
     ]
    },
    {
     "name": "stderr",
     "output_type": "stream",
     "text": [
      "WARNING:absl:Found untraced functions such as _jit_compiled_convolution_op, _jit_compiled_convolution_op, _jit_compiled_convolution_op, _jit_compiled_convolution_op while saving (showing 4 of 4). These functions will not be directly callable after loading.\n"
     ]
    },
    {
     "name": "stdout",
     "output_type": "stream",
     "text": [
      "INFO:tensorflow:Assets written to: .\\auto_model\\best_model\\assets\n"
     ]
    },
    {
     "name": "stderr",
     "output_type": "stream",
     "text": [
      "INFO:tensorflow:Assets written to: .\\auto_model\\best_model\\assets\n"
     ]
    },
    {
     "name": "stdout",
     "output_type": "stream",
     "text": [
      "Reloading Tuner from .\\auto_model\\tuner0.json\n",
      "Epoch 1/20\n",
      "459/459 [==============================] - 7s 13ms/step - loss: 0.2624 - mse: 0.0976\n",
      "Epoch 2/20\n",
      "459/459 [==============================] - 6s 13ms/step - loss: 0.2416 - mse: 0.0804\n",
      "Epoch 3/20\n",
      "459/459 [==============================] - 6s 13ms/step - loss: 0.2146 - mse: 0.0683\n",
      "Epoch 4/20\n",
      "459/459 [==============================] - 6s 13ms/step - loss: 0.1939 - mse: 0.0592\n",
      "Epoch 5/20\n",
      "459/459 [==============================] - 6s 13ms/step - loss: 0.1818 - mse: 0.0536\n",
      "Epoch 6/20\n",
      "459/459 [==============================] - 6s 13ms/step - loss: 0.1659 - mse: 0.0470\n",
      "Epoch 7/20\n",
      "459/459 [==============================] - 6s 13ms/step - loss: 0.1523 - mse: 0.0418\n",
      "Epoch 8/20\n",
      "459/459 [==============================] - 6s 13ms/step - loss: 0.1410 - mse: 0.0379\n",
      "Epoch 9/20\n",
      "459/459 [==============================] - 6s 13ms/step - loss: 0.1339 - mse: 0.0356\n",
      "Epoch 10/20\n",
      "459/459 [==============================] - 6s 13ms/step - loss: 0.1275 - mse: 0.0335\n",
      "Epoch 11/20\n",
      "459/459 [==============================] - 6s 13ms/step - loss: 0.1226 - mse: 0.0323\n",
      "Epoch 12/20\n",
      "459/459 [==============================] - 6s 13ms/step - loss: 0.1183 - mse: 0.0310\n",
      "Epoch 13/20\n",
      "459/459 [==============================] - 6s 13ms/step - loss: 0.1146 - mse: 0.0300\n",
      "Epoch 14/20\n",
      "459/459 [==============================] - 6s 14ms/step - loss: 0.1112 - mse: 0.0293\n",
      "Epoch 15/20\n",
      "459/459 [==============================] - 6s 14ms/step - loss: 0.1091 - mse: 0.0287\n",
      "Epoch 16/20\n",
      "459/459 [==============================] - 6s 13ms/step - loss: 0.1077 - mse: 0.0281\n",
      "Epoch 17/20\n",
      "459/459 [==============================] - 6s 13ms/step - loss: 0.1052 - mse: 0.0275\n",
      "Epoch 18/20\n",
      "459/459 [==============================] - 6s 13ms/step - loss: 0.1044 - mse: 0.0274\n",
      "Epoch 19/20\n",
      "459/459 [==============================] - 6s 13ms/step - loss: 0.1029 - mse: 0.0267\n",
      "Epoch 20/20\n",
      "459/459 [==============================] - 6s 13ms/step - loss: 0.1022 - mse: 0.0267\n"
     ]
    },
    {
     "name": "stderr",
     "output_type": "stream",
     "text": [
      "WARNING:absl:Found untraced functions such as _jit_compiled_convolution_op, _jit_compiled_convolution_op, _jit_compiled_convolution_op, _jit_compiled_convolution_op while saving (showing 4 of 4). These functions will not be directly callable after loading.\n"
     ]
    },
    {
     "name": "stdout",
     "output_type": "stream",
     "text": [
      "INFO:tensorflow:Assets written to: .\\auto_model\\best_model\\assets\n"
     ]
    },
    {
     "name": "stderr",
     "output_type": "stream",
     "text": [
      "INFO:tensorflow:Assets written to: .\\auto_model\\best_model\\assets\n"
     ]
    },
    {
     "name": "stdout",
     "output_type": "stream",
     "text": [
      "Reloading Tuner from .\\auto_model\\tuner0.json\n",
      "Epoch 1/20\n",
      "459/459 [==============================] - 7s 13ms/step - loss: 0.2639 - mse: 0.0987\n",
      "Epoch 2/20\n",
      "459/459 [==============================] - 6s 13ms/step - loss: 0.2403 - mse: 0.0796\n",
      "Epoch 3/20\n",
      "459/459 [==============================] - 6s 13ms/step - loss: 0.2070 - mse: 0.0651\n",
      "Epoch 4/20\n",
      "459/459 [==============================] - 6s 13ms/step - loss: 0.1835 - mse: 0.0545\n",
      "Epoch 5/20\n",
      "459/459 [==============================] - 6s 13ms/step - loss: 0.1655 - mse: 0.0472\n",
      "Epoch 6/20\n",
      "459/459 [==============================] - 6s 13ms/step - loss: 0.1519 - mse: 0.0419\n",
      "Epoch 7/20\n",
      "459/459 [==============================] - 6s 13ms/step - loss: 0.1424 - mse: 0.0382\n",
      "Epoch 8/20\n",
      "459/459 [==============================] - 6s 13ms/step - loss: 0.1351 - mse: 0.0355\n",
      "Epoch 9/20\n",
      "459/459 [==============================] - 6s 13ms/step - loss: 0.1302 - mse: 0.0338\n",
      "Epoch 10/20\n",
      "459/459 [==============================] - 6s 13ms/step - loss: 0.1258 - mse: 0.0325\n",
      "Epoch 11/20\n",
      "459/459 [==============================] - 6s 13ms/step - loss: 0.1223 - mse: 0.0315\n",
      "Epoch 12/20\n",
      "459/459 [==============================] - 6s 13ms/step - loss: 0.1198 - mse: 0.0309\n",
      "Epoch 13/20\n",
      "459/459 [==============================] - 6s 13ms/step - loss: 0.1169 - mse: 0.0301\n",
      "Epoch 14/20\n",
      "459/459 [==============================] - 6s 14ms/step - loss: 0.1152 - mse: 0.0295\n",
      "Epoch 15/20\n",
      "459/459 [==============================] - 6s 14ms/step - loss: 0.1132 - mse: 0.0289\n",
      "Epoch 16/20\n",
      "459/459 [==============================] - 6s 14ms/step - loss: 0.1114 - mse: 0.0286\n",
      "Epoch 17/20\n",
      "459/459 [==============================] - 6s 14ms/step - loss: 0.1102 - mse: 0.0281\n",
      "Epoch 18/20\n",
      "459/459 [==============================] - 6s 14ms/step - loss: 0.1088 - mse: 0.0278\n",
      "Epoch 19/20\n",
      "459/459 [==============================] - 6s 13ms/step - loss: 0.1073 - mse: 0.0271\n",
      "Epoch 20/20\n",
      "459/459 [==============================] - 6s 13ms/step - loss: 0.1066 - mse: 0.0268\n"
     ]
    },
    {
     "name": "stderr",
     "output_type": "stream",
     "text": [
      "WARNING:absl:Found untraced functions such as _jit_compiled_convolution_op, _jit_compiled_convolution_op, _jit_compiled_convolution_op, _jit_compiled_convolution_op while saving (showing 4 of 4). These functions will not be directly callable after loading.\n"
     ]
    },
    {
     "name": "stdout",
     "output_type": "stream",
     "text": [
      "INFO:tensorflow:Assets written to: .\\auto_model\\best_model\\assets\n"
     ]
    },
    {
     "name": "stderr",
     "output_type": "stream",
     "text": [
      "INFO:tensorflow:Assets written to: .\\auto_model\\best_model\\assets\n"
     ]
    },
    {
     "name": "stdout",
     "output_type": "stream",
     "text": [
      "Reloading Tuner from .\\auto_model\\tuner0.json\n",
      "Epoch 1/20\n",
      "459/459 [==============================] - 7s 14ms/step - loss: 0.2678 - mse: 0.1031\n",
      "Epoch 2/20\n",
      "459/459 [==============================] - 6s 13ms/step - loss: 0.2353 - mse: 0.0772\n",
      "Epoch 3/20\n",
      "459/459 [==============================] - 6s 13ms/step - loss: 0.1968 - mse: 0.0604\n",
      "Epoch 4/20\n",
      "459/459 [==============================] - 6s 13ms/step - loss: 0.1681 - mse: 0.0482\n",
      "Epoch 5/20\n",
      "459/459 [==============================] - 6s 13ms/step - loss: 0.1502 - mse: 0.0411\n",
      "Epoch 6/20\n",
      "459/459 [==============================] - 6s 13ms/step - loss: 0.1392 - mse: 0.0371\n",
      "Epoch 7/20\n",
      "459/459 [==============================] - 6s 13ms/step - loss: 0.1313 - mse: 0.0346\n",
      "Epoch 8/20\n",
      "459/459 [==============================] - 6s 13ms/step - loss: 0.1247 - mse: 0.0326\n",
      "Epoch 9/20\n",
      "459/459 [==============================] - 6s 13ms/step - loss: 0.1193 - mse: 0.0311\n",
      "Epoch 10/20\n",
      "459/459 [==============================] - 6s 13ms/step - loss: 0.1165 - mse: 0.0303\n",
      "Epoch 11/20\n",
      "459/459 [==============================] - 6s 13ms/step - loss: 0.1137 - mse: 0.0297\n",
      "Epoch 12/20\n",
      "459/459 [==============================] - 6s 13ms/step - loss: 0.1115 - mse: 0.0290\n",
      "Epoch 13/20\n",
      "459/459 [==============================] - 6s 13ms/step - loss: 0.1091 - mse: 0.0283\n",
      "Epoch 14/20\n",
      "459/459 [==============================] - 6s 13ms/step - loss: 0.1080 - mse: 0.0279\n",
      "Epoch 15/20\n",
      "459/459 [==============================] - 6s 13ms/step - loss: 0.1068 - mse: 0.0275\n",
      "Epoch 16/20\n",
      "459/459 [==============================] - 6s 13ms/step - loss: 0.1059 - mse: 0.0274\n",
      "Epoch 17/20\n",
      "459/459 [==============================] - 6s 13ms/step - loss: 0.1049 - mse: 0.0271\n",
      "Epoch 18/20\n",
      "459/459 [==============================] - 6s 13ms/step - loss: 0.1039 - mse: 0.0268\n",
      "Epoch 19/20\n",
      "459/459 [==============================] - 6s 13ms/step - loss: 0.1026 - mse: 0.0262\n",
      "Epoch 20/20\n",
      "459/459 [==============================] - 6s 13ms/step - loss: 0.1021 - mse: 0.0261\n"
     ]
    },
    {
     "name": "stderr",
     "output_type": "stream",
     "text": [
      "WARNING:absl:Found untraced functions such as _jit_compiled_convolution_op, _jit_compiled_convolution_op, _jit_compiled_convolution_op, _jit_compiled_convolution_op while saving (showing 4 of 4). These functions will not be directly callable after loading.\n"
     ]
    },
    {
     "name": "stdout",
     "output_type": "stream",
     "text": [
      "INFO:tensorflow:Assets written to: .\\auto_model\\best_model\\assets\n"
     ]
    },
    {
     "name": "stderr",
     "output_type": "stream",
     "text": [
      "INFO:tensorflow:Assets written to: .\\auto_model\\best_model\\assets\n"
     ]
    },
    {
     "name": "stdout",
     "output_type": "stream",
     "text": [
      "Reloading Tuner from .\\auto_model\\tuner0.json\n",
      "Epoch 1/20\n",
      "459/459 [==============================] - 6s 13ms/step - loss: 0.2604 - mse: 0.0952\n",
      "Epoch 2/20\n",
      "459/459 [==============================] - 6s 13ms/step - loss: 0.2402 - mse: 0.0800\n",
      "Epoch 3/20\n",
      "459/459 [==============================] - 6s 13ms/step - loss: 0.2092 - mse: 0.0666\n",
      "Epoch 4/20\n",
      "459/459 [==============================] - 6s 13ms/step - loss: 0.1900 - mse: 0.0576\n",
      "Epoch 5/20\n",
      "459/459 [==============================] - 6s 13ms/step - loss: 0.1747 - mse: 0.0507\n",
      "Epoch 6/20\n",
      "459/459 [==============================] - 6s 13ms/step - loss: 0.1613 - mse: 0.0455\n",
      "Epoch 7/20\n",
      "459/459 [==============================] - 6s 13ms/step - loss: 0.1505 - mse: 0.0415\n",
      "Epoch 8/20\n",
      "459/459 [==============================] - 6s 13ms/step - loss: 0.1432 - mse: 0.0387\n",
      "Epoch 9/20\n",
      "459/459 [==============================] - 6s 13ms/step - loss: 0.1375 - mse: 0.0366\n",
      "Epoch 10/20\n",
      "459/459 [==============================] - 6s 13ms/step - loss: 0.1333 - mse: 0.0352\n",
      "Epoch 11/20\n",
      "459/459 [==============================] - 6s 13ms/step - loss: 0.1299 - mse: 0.0342\n",
      "Epoch 12/20\n",
      "459/459 [==============================] - 6s 13ms/step - loss: 0.1273 - mse: 0.0334\n",
      "Epoch 13/20\n",
      "459/459 [==============================] - 6s 13ms/step - loss: 0.1252 - mse: 0.0328\n",
      "Epoch 14/20\n",
      "459/459 [==============================] - 6s 13ms/step - loss: 0.1229 - mse: 0.0321\n",
      "Epoch 15/20\n",
      "459/459 [==============================] - 6s 13ms/step - loss: 0.1218 - mse: 0.0319\n",
      "Epoch 16/20\n",
      "459/459 [==============================] - 6s 13ms/step - loss: 0.1201 - mse: 0.0315\n",
      "Epoch 17/20\n",
      "459/459 [==============================] - 6s 13ms/step - loss: 0.1185 - mse: 0.0310\n",
      "Epoch 18/20\n",
      "459/459 [==============================] - 6s 13ms/step - loss: 0.1176 - mse: 0.0309\n",
      "Epoch 19/20\n",
      "459/459 [==============================] - 6s 13ms/step - loss: 0.1160 - mse: 0.0304\n",
      "Epoch 20/20\n",
      "459/459 [==============================] - 6s 13ms/step - loss: 0.1150 - mse: 0.0303\n"
     ]
    },
    {
     "name": "stderr",
     "output_type": "stream",
     "text": [
      "WARNING:absl:Found untraced functions such as _jit_compiled_convolution_op, _jit_compiled_convolution_op, _jit_compiled_convolution_op, _jit_compiled_convolution_op while saving (showing 4 of 4). These functions will not be directly callable after loading.\n"
     ]
    },
    {
     "name": "stdout",
     "output_type": "stream",
     "text": [
      "INFO:tensorflow:Assets written to: .\\auto_model\\best_model\\assets\n"
     ]
    },
    {
     "name": "stderr",
     "output_type": "stream",
     "text": [
      "INFO:tensorflow:Assets written to: .\\auto_model\\best_model\\assets\n"
     ]
    },
    {
     "name": "stdout",
     "output_type": "stream",
     "text": [
      "Reloading Tuner from .\\auto_model\\tuner0.json\n",
      "Epoch 1/20\n",
      "459/459 [==============================] - 6s 13ms/step - loss: 0.2639 - mse: 0.0996\n",
      "Epoch 2/20\n",
      "459/459 [==============================] - 6s 13ms/step - loss: 0.2388 - mse: 0.0791\n",
      "Epoch 3/20\n",
      "459/459 [==============================] - 6s 13ms/step - loss: 0.2094 - mse: 0.0666\n",
      "Epoch 4/20\n",
      "459/459 [==============================] - 6s 13ms/step - loss: 0.1913 - mse: 0.0580\n",
      "Epoch 5/20\n",
      "459/459 [==============================] - 6s 13ms/step - loss: 0.1747 - mse: 0.0508\n",
      "Epoch 6/20\n",
      "459/459 [==============================] - 6s 13ms/step - loss: 0.1601 - mse: 0.0450\n",
      "Epoch 7/20\n",
      "459/459 [==============================] - 6s 13ms/step - loss: 0.1494 - mse: 0.0407\n",
      "Epoch 8/20\n",
      "459/459 [==============================] - 6s 13ms/step - loss: 0.1415 - mse: 0.0379\n",
      "Epoch 9/20\n",
      "459/459 [==============================] - 6s 13ms/step - loss: 0.1361 - mse: 0.0361\n",
      "Epoch 10/20\n",
      "459/459 [==============================] - 6s 13ms/step - loss: 0.1313 - mse: 0.0345\n",
      "Epoch 11/20\n",
      "459/459 [==============================] - 6s 13ms/step - loss: 0.1276 - mse: 0.0334\n",
      "Epoch 12/20\n",
      "459/459 [==============================] - 6s 13ms/step - loss: 0.1253 - mse: 0.0326\n",
      "Epoch 13/20\n",
      "459/459 [==============================] - 6s 13ms/step - loss: 0.1219 - mse: 0.0318\n",
      "Epoch 14/20\n",
      "459/459 [==============================] - 6s 13ms/step - loss: 0.1204 - mse: 0.0316\n",
      "Epoch 15/20\n",
      "459/459 [==============================] - 6s 13ms/step - loss: 0.1176 - mse: 0.0307\n",
      "Epoch 16/20\n",
      "459/459 [==============================] - 6s 13ms/step - loss: 0.1162 - mse: 0.0302\n",
      "Epoch 17/20\n",
      "459/459 [==============================] - 6s 13ms/step - loss: 0.1141 - mse: 0.0297\n",
      "Epoch 18/20\n",
      "459/459 [==============================] - 6s 13ms/step - loss: 0.1126 - mse: 0.0294\n",
      "Epoch 19/20\n",
      "459/459 [==============================] - 6s 13ms/step - loss: 0.1117 - mse: 0.0290\n",
      "Epoch 20/20\n",
      "459/459 [==============================] - 6s 13ms/step - loss: 0.1101 - mse: 0.0286\n"
     ]
    },
    {
     "name": "stderr",
     "output_type": "stream",
     "text": [
      "WARNING:absl:Found untraced functions such as _jit_compiled_convolution_op, _jit_compiled_convolution_op, _jit_compiled_convolution_op, _jit_compiled_convolution_op while saving (showing 4 of 4). These functions will not be directly callable after loading.\n"
     ]
    },
    {
     "name": "stdout",
     "output_type": "stream",
     "text": [
      "INFO:tensorflow:Assets written to: .\\auto_model\\best_model\\assets\n"
     ]
    },
    {
     "name": "stderr",
     "output_type": "stream",
     "text": [
      "INFO:tensorflow:Assets written to: .\\auto_model\\best_model\\assets\n"
     ]
    },
    {
     "name": "stdout",
     "output_type": "stream",
     "text": [
      "Reloading Tuner from .\\auto_model\\tuner0.json\n",
      "Epoch 1/20\n",
      "459/459 [==============================] - 7s 13ms/step - loss: 0.2656 - mse: 0.1004\n",
      "Epoch 2/20\n",
      "459/459 [==============================] - 6s 13ms/step - loss: 0.2410 - mse: 0.0800\n",
      "Epoch 3/20\n",
      "459/459 [==============================] - 6s 13ms/step - loss: 0.2052 - mse: 0.0643\n",
      "Epoch 4/20\n",
      "459/459 [==============================] - 6s 13ms/step - loss: 0.1775 - mse: 0.0520\n",
      "Epoch 5/20\n",
      "459/459 [==============================] - 6s 13ms/step - loss: 0.1545 - mse: 0.0428\n",
      "Epoch 6/20\n",
      "459/459 [==============================] - 6s 13ms/step - loss: 0.1400 - mse: 0.0378\n",
      "Epoch 7/20\n",
      "459/459 [==============================] - 6s 13ms/step - loss: 0.1313 - mse: 0.0349\n",
      "Epoch 8/20\n",
      "459/459 [==============================] - 6s 13ms/step - loss: 0.1249 - mse: 0.0330\n",
      "Epoch 9/20\n",
      "459/459 [==============================] - 6s 13ms/step - loss: 0.1200 - mse: 0.0316\n",
      "Epoch 10/20\n",
      "459/459 [==============================] - 6s 13ms/step - loss: 0.1166 - mse: 0.0307\n",
      "Epoch 11/20\n",
      "459/459 [==============================] - 6s 13ms/step - loss: 0.1129 - mse: 0.0298\n",
      "Epoch 12/20\n",
      "459/459 [==============================] - 6s 13ms/step - loss: 0.1105 - mse: 0.0290\n",
      "Epoch 13/20\n",
      "459/459 [==============================] - 6s 13ms/step - loss: 0.1084 - mse: 0.0285\n",
      "Epoch 14/20\n",
      "459/459 [==============================] - 6s 13ms/step - loss: 0.1065 - mse: 0.0279\n",
      "Epoch 15/20\n",
      "459/459 [==============================] - 6s 13ms/step - loss: 0.1053 - mse: 0.0275\n",
      "Epoch 16/20\n",
      "459/459 [==============================] - 6s 13ms/step - loss: 0.1043 - mse: 0.0271\n",
      "Epoch 17/20\n",
      "459/459 [==============================] - 6s 13ms/step - loss: 0.1029 - mse: 0.0267\n",
      "Epoch 18/20\n",
      "459/459 [==============================] - 6s 13ms/step - loss: 0.1021 - mse: 0.0265\n",
      "Epoch 19/20\n",
      "459/459 [==============================] - 6s 13ms/step - loss: 0.1013 - mse: 0.0261\n",
      "Epoch 20/20\n",
      "459/459 [==============================] - 6s 13ms/step - loss: 0.1003 - mse: 0.0258\n"
     ]
    },
    {
     "name": "stderr",
     "output_type": "stream",
     "text": [
      "WARNING:absl:Found untraced functions such as _jit_compiled_convolution_op, _jit_compiled_convolution_op, _jit_compiled_convolution_op, _jit_compiled_convolution_op while saving (showing 4 of 4). These functions will not be directly callable after loading.\n"
     ]
    },
    {
     "name": "stdout",
     "output_type": "stream",
     "text": [
      "INFO:tensorflow:Assets written to: .\\auto_model\\best_model\\assets\n"
     ]
    },
    {
     "name": "stderr",
     "output_type": "stream",
     "text": [
      "INFO:tensorflow:Assets written to: .\\auto_model\\best_model\\assets\n"
     ]
    },
    {
     "name": "stdout",
     "output_type": "stream",
     "text": [
      "Reloading Tuner from .\\auto_model\\tuner0.json\n",
      "Epoch 1/20\n",
      "459/459 [==============================] - 6s 13ms/step - loss: 0.2609 - mse: 0.0956\n",
      "Epoch 2/20\n",
      "459/459 [==============================] - 6s 13ms/step - loss: 0.2379 - mse: 0.0785\n",
      "Epoch 3/20\n",
      "459/459 [==============================] - 6s 13ms/step - loss: 0.2022 - mse: 0.0631\n",
      "Epoch 4/20\n",
      "459/459 [==============================] - 6s 13ms/step - loss: 0.1858 - mse: 0.0555\n",
      "Epoch 5/20\n",
      "459/459 [==============================] - 6s 13ms/step - loss: 0.1718 - mse: 0.0497\n",
      "Epoch 6/20\n",
      "459/459 [==============================] - 6s 13ms/step - loss: 0.1594 - mse: 0.0447\n",
      "Epoch 7/20\n",
      "459/459 [==============================] - 6s 13ms/step - loss: 0.1483 - mse: 0.0406\n",
      "Epoch 8/20\n",
      "459/459 [==============================] - 6s 13ms/step - loss: 0.1405 - mse: 0.0380\n",
      "Epoch 9/20\n",
      "459/459 [==============================] - 6s 13ms/step - loss: 0.1336 - mse: 0.0356\n",
      "Epoch 10/20\n",
      "459/459 [==============================] - 6s 13ms/step - loss: 0.1280 - mse: 0.0339\n",
      "Epoch 11/20\n",
      "459/459 [==============================] - 6s 13ms/step - loss: 0.1244 - mse: 0.0329\n",
      "Epoch 12/20\n",
      "459/459 [==============================] - 6s 13ms/step - loss: 0.1205 - mse: 0.0317\n",
      "Epoch 13/20\n",
      "459/459 [==============================] - 6s 13ms/step - loss: 0.1165 - mse: 0.0305\n",
      "Epoch 14/20\n",
      "459/459 [==============================] - 6s 13ms/step - loss: 0.1133 - mse: 0.0298\n",
      "Epoch 15/20\n",
      "459/459 [==============================] - 6s 13ms/step - loss: 0.1118 - mse: 0.0294\n",
      "Epoch 16/20\n",
      "459/459 [==============================] - 6s 13ms/step - loss: 0.1092 - mse: 0.0288\n",
      "Epoch 17/20\n",
      "459/459 [==============================] - 6s 13ms/step - loss: 0.1079 - mse: 0.0285\n",
      "Epoch 18/20\n",
      "459/459 [==============================] - 6s 13ms/step - loss: 0.1064 - mse: 0.0280\n",
      "Epoch 19/20\n",
      "459/459 [==============================] - 6s 13ms/step - loss: 0.1056 - mse: 0.0277\n",
      "Epoch 20/20\n",
      "459/459 [==============================] - 6s 13ms/step - loss: 0.1048 - mse: 0.0275\n"
     ]
    },
    {
     "name": "stderr",
     "output_type": "stream",
     "text": [
      "WARNING:absl:Found untraced functions such as _jit_compiled_convolution_op, _jit_compiled_convolution_op, _jit_compiled_convolution_op, _jit_compiled_convolution_op while saving (showing 4 of 4). These functions will not be directly callable after loading.\n"
     ]
    },
    {
     "name": "stdout",
     "output_type": "stream",
     "text": [
      "INFO:tensorflow:Assets written to: .\\auto_model\\best_model\\assets\n"
     ]
    },
    {
     "name": "stderr",
     "output_type": "stream",
     "text": [
      "INFO:tensorflow:Assets written to: .\\auto_model\\best_model\\assets\n"
     ]
    },
    {
     "name": "stdout",
     "output_type": "stream",
     "text": [
      "Reloading Tuner from .\\auto_model\\tuner0.json\n",
      "Epoch 1/20\n",
      "459/459 [==============================] - 6s 13ms/step - loss: 0.2613 - mse: 0.0958\n",
      "Epoch 2/20\n",
      "459/459 [==============================] - 6s 13ms/step - loss: 0.2428 - mse: 0.0810\n",
      "Epoch 3/20\n",
      "459/459 [==============================] - 6s 13ms/step - loss: 0.2144 - mse: 0.0682\n",
      "Epoch 4/20\n",
      "459/459 [==============================] - 6s 13ms/step - loss: 0.1913 - mse: 0.0579\n",
      "Epoch 5/20\n",
      "459/459 [==============================] - 6s 13ms/step - loss: 0.1770 - mse: 0.0514\n",
      "Epoch 6/20\n",
      "459/459 [==============================] - 6s 13ms/step - loss: 0.1623 - mse: 0.0456\n",
      "Epoch 7/20\n",
      "459/459 [==============================] - 6s 13ms/step - loss: 0.1508 - mse: 0.0414\n",
      "Epoch 8/20\n",
      "459/459 [==============================] - 6s 13ms/step - loss: 0.1433 - mse: 0.0386\n",
      "Epoch 9/20\n",
      "459/459 [==============================] - 6s 13ms/step - loss: 0.1377 - mse: 0.0367\n",
      "Epoch 10/20\n",
      "459/459 [==============================] - 6s 13ms/step - loss: 0.1337 - mse: 0.0354\n",
      "Epoch 11/20\n",
      "459/459 [==============================] - 6s 13ms/step - loss: 0.1304 - mse: 0.0345\n",
      "Epoch 12/20\n",
      "459/459 [==============================] - 6s 13ms/step - loss: 0.1279 - mse: 0.0339\n",
      "Epoch 13/20\n",
      "459/459 [==============================] - 6s 13ms/step - loss: 0.1251 - mse: 0.0331\n",
      "Epoch 14/20\n",
      "459/459 [==============================] - 6s 13ms/step - loss: 0.1235 - mse: 0.0327\n",
      "Epoch 15/20\n",
      "459/459 [==============================] - 6s 13ms/step - loss: 0.1211 - mse: 0.0319\n",
      "Epoch 16/20\n",
      "459/459 [==============================] - 6s 13ms/step - loss: 0.1192 - mse: 0.0315\n",
      "Epoch 17/20\n",
      "459/459 [==============================] - 6s 13ms/step - loss: 0.1180 - mse: 0.0313\n",
      "Epoch 18/20\n",
      "459/459 [==============================] - 6s 13ms/step - loss: 0.1166 - mse: 0.0309\n",
      "Epoch 19/20\n",
      "459/459 [==============================] - 6s 13ms/step - loss: 0.1154 - mse: 0.0306\n",
      "Epoch 20/20\n",
      "459/459 [==============================] - 6s 13ms/step - loss: 0.1142 - mse: 0.0303\n"
     ]
    },
    {
     "name": "stderr",
     "output_type": "stream",
     "text": [
      "WARNING:absl:Found untraced functions such as _jit_compiled_convolution_op, _jit_compiled_convolution_op, _jit_compiled_convolution_op, _jit_compiled_convolution_op while saving (showing 4 of 4). These functions will not be directly callable after loading.\n"
     ]
    },
    {
     "name": "stdout",
     "output_type": "stream",
     "text": [
      "INFO:tensorflow:Assets written to: .\\auto_model\\best_model\\assets\n"
     ]
    },
    {
     "name": "stderr",
     "output_type": "stream",
     "text": [
      "INFO:tensorflow:Assets written to: .\\auto_model\\best_model\\assets\n"
     ]
    },
    {
     "name": "stdout",
     "output_type": "stream",
     "text": [
      "Reloading Tuner from .\\auto_model\\tuner0.json\n",
      "Epoch 1/20\n",
      "459/459 [==============================] - 7s 13ms/step - loss: 0.2657 - mse: 0.1008\n",
      "Epoch 2/20\n",
      "459/459 [==============================] - 6s 13ms/step - loss: 0.2400 - mse: 0.0798\n",
      "Epoch 3/20\n",
      "459/459 [==============================] - 6s 13ms/step - loss: 0.2005 - mse: 0.0623\n",
      "Epoch 4/20\n",
      "459/459 [==============================] - 6s 13ms/step - loss: 0.1821 - mse: 0.0538\n",
      "Epoch 5/20\n",
      "459/459 [==============================] - 6s 13ms/step - loss: 0.1659 - mse: 0.0470\n",
      "Epoch 6/20\n",
      "459/459 [==============================] - 6s 13ms/step - loss: 0.1525 - mse: 0.0420\n",
      "Epoch 7/20\n",
      "459/459 [==============================] - 6s 13ms/step - loss: 0.1422 - mse: 0.0381\n",
      "Epoch 8/20\n",
      "459/459 [==============================] - 6s 13ms/step - loss: 0.1350 - mse: 0.0356\n",
      "Epoch 9/20\n",
      "459/459 [==============================] - 6s 13ms/step - loss: 0.1293 - mse: 0.0338\n",
      "Epoch 10/20\n",
      "459/459 [==============================] - 6s 13ms/step - loss: 0.1244 - mse: 0.0324\n",
      "Epoch 11/20\n",
      "459/459 [==============================] - 6s 13ms/step - loss: 0.1206 - mse: 0.0314\n",
      "Epoch 12/20\n",
      "459/459 [==============================] - 6s 13ms/step - loss: 0.1168 - mse: 0.0304\n",
      "Epoch 13/20\n",
      "459/459 [==============================] - 6s 13ms/step - loss: 0.1149 - mse: 0.0299\n",
      "Epoch 14/20\n",
      "459/459 [==============================] - 6s 13ms/step - loss: 0.1120 - mse: 0.0292\n",
      "Epoch 15/20\n",
      "459/459 [==============================] - 6s 13ms/step - loss: 0.1110 - mse: 0.0289\n",
      "Epoch 16/20\n",
      "459/459 [==============================] - 6s 13ms/step - loss: 0.1090 - mse: 0.0283\n",
      "Epoch 17/20\n",
      "459/459 [==============================] - 6s 13ms/step - loss: 0.1077 - mse: 0.0278\n",
      "Epoch 18/20\n",
      "459/459 [==============================] - 6s 13ms/step - loss: 0.1071 - mse: 0.0278\n",
      "Epoch 19/20\n",
      "459/459 [==============================] - 6s 13ms/step - loss: 0.1060 - mse: 0.0273\n",
      "Epoch 20/20\n",
      "459/459 [==============================] - 6s 13ms/step - loss: 0.1046 - mse: 0.0271\n"
     ]
    },
    {
     "name": "stderr",
     "output_type": "stream",
     "text": [
      "WARNING:absl:Found untraced functions such as _jit_compiled_convolution_op, _jit_compiled_convolution_op, _jit_compiled_convolution_op, _jit_compiled_convolution_op while saving (showing 4 of 4). These functions will not be directly callable after loading.\n"
     ]
    },
    {
     "name": "stdout",
     "output_type": "stream",
     "text": [
      "INFO:tensorflow:Assets written to: .\\auto_model\\best_model\\assets\n"
     ]
    },
    {
     "name": "stderr",
     "output_type": "stream",
     "text": [
      "INFO:tensorflow:Assets written to: .\\auto_model\\best_model\\assets\n"
     ]
    },
    {
     "name": "stdout",
     "output_type": "stream",
     "text": [
      "Reloading Tuner from .\\auto_model\\tuner0.json\n",
      "Epoch 1/20\n",
      "459/459 [==============================] - 6s 13ms/step - loss: 0.2640 - mse: 0.0991\n",
      "Epoch 2/20\n",
      "459/459 [==============================] - 6s 13ms/step - loss: 0.2328 - mse: 0.0759\n",
      "Epoch 3/20\n",
      "459/459 [==============================] - 6s 13ms/step - loss: 0.1883 - mse: 0.0564\n",
      "Epoch 4/20\n",
      "459/459 [==============================] - 6s 13ms/step - loss: 0.1648 - mse: 0.0466\n",
      "Epoch 5/20\n",
      "459/459 [==============================] - 6s 13ms/step - loss: 0.1479 - mse: 0.0403\n",
      "Epoch 6/20\n",
      "459/459 [==============================] - 6s 13ms/step - loss: 0.1367 - mse: 0.0363\n",
      "Epoch 7/20\n",
      "459/459 [==============================] - 6s 13ms/step - loss: 0.1297 - mse: 0.0340\n",
      "Epoch 8/20\n",
      "459/459 [==============================] - 6s 13ms/step - loss: 0.1253 - mse: 0.0327\n",
      "Epoch 9/20\n",
      "459/459 [==============================] - 6s 13ms/step - loss: 0.1203 - mse: 0.0314\n",
      "Epoch 10/20\n",
      "459/459 [==============================] - 6s 13ms/step - loss: 0.1167 - mse: 0.0304\n",
      "Epoch 11/20\n",
      "459/459 [==============================] - 6s 13ms/step - loss: 0.1144 - mse: 0.0299\n",
      "Epoch 12/20\n",
      "459/459 [==============================] - 6s 13ms/step - loss: 0.1123 - mse: 0.0294\n",
      "Epoch 13/20\n",
      "459/459 [==============================] - 6s 13ms/step - loss: 0.1100 - mse: 0.0287\n",
      "Epoch 14/20\n",
      "459/459 [==============================] - 6s 13ms/step - loss: 0.1088 - mse: 0.0284\n",
      "Epoch 15/20\n",
      "459/459 [==============================] - 6s 13ms/step - loss: 0.1075 - mse: 0.0281\n",
      "Epoch 16/20\n",
      "459/459 [==============================] - 6s 13ms/step - loss: 0.1058 - mse: 0.0276\n",
      "Epoch 17/20\n",
      "459/459 [==============================] - 6s 13ms/step - loss: 0.1050 - mse: 0.0272\n",
      "Epoch 18/20\n",
      "459/459 [==============================] - 6s 13ms/step - loss: 0.1039 - mse: 0.0269\n",
      "Epoch 19/20\n",
      "459/459 [==============================] - 6s 13ms/step - loss: 0.1033 - mse: 0.0267\n",
      "Epoch 20/20\n",
      "459/459 [==============================] - 6s 13ms/step - loss: 0.1025 - mse: 0.0265\n"
     ]
    },
    {
     "name": "stderr",
     "output_type": "stream",
     "text": [
      "WARNING:absl:Found untraced functions such as _jit_compiled_convolution_op, _jit_compiled_convolution_op, _jit_compiled_convolution_op, _jit_compiled_convolution_op while saving (showing 4 of 4). These functions will not be directly callable after loading.\n"
     ]
    },
    {
     "name": "stdout",
     "output_type": "stream",
     "text": [
      "INFO:tensorflow:Assets written to: .\\auto_model\\best_model\\assets\n"
     ]
    },
    {
     "name": "stderr",
     "output_type": "stream",
     "text": [
      "INFO:tensorflow:Assets written to: .\\auto_model\\best_model\\assets\n"
     ]
    },
    {
     "name": "stdout",
     "output_type": "stream",
     "text": [
      "Reloading Tuner from .\\auto_model\\tuner0.json\n",
      "Epoch 1/20\n",
      "459/459 [==============================] - 6s 13ms/step - loss: 0.2643 - mse: 0.0995\n",
      "Epoch 2/20\n",
      "459/459 [==============================] - 6s 13ms/step - loss: 0.2412 - mse: 0.0802\n",
      "Epoch 3/20\n",
      "459/459 [==============================] - 6s 13ms/step - loss: 0.2091 - mse: 0.0658\n",
      "Epoch 4/20\n",
      "459/459 [==============================] - 6s 13ms/step - loss: 0.1866 - mse: 0.0557\n",
      "Epoch 5/20\n",
      "459/459 [==============================] - 6s 13ms/step - loss: 0.1699 - mse: 0.0487\n",
      "Epoch 6/20\n",
      "459/459 [==============================] - 6s 13ms/step - loss: 0.1547 - mse: 0.0431\n",
      "Epoch 7/20\n",
      "459/459 [==============================] - 6s 13ms/step - loss: 0.1437 - mse: 0.0390\n",
      "Epoch 8/20\n",
      "459/459 [==============================] - 6s 13ms/step - loss: 0.1363 - mse: 0.0363\n",
      "Epoch 9/20\n",
      "459/459 [==============================] - 6s 13ms/step - loss: 0.1293 - mse: 0.0342\n",
      "Epoch 10/20\n",
      "459/459 [==============================] - 6s 13ms/step - loss: 0.1243 - mse: 0.0326\n",
      "Epoch 11/20\n",
      "459/459 [==============================] - 6s 13ms/step - loss: 0.1201 - mse: 0.0316\n",
      "Epoch 12/20\n",
      "459/459 [==============================] - 6s 13ms/step - loss: 0.1169 - mse: 0.0307\n",
      "Epoch 13/20\n",
      "459/459 [==============================] - 6s 13ms/step - loss: 0.1135 - mse: 0.0298\n",
      "Epoch 14/20\n",
      "459/459 [==============================] - 6s 13ms/step - loss: 0.1108 - mse: 0.0291\n",
      "Epoch 15/20\n",
      "459/459 [==============================] - 6s 13ms/step - loss: 0.1092 - mse: 0.0287\n",
      "Epoch 16/20\n",
      "459/459 [==============================] - 6s 13ms/step - loss: 0.1074 - mse: 0.0283\n",
      "Epoch 17/20\n",
      "459/459 [==============================] - 6s 13ms/step - loss: 0.1060 - mse: 0.0278\n",
      "Epoch 18/20\n",
      "459/459 [==============================] - 6s 13ms/step - loss: 0.1047 - mse: 0.0276\n",
      "Epoch 19/20\n",
      "459/459 [==============================] - 6s 13ms/step - loss: 0.1040 - mse: 0.0273\n",
      "Epoch 20/20\n",
      "459/459 [==============================] - 6s 13ms/step - loss: 0.1031 - mse: 0.0268\n"
     ]
    },
    {
     "name": "stderr",
     "output_type": "stream",
     "text": [
      "WARNING:absl:Found untraced functions such as _jit_compiled_convolution_op, _jit_compiled_convolution_op, _jit_compiled_convolution_op, _jit_compiled_convolution_op while saving (showing 4 of 4). These functions will not be directly callable after loading.\n"
     ]
    },
    {
     "name": "stdout",
     "output_type": "stream",
     "text": [
      "INFO:tensorflow:Assets written to: .\\auto_model\\best_model\\assets\n"
     ]
    },
    {
     "name": "stderr",
     "output_type": "stream",
     "text": [
      "INFO:tensorflow:Assets written to: .\\auto_model\\best_model\\assets\n"
     ]
    },
    {
     "name": "stdout",
     "output_type": "stream",
     "text": [
      "Reloading Tuner from .\\auto_model\\tuner0.json\n",
      "Epoch 1/20\n",
      "459/459 [==============================] - 6s 13ms/step - loss: 0.2645 - mse: 0.0992\n",
      "Epoch 2/20\n",
      "459/459 [==============================] - 6s 13ms/step - loss: 0.2426 - mse: 0.0808\n",
      "Epoch 3/20\n",
      "459/459 [==============================] - 6s 13ms/step - loss: 0.2141 - mse: 0.0681\n",
      "Epoch 4/20\n",
      "459/459 [==============================] - 6s 13ms/step - loss: 0.1904 - mse: 0.0574\n",
      "Epoch 5/20\n",
      "459/459 [==============================] - 6s 13ms/step - loss: 0.1725 - mse: 0.0495\n",
      "Epoch 6/20\n",
      "459/459 [==============================] - 6s 13ms/step - loss: 0.1550 - mse: 0.0427\n",
      "Epoch 7/20\n",
      "459/459 [==============================] - 6s 13ms/step - loss: 0.1420 - mse: 0.0381\n",
      "Epoch 8/20\n",
      "459/459 [==============================] - 6s 13ms/step - loss: 0.1330 - mse: 0.0354\n",
      "Epoch 9/20\n",
      "459/459 [==============================] - 6s 13ms/step - loss: 0.1270 - mse: 0.0336\n",
      "Epoch 10/20\n",
      "459/459 [==============================] - 6s 13ms/step - loss: 0.1227 - mse: 0.0324\n",
      "Epoch 11/20\n",
      "459/459 [==============================] - 6s 13ms/step - loss: 0.1190 - mse: 0.0313\n",
      "Epoch 12/20\n",
      "459/459 [==============================] - 6s 13ms/step - loss: 0.1146 - mse: 0.0303\n",
      "Epoch 13/20\n",
      "459/459 [==============================] - 6s 13ms/step - loss: 0.1110 - mse: 0.0292\n",
      "Epoch 14/20\n",
      "459/459 [==============================] - 6s 13ms/step - loss: 0.1081 - mse: 0.0284\n",
      "Epoch 15/20\n",
      "459/459 [==============================] - 6s 13ms/step - loss: 0.1060 - mse: 0.0277\n",
      "Epoch 16/20\n",
      "459/459 [==============================] - 6s 13ms/step - loss: 0.1046 - mse: 0.0273\n",
      "Epoch 17/20\n",
      "459/459 [==============================] - 6s 13ms/step - loss: 0.1035 - mse: 0.0271\n",
      "Epoch 18/20\n",
      "459/459 [==============================] - 6s 13ms/step - loss: 0.1022 - mse: 0.0266\n",
      "Epoch 19/20\n",
      "459/459 [==============================] - 6s 13ms/step - loss: 0.1006 - mse: 0.0261\n",
      "Epoch 20/20\n",
      "459/459 [==============================] - 6s 13ms/step - loss: 0.0999 - mse: 0.0260\n"
     ]
    },
    {
     "name": "stderr",
     "output_type": "stream",
     "text": [
      "WARNING:absl:Found untraced functions such as _jit_compiled_convolution_op, _jit_compiled_convolution_op, _jit_compiled_convolution_op, _jit_compiled_convolution_op while saving (showing 4 of 4). These functions will not be directly callable after loading.\n"
     ]
    },
    {
     "name": "stdout",
     "output_type": "stream",
     "text": [
      "INFO:tensorflow:Assets written to: .\\auto_model\\best_model\\assets\n"
     ]
    },
    {
     "name": "stderr",
     "output_type": "stream",
     "text": [
      "INFO:tensorflow:Assets written to: .\\auto_model\\best_model\\assets\n"
     ]
    },
    {
     "name": "stdout",
     "output_type": "stream",
     "text": [
      "Reloading Tuner from .\\auto_model\\tuner0.json\n",
      "Epoch 1/20\n",
      "459/459 [==============================] - 6s 13ms/step - loss: 0.2611 - mse: 0.0961\n",
      "Epoch 2/20\n",
      "459/459 [==============================] - 6s 13ms/step - loss: 0.2420 - mse: 0.0809\n",
      "Epoch 3/20\n",
      "459/459 [==============================] - 6s 13ms/step - loss: 0.2131 - mse: 0.0682\n",
      "Epoch 4/20\n",
      "459/459 [==============================] - 6s 13ms/step - loss: 0.1928 - mse: 0.0586\n",
      "Epoch 5/20\n",
      "459/459 [==============================] - 6s 13ms/step - loss: 0.1746 - mse: 0.0506\n",
      "Epoch 6/20\n",
      "459/459 [==============================] - 6s 13ms/step - loss: 0.1593 - mse: 0.0445\n",
      "Epoch 7/20\n",
      "459/459 [==============================] - 6s 13ms/step - loss: 0.1484 - mse: 0.0402\n",
      "Epoch 8/20\n",
      "459/459 [==============================] - 6s 13ms/step - loss: 0.1406 - mse: 0.0374\n",
      "Epoch 9/20\n",
      "459/459 [==============================] - 6s 13ms/step - loss: 0.1349 - mse: 0.0354\n",
      "Epoch 10/20\n",
      "459/459 [==============================] - 6s 13ms/step - loss: 0.1306 - mse: 0.0340\n",
      "Epoch 11/20\n",
      "459/459 [==============================] - 6s 13ms/step - loss: 0.1267 - mse: 0.0329\n",
      "Epoch 12/20\n",
      "459/459 [==============================] - 6s 13ms/step - loss: 0.1237 - mse: 0.0320\n",
      "Epoch 13/20\n",
      "459/459 [==============================] - 6s 13ms/step - loss: 0.1220 - mse: 0.0316\n",
      "Epoch 14/20\n",
      "459/459 [==============================] - 6s 13ms/step - loss: 0.1202 - mse: 0.0311\n",
      "Epoch 15/20\n",
      "459/459 [==============================] - 6s 13ms/step - loss: 0.1172 - mse: 0.0302\n",
      "Epoch 16/20\n",
      "459/459 [==============================] - 6s 13ms/step - loss: 0.1158 - mse: 0.0299\n",
      "Epoch 17/20\n",
      "459/459 [==============================] - 6s 13ms/step - loss: 0.1150 - mse: 0.0296\n",
      "Epoch 18/20\n",
      "459/459 [==============================] - 6s 13ms/step - loss: 0.1127 - mse: 0.0290\n",
      "Epoch 19/20\n",
      "459/459 [==============================] - 6s 13ms/step - loss: 0.1121 - mse: 0.0290\n",
      "Epoch 20/20\n",
      "459/459 [==============================] - 6s 13ms/step - loss: 0.1104 - mse: 0.0283\n"
     ]
    },
    {
     "name": "stderr",
     "output_type": "stream",
     "text": [
      "WARNING:absl:Found untraced functions such as _jit_compiled_convolution_op, _jit_compiled_convolution_op, _jit_compiled_convolution_op, _jit_compiled_convolution_op while saving (showing 4 of 4). These functions will not be directly callable after loading.\n"
     ]
    },
    {
     "name": "stdout",
     "output_type": "stream",
     "text": [
      "INFO:tensorflow:Assets written to: .\\auto_model\\best_model\\assets\n"
     ]
    },
    {
     "name": "stderr",
     "output_type": "stream",
     "text": [
      "INFO:tensorflow:Assets written to: .\\auto_model\\best_model\\assets\n"
     ]
    },
    {
     "name": "stdout",
     "output_type": "stream",
     "text": [
      "Reloading Tuner from .\\auto_model\\tuner0.json\n",
      "Epoch 1/20\n",
      "459/459 [==============================] - 6s 13ms/step - loss: 0.2621 - mse: 0.0974\n",
      "Epoch 2/20\n",
      "459/459 [==============================] - 6s 13ms/step - loss: 0.2362 - mse: 0.0775\n",
      "Epoch 3/20\n",
      "459/459 [==============================] - 6s 13ms/step - loss: 0.1996 - mse: 0.0616\n",
      "Epoch 4/20\n",
      "459/459 [==============================] - 6s 13ms/step - loss: 0.1754 - mse: 0.0506\n",
      "Epoch 5/20\n",
      "459/459 [==============================] - 6s 13ms/step - loss: 0.1548 - mse: 0.0425\n",
      "Epoch 6/20\n",
      "459/459 [==============================] - 6s 13ms/step - loss: 0.1406 - mse: 0.0376\n",
      "Epoch 7/20\n",
      "459/459 [==============================] - 6s 13ms/step - loss: 0.1313 - mse: 0.0345\n",
      "Epoch 8/20\n",
      "459/459 [==============================] - 6s 13ms/step - loss: 0.1245 - mse: 0.0326\n",
      "Epoch 9/20\n",
      "459/459 [==============================] - 6s 13ms/step - loss: 0.1207 - mse: 0.0315\n",
      "Epoch 10/20\n",
      "459/459 [==============================] - 6s 13ms/step - loss: 0.1169 - mse: 0.0304\n",
      "Epoch 11/20\n",
      "459/459 [==============================] - 6s 13ms/step - loss: 0.1130 - mse: 0.0292\n",
      "Epoch 12/20\n",
      "459/459 [==============================] - 6s 13ms/step - loss: 0.1102 - mse: 0.0286\n",
      "Epoch 13/20\n",
      "459/459 [==============================] - 6s 13ms/step - loss: 0.1078 - mse: 0.0280\n",
      "Epoch 14/20\n",
      "459/459 [==============================] - 6s 13ms/step - loss: 0.1064 - mse: 0.0277\n",
      "Epoch 15/20\n",
      "459/459 [==============================] - 6s 13ms/step - loss: 0.1051 - mse: 0.0274\n",
      "Epoch 16/20\n",
      "459/459 [==============================] - 6s 13ms/step - loss: 0.1038 - mse: 0.0269\n",
      "Epoch 17/20\n",
      "459/459 [==============================] - 6s 13ms/step - loss: 0.1029 - mse: 0.0265\n",
      "Epoch 18/20\n",
      "459/459 [==============================] - 6s 13ms/step - loss: 0.1022 - mse: 0.0264\n",
      "Epoch 19/20\n",
      "459/459 [==============================] - 6s 13ms/step - loss: 0.1011 - mse: 0.0260\n",
      "Epoch 20/20\n",
      "459/459 [==============================] - 6s 13ms/step - loss: 0.1005 - mse: 0.0257\n"
     ]
    },
    {
     "name": "stderr",
     "output_type": "stream",
     "text": [
      "WARNING:absl:Found untraced functions such as _jit_compiled_convolution_op, _jit_compiled_convolution_op, _jit_compiled_convolution_op, _jit_compiled_convolution_op while saving (showing 4 of 4). These functions will not be directly callable after loading.\n"
     ]
    },
    {
     "name": "stdout",
     "output_type": "stream",
     "text": [
      "INFO:tensorflow:Assets written to: .\\auto_model\\best_model\\assets\n"
     ]
    },
    {
     "name": "stderr",
     "output_type": "stream",
     "text": [
      "INFO:tensorflow:Assets written to: .\\auto_model\\best_model\\assets\n"
     ]
    },
    {
     "name": "stdout",
     "output_type": "stream",
     "text": [
      "Reloading Tuner from .\\auto_model\\tuner0.json\n",
      "Epoch 1/20\n",
      "459/459 [==============================] - 6s 13ms/step - loss: 0.2651 - mse: 0.1003\n",
      "Epoch 2/20\n",
      "459/459 [==============================] - 6s 13ms/step - loss: 0.2352 - mse: 0.0771\n",
      "Epoch 3/20\n",
      "459/459 [==============================] - 6s 13ms/step - loss: 0.1937 - mse: 0.0591\n",
      "Epoch 4/20\n",
      "459/459 [==============================] - 6s 13ms/step - loss: 0.1714 - mse: 0.0492\n",
      "Epoch 5/20\n",
      "459/459 [==============================] - 6s 13ms/step - loss: 0.1551 - mse: 0.0429\n",
      "Epoch 6/20\n",
      "459/459 [==============================] - 6s 13ms/step - loss: 0.1444 - mse: 0.0389\n",
      "Epoch 7/20\n",
      "459/459 [==============================] - 6s 13ms/step - loss: 0.1371 - mse: 0.0363\n",
      "Epoch 8/20\n",
      "459/459 [==============================] - 6s 13ms/step - loss: 0.1320 - mse: 0.0345\n",
      "Epoch 9/20\n",
      "459/459 [==============================] - 6s 13ms/step - loss: 0.1279 - mse: 0.0332\n",
      "Epoch 10/20\n",
      "459/459 [==============================] - 6s 13ms/step - loss: 0.1242 - mse: 0.0321\n",
      "Epoch 11/20\n",
      "459/459 [==============================] - 6s 13ms/step - loss: 0.1214 - mse: 0.0314\n",
      "Epoch 12/20\n",
      "459/459 [==============================] - 6s 13ms/step - loss: 0.1189 - mse: 0.0307\n",
      "Epoch 13/20\n",
      "459/459 [==============================] - 6s 13ms/step - loss: 0.1175 - mse: 0.0304\n",
      "Epoch 14/20\n",
      "459/459 [==============================] - 6s 13ms/step - loss: 0.1147 - mse: 0.0296\n",
      "Epoch 15/20\n",
      "459/459 [==============================] - 6s 13ms/step - loss: 0.1131 - mse: 0.0292\n",
      "Epoch 16/20\n",
      "459/459 [==============================] - 6s 13ms/step - loss: 0.1120 - mse: 0.0289\n",
      "Epoch 17/20\n",
      "459/459 [==============================] - 6s 13ms/step - loss: 0.1104 - mse: 0.0284\n",
      "Epoch 18/20\n",
      "459/459 [==============================] - 6s 13ms/step - loss: 0.1090 - mse: 0.0281\n",
      "Epoch 19/20\n",
      "459/459 [==============================] - 6s 13ms/step - loss: 0.1078 - mse: 0.0277\n",
      "Epoch 20/20\n",
      "459/459 [==============================] - 6s 13ms/step - loss: 0.1069 - mse: 0.0276\n"
     ]
    },
    {
     "name": "stderr",
     "output_type": "stream",
     "text": [
      "WARNING:absl:Found untraced functions such as _jit_compiled_convolution_op, _jit_compiled_convolution_op, _jit_compiled_convolution_op, _jit_compiled_convolution_op while saving (showing 4 of 4). These functions will not be directly callable after loading.\n"
     ]
    },
    {
     "name": "stdout",
     "output_type": "stream",
     "text": [
      "INFO:tensorflow:Assets written to: .\\auto_model\\best_model\\assets\n"
     ]
    },
    {
     "name": "stderr",
     "output_type": "stream",
     "text": [
      "INFO:tensorflow:Assets written to: .\\auto_model\\best_model\\assets\n"
     ]
    },
    {
     "name": "stdout",
     "output_type": "stream",
     "text": [
      "Reloading Tuner from .\\auto_model\\tuner0.json\n",
      "Epoch 1/20\n",
      "459/459 [==============================] - 6s 13ms/step - loss: 0.2647 - mse: 0.0994\n",
      "Epoch 2/20\n",
      "459/459 [==============================] - 6s 13ms/step - loss: 0.2432 - mse: 0.0814\n",
      "Epoch 3/20\n",
      "459/459 [==============================] - 6s 13ms/step - loss: 0.2207 - mse: 0.0716\n",
      "Epoch 4/20\n",
      "459/459 [==============================] - 6s 13ms/step - loss: 0.2022 - mse: 0.0633\n",
      "Epoch 5/20\n",
      "459/459 [==============================] - 6s 13ms/step - loss: 0.1912 - mse: 0.0579\n",
      "Epoch 6/20\n",
      "459/459 [==============================] - 6s 13ms/step - loss: 0.1779 - mse: 0.0519\n",
      "Epoch 7/20\n",
      "459/459 [==============================] - 6s 13ms/step - loss: 0.1658 - mse: 0.0472\n",
      "Epoch 8/20\n",
      "459/459 [==============================] - 6s 13ms/step - loss: 0.1544 - mse: 0.0428\n",
      "Epoch 9/20\n",
      "459/459 [==============================] - 6s 13ms/step - loss: 0.1456 - mse: 0.0394\n",
      "Epoch 10/20\n",
      "459/459 [==============================] - 6s 13ms/step - loss: 0.1388 - mse: 0.0369\n",
      "Epoch 11/20\n",
      "459/459 [==============================] - 6s 13ms/step - loss: 0.1338 - mse: 0.0350\n",
      "Epoch 12/20\n",
      "459/459 [==============================] - 6s 13ms/step - loss: 0.1299 - mse: 0.0338\n",
      "Epoch 13/20\n",
      "459/459 [==============================] - 6s 13ms/step - loss: 0.1267 - mse: 0.0330\n",
      "Epoch 14/20\n",
      "459/459 [==============================] - 6s 13ms/step - loss: 0.1237 - mse: 0.0321\n",
      "Epoch 15/20\n",
      "459/459 [==============================] - 6s 13ms/step - loss: 0.1213 - mse: 0.0314\n",
      "Epoch 16/20\n",
      "459/459 [==============================] - 6s 13ms/step - loss: 0.1193 - mse: 0.0308\n",
      "Epoch 17/20\n",
      "459/459 [==============================] - 6s 13ms/step - loss: 0.1181 - mse: 0.0306\n",
      "Epoch 18/20\n",
      "459/459 [==============================] - 6s 13ms/step - loss: 0.1161 - mse: 0.0300\n",
      "Epoch 19/20\n",
      "459/459 [==============================] - 6s 13ms/step - loss: 0.1142 - mse: 0.0295\n",
      "Epoch 20/20\n",
      "459/459 [==============================] - 6s 13ms/step - loss: 0.1129 - mse: 0.0292\n"
     ]
    },
    {
     "name": "stderr",
     "output_type": "stream",
     "text": [
      "WARNING:absl:Found untraced functions such as _jit_compiled_convolution_op, _jit_compiled_convolution_op, _jit_compiled_convolution_op, _jit_compiled_convolution_op while saving (showing 4 of 4). These functions will not be directly callable after loading.\n"
     ]
    },
    {
     "name": "stdout",
     "output_type": "stream",
     "text": [
      "INFO:tensorflow:Assets written to: .\\auto_model\\best_model\\assets\n"
     ]
    },
    {
     "name": "stderr",
     "output_type": "stream",
     "text": [
      "INFO:tensorflow:Assets written to: .\\auto_model\\best_model\\assets\n"
     ]
    },
    {
     "name": "stdout",
     "output_type": "stream",
     "text": [
      "Reloading Tuner from .\\auto_model\\tuner0.json\n",
      "Epoch 1/20\n",
      "459/459 [==============================] - 6s 13ms/step - loss: 0.2645 - mse: 0.1000\n",
      "Epoch 2/20\n",
      "459/459 [==============================] - 6s 13ms/step - loss: 0.2382 - mse: 0.0788\n",
      "Epoch 3/20\n",
      "459/459 [==============================] - 6s 13ms/step - loss: 0.2016 - mse: 0.0630\n",
      "Epoch 4/20\n",
      "459/459 [==============================] - 6s 13ms/step - loss: 0.1844 - mse: 0.0548\n",
      "Epoch 5/20\n",
      "459/459 [==============================] - 6s 13ms/step - loss: 0.1685 - mse: 0.0478\n",
      "Epoch 6/20\n",
      "459/459 [==============================] - 6s 13ms/step - loss: 0.1536 - mse: 0.0424\n",
      "Epoch 7/20\n",
      "459/459 [==============================] - 6s 13ms/step - loss: 0.1433 - mse: 0.0386\n",
      "Epoch 8/20\n",
      "459/459 [==============================] - 6s 13ms/step - loss: 0.1354 - mse: 0.0358\n",
      "Epoch 9/20\n",
      "459/459 [==============================] - 6s 13ms/step - loss: 0.1293 - mse: 0.0339\n",
      "Epoch 10/20\n",
      "459/459 [==============================] - 6s 13ms/step - loss: 0.1237 - mse: 0.0324\n",
      "Epoch 11/20\n",
      "459/459 [==============================] - 6s 13ms/step - loss: 0.1194 - mse: 0.0311\n",
      "Epoch 12/20\n",
      "459/459 [==============================] - 6s 14ms/step - loss: 0.1155 - mse: 0.0302\n",
      "Epoch 13/20\n",
      "459/459 [==============================] - 6s 13ms/step - loss: 0.1135 - mse: 0.0294\n",
      "Epoch 14/20\n",
      "459/459 [==============================] - 6s 14ms/step - loss: 0.1106 - mse: 0.0288\n",
      "Epoch 15/20\n",
      "459/459 [==============================] - 6s 13ms/step - loss: 0.1089 - mse: 0.0281\n",
      "Epoch 16/20\n",
      "459/459 [==============================] - 6s 13ms/step - loss: 0.1072 - mse: 0.0277\n",
      "Epoch 17/20\n",
      "459/459 [==============================] - 6s 13ms/step - loss: 0.1067 - mse: 0.0274\n",
      "Epoch 18/20\n",
      "459/459 [==============================] - 6s 13ms/step - loss: 0.1051 - mse: 0.0269\n",
      "Epoch 19/20\n",
      "459/459 [==============================] - 6s 13ms/step - loss: 0.1042 - mse: 0.0267\n",
      "Epoch 20/20\n",
      "459/459 [==============================] - 6s 14ms/step - loss: 0.1038 - mse: 0.0265\n"
     ]
    },
    {
     "name": "stderr",
     "output_type": "stream",
     "text": [
      "WARNING:absl:Found untraced functions such as _jit_compiled_convolution_op, _jit_compiled_convolution_op, _jit_compiled_convolution_op, _jit_compiled_convolution_op while saving (showing 4 of 4). These functions will not be directly callable after loading.\n"
     ]
    },
    {
     "name": "stdout",
     "output_type": "stream",
     "text": [
      "INFO:tensorflow:Assets written to: .\\auto_model\\best_model\\assets\n"
     ]
    },
    {
     "name": "stderr",
     "output_type": "stream",
     "text": [
      "INFO:tensorflow:Assets written to: .\\auto_model\\best_model\\assets\n"
     ]
    },
    {
     "name": "stdout",
     "output_type": "stream",
     "text": [
      "Reloading Tuner from .\\auto_model\\tuner0.json\n",
      "Epoch 1/20\n",
      "459/459 [==============================] - 7s 14ms/step - loss: 0.2629 - mse: 0.0982\n",
      "Epoch 2/20\n",
      "459/459 [==============================] - 6s 13ms/step - loss: 0.2411 - mse: 0.0803\n",
      "Epoch 3/20\n",
      "459/459 [==============================] - 6s 13ms/step - loss: 0.2075 - mse: 0.0653\n",
      "Epoch 4/20\n",
      "459/459 [==============================] - 6s 13ms/step - loss: 0.1850 - mse: 0.0552\n",
      "Epoch 5/20\n",
      "459/459 [==============================] - 6s 14ms/step - loss: 0.1676 - mse: 0.0480\n",
      "Epoch 6/20\n",
      "459/459 [==============================] - 6s 13ms/step - loss: 0.1538 - mse: 0.0426\n",
      "Epoch 7/20\n",
      "459/459 [==============================] - 6s 13ms/step - loss: 0.1448 - mse: 0.0393\n",
      "Epoch 8/20\n",
      "459/459 [==============================] - 6s 13ms/step - loss: 0.1386 - mse: 0.0371\n",
      "Epoch 9/20\n",
      "459/459 [==============================] - 6s 13ms/step - loss: 0.1339 - mse: 0.0355\n",
      "Epoch 10/20\n",
      "459/459 [==============================] - 6s 13ms/step - loss: 0.1306 - mse: 0.0345\n",
      "Epoch 11/20\n",
      "459/459 [==============================] - 6s 14ms/step - loss: 0.1274 - mse: 0.0336\n",
      "Epoch 12/20\n",
      "459/459 [==============================] - 6s 13ms/step - loss: 0.1253 - mse: 0.0330\n",
      "Epoch 13/20\n",
      "459/459 [==============================] - 6s 14ms/step - loss: 0.1232 - mse: 0.0325\n",
      "Epoch 14/20\n",
      "459/459 [==============================] - 6s 14ms/step - loss: 0.1212 - mse: 0.0320\n",
      "Epoch 15/20\n",
      "459/459 [==============================] - 6s 13ms/step - loss: 0.1197 - mse: 0.0317\n",
      "Epoch 16/20\n",
      "459/459 [==============================] - 6s 13ms/step - loss: 0.1176 - mse: 0.0309\n",
      "Epoch 17/20\n",
      "459/459 [==============================] - 6s 14ms/step - loss: 0.1165 - mse: 0.0306\n",
      "Epoch 18/20\n",
      "459/459 [==============================] - 6s 13ms/step - loss: 0.1152 - mse: 0.0303\n",
      "Epoch 19/20\n",
      "459/459 [==============================] - 6s 14ms/step - loss: 0.1138 - mse: 0.0299\n",
      "Epoch 20/20\n",
      "459/459 [==============================] - 6s 14ms/step - loss: 0.1133 - mse: 0.0298\n"
     ]
    },
    {
     "name": "stderr",
     "output_type": "stream",
     "text": [
      "WARNING:absl:Found untraced functions such as _jit_compiled_convolution_op, _jit_compiled_convolution_op, _jit_compiled_convolution_op, _jit_compiled_convolution_op while saving (showing 4 of 4). These functions will not be directly callable after loading.\n"
     ]
    },
    {
     "name": "stdout",
     "output_type": "stream",
     "text": [
      "INFO:tensorflow:Assets written to: .\\auto_model\\best_model\\assets\n"
     ]
    },
    {
     "name": "stderr",
     "output_type": "stream",
     "text": [
      "INFO:tensorflow:Assets written to: .\\auto_model\\best_model\\assets\n"
     ]
    },
    {
     "name": "stdout",
     "output_type": "stream",
     "text": [
      "Reloading Tuner from .\\auto_model\\tuner0.json\n",
      "Epoch 1/20\n",
      "459/459 [==============================] - 7s 14ms/step - loss: 0.2652 - mse: 0.1000\n",
      "Epoch 2/20\n",
      "459/459 [==============================] - 6s 14ms/step - loss: 0.2372 - mse: 0.0782\n",
      "Epoch 3/20\n",
      "459/459 [==============================] - 6s 14ms/step - loss: 0.1971 - mse: 0.0607\n",
      "Epoch 4/20\n",
      "459/459 [==============================] - 6s 13ms/step - loss: 0.1769 - mse: 0.0516\n",
      "Epoch 5/20\n",
      "459/459 [==============================] - 6s 13ms/step - loss: 0.1606 - mse: 0.0451\n",
      "Epoch 6/20\n",
      "459/459 [==============================] - 6s 13ms/step - loss: 0.1502 - mse: 0.0412\n",
      "Epoch 7/20\n",
      "459/459 [==============================] - 6s 13ms/step - loss: 0.1421 - mse: 0.0381\n",
      "Epoch 8/20\n",
      "459/459 [==============================] - 6s 13ms/step - loss: 0.1370 - mse: 0.0366\n",
      "Epoch 9/20\n",
      "459/459 [==============================] - 6s 14ms/step - loss: 0.1328 - mse: 0.0351\n",
      "Epoch 10/20\n",
      "459/459 [==============================] - 6s 13ms/step - loss: 0.1298 - mse: 0.0342\n",
      "Epoch 11/20\n",
      "459/459 [==============================] - 6s 14ms/step - loss: 0.1270 - mse: 0.0334\n",
      "Epoch 12/20\n",
      "459/459 [==============================] - 6s 14ms/step - loss: 0.1252 - mse: 0.0329\n",
      "Epoch 13/20\n",
      "459/459 [==============================] - 6s 13ms/step - loss: 0.1224 - mse: 0.0319\n",
      "Epoch 14/20\n",
      "459/459 [==============================] - 6s 13ms/step - loss: 0.1212 - mse: 0.0317\n",
      "Epoch 15/20\n",
      "459/459 [==============================] - 6s 13ms/step - loss: 0.1204 - mse: 0.0317\n",
      "Epoch 16/20\n",
      "459/459 [==============================] - 6s 13ms/step - loss: 0.1180 - mse: 0.0308\n",
      "Epoch 17/20\n",
      "459/459 [==============================] - 6s 13ms/step - loss: 0.1175 - mse: 0.0308\n",
      "Epoch 18/20\n",
      "459/459 [==============================] - 6s 13ms/step - loss: 0.1156 - mse: 0.0302\n",
      "Epoch 19/20\n",
      "459/459 [==============================] - 6s 14ms/step - loss: 0.1139 - mse: 0.0296\n",
      "Epoch 20/20\n",
      "459/459 [==============================] - 6s 13ms/step - loss: 0.1129 - mse: 0.0294\n"
     ]
    },
    {
     "name": "stderr",
     "output_type": "stream",
     "text": [
      "WARNING:absl:Found untraced functions such as _jit_compiled_convolution_op, _jit_compiled_convolution_op, _jit_compiled_convolution_op, _jit_compiled_convolution_op while saving (showing 4 of 4). These functions will not be directly callable after loading.\n"
     ]
    },
    {
     "name": "stdout",
     "output_type": "stream",
     "text": [
      "INFO:tensorflow:Assets written to: .\\auto_model\\best_model\\assets\n"
     ]
    },
    {
     "name": "stderr",
     "output_type": "stream",
     "text": [
      "INFO:tensorflow:Assets written to: .\\auto_model\\best_model\\assets\n"
     ]
    },
    {
     "name": "stdout",
     "output_type": "stream",
     "text": [
      "Reloading Tuner from .\\auto_model\\tuner0.json\n",
      "Epoch 1/20\n",
      "459/459 [==============================] - 6s 13ms/step - loss: 0.2579 - mse: 0.0936\n",
      "Epoch 2/20\n",
      "459/459 [==============================] - 6s 13ms/step - loss: 0.2397 - mse: 0.0798\n",
      "Epoch 3/20\n",
      "459/459 [==============================] - 6s 13ms/step - loss: 0.2114 - mse: 0.0676\n",
      "Epoch 4/20\n",
      "459/459 [==============================] - 6s 13ms/step - loss: 0.1904 - mse: 0.0577\n",
      "Epoch 5/20\n",
      "459/459 [==============================] - 6s 13ms/step - loss: 0.1725 - mse: 0.0501\n",
      "Epoch 6/20\n",
      "459/459 [==============================] - 6s 13ms/step - loss: 0.1586 - mse: 0.0446\n",
      "Epoch 7/20\n",
      "459/459 [==============================] - 6s 13ms/step - loss: 0.1489 - mse: 0.0409\n",
      "Epoch 8/20\n",
      "459/459 [==============================] - 6s 13ms/step - loss: 0.1418 - mse: 0.0382\n",
      "Epoch 9/20\n",
      "459/459 [==============================] - 6s 13ms/step - loss: 0.1368 - mse: 0.0363\n",
      "Epoch 10/20\n",
      "459/459 [==============================] - 6s 13ms/step - loss: 0.1325 - mse: 0.0350\n",
      "Epoch 11/20\n",
      "459/459 [==============================] - 6s 13ms/step - loss: 0.1291 - mse: 0.0337\n",
      "Epoch 12/20\n",
      "459/459 [==============================] - 6s 13ms/step - loss: 0.1264 - mse: 0.0331\n",
      "Epoch 13/20\n",
      "459/459 [==============================] - 6s 14ms/step - loss: 0.1238 - mse: 0.0324\n",
      "Epoch 14/20\n",
      "459/459 [==============================] - 6s 14ms/step - loss: 0.1220 - mse: 0.0318\n",
      "Epoch 15/20\n",
      "459/459 [==============================] - 6s 13ms/step - loss: 0.1195 - mse: 0.0310\n",
      "Epoch 16/20\n",
      "459/459 [==============================] - 6s 13ms/step - loss: 0.1177 - mse: 0.0307\n",
      "Epoch 17/20\n",
      "459/459 [==============================] - 6s 14ms/step - loss: 0.1164 - mse: 0.0303\n",
      "Epoch 18/20\n",
      "459/459 [==============================] - 6s 14ms/step - loss: 0.1146 - mse: 0.0298\n",
      "Epoch 19/20\n",
      "459/459 [==============================] - 6s 14ms/step - loss: 0.1134 - mse: 0.0296\n",
      "Epoch 20/20\n",
      "459/459 [==============================] - 6s 14ms/step - loss: 0.1115 - mse: 0.0289\n"
     ]
    },
    {
     "name": "stderr",
     "output_type": "stream",
     "text": [
      "WARNING:absl:Found untraced functions such as _jit_compiled_convolution_op, _jit_compiled_convolution_op, _jit_compiled_convolution_op, _jit_compiled_convolution_op while saving (showing 4 of 4). These functions will not be directly callable after loading.\n"
     ]
    },
    {
     "name": "stdout",
     "output_type": "stream",
     "text": [
      "INFO:tensorflow:Assets written to: .\\auto_model\\best_model\\assets\n"
     ]
    },
    {
     "name": "stderr",
     "output_type": "stream",
     "text": [
      "INFO:tensorflow:Assets written to: .\\auto_model\\best_model\\assets\n"
     ]
    },
    {
     "name": "stdout",
     "output_type": "stream",
     "text": [
      "Reloading Tuner from .\\auto_model\\tuner0.json\n",
      "Epoch 1/20\n",
      "459/459 [==============================] - 7s 14ms/step - loss: 0.2648 - mse: 0.1006\n",
      "Epoch 2/20\n",
      "459/459 [==============================] - 6s 13ms/step - loss: 0.2417 - mse: 0.0808\n",
      "Epoch 3/20\n",
      "459/459 [==============================] - 6s 13ms/step - loss: 0.2171 - mse: 0.0698\n",
      "Epoch 4/20\n",
      "459/459 [==============================] - 6s 13ms/step - loss: 0.2010 - mse: 0.0626\n",
      "Epoch 5/20\n",
      "459/459 [==============================] - 6s 13ms/step - loss: 0.1887 - mse: 0.0566\n",
      "Epoch 6/20\n",
      "459/459 [==============================] - 6s 14ms/step - loss: 0.1725 - mse: 0.0494\n",
      "Epoch 7/20\n",
      "459/459 [==============================] - 6s 13ms/step - loss: 0.1569 - mse: 0.0432\n",
      "Epoch 8/20\n",
      "459/459 [==============================] - 6s 14ms/step - loss: 0.1457 - mse: 0.0389\n",
      "Epoch 9/20\n",
      "459/459 [==============================] - 6s 13ms/step - loss: 0.1373 - mse: 0.0360\n",
      "Epoch 10/20\n",
      "459/459 [==============================] - 6s 14ms/step - loss: 0.1303 - mse: 0.0338\n",
      "Epoch 11/20\n",
      "459/459 [==============================] - 6s 13ms/step - loss: 0.1255 - mse: 0.0323\n",
      "Epoch 12/20\n",
      "459/459 [==============================] - 6s 13ms/step - loss: 0.1203 - mse: 0.0308\n",
      "Epoch 13/20\n",
      "459/459 [==============================] - 6s 13ms/step - loss: 0.1161 - mse: 0.0296\n",
      "Epoch 14/20\n",
      "459/459 [==============================] - 6s 13ms/step - loss: 0.1139 - mse: 0.0289\n",
      "Epoch 15/20\n",
      "459/459 [==============================] - 6s 13ms/step - loss: 0.1105 - mse: 0.0282\n",
      "Epoch 16/20\n",
      "459/459 [==============================] - 6s 13ms/step - loss: 0.1074 - mse: 0.0274\n",
      "Epoch 17/20\n",
      "459/459 [==============================] - 6s 13ms/step - loss: 0.1063 - mse: 0.0270\n",
      "Epoch 18/20\n",
      "459/459 [==============================] - 6s 13ms/step - loss: 0.1037 - mse: 0.0264\n",
      "Epoch 19/20\n",
      "459/459 [==============================] - 6s 13ms/step - loss: 0.1015 - mse: 0.0260\n",
      "Epoch 20/20\n",
      "459/459 [==============================] - 6s 13ms/step - loss: 0.0998 - mse: 0.0255\n"
     ]
    },
    {
     "name": "stderr",
     "output_type": "stream",
     "text": [
      "WARNING:absl:Found untraced functions such as _jit_compiled_convolution_op, _jit_compiled_convolution_op, _jit_compiled_convolution_op, _jit_compiled_convolution_op while saving (showing 4 of 4). These functions will not be directly callable after loading.\n"
     ]
    },
    {
     "name": "stdout",
     "output_type": "stream",
     "text": [
      "INFO:tensorflow:Assets written to: .\\auto_model\\best_model\\assets\n"
     ]
    },
    {
     "name": "stderr",
     "output_type": "stream",
     "text": [
      "INFO:tensorflow:Assets written to: .\\auto_model\\best_model\\assets\n"
     ]
    },
    {
     "name": "stdout",
     "output_type": "stream",
     "text": [
      "Reloading Tuner from .\\auto_model\\tuner0.json\n",
      "Epoch 1/20\n",
      "459/459 [==============================] - 7s 14ms/step - loss: 0.2668 - mse: 0.1015\n",
      "Epoch 2/20\n",
      "459/459 [==============================] - 6s 13ms/step - loss: 0.2388 - mse: 0.0787\n",
      "Epoch 3/20\n",
      "459/459 [==============================] - 6s 13ms/step - loss: 0.1997 - mse: 0.0618\n",
      "Epoch 4/20\n",
      "459/459 [==============================] - 6s 13ms/step - loss: 0.1765 - mse: 0.0516\n",
      "Epoch 5/20\n",
      "459/459 [==============================] - 6s 13ms/step - loss: 0.1579 - mse: 0.0444\n",
      "Epoch 6/20\n",
      "459/459 [==============================] - 6s 13ms/step - loss: 0.1460 - mse: 0.0398\n",
      "Epoch 7/20\n",
      "459/459 [==============================] - 6s 13ms/step - loss: 0.1378 - mse: 0.0368\n",
      "Epoch 8/20\n",
      "459/459 [==============================] - 6s 13ms/step - loss: 0.1317 - mse: 0.0346\n",
      "Epoch 9/20\n",
      "459/459 [==============================] - 6s 13ms/step - loss: 0.1267 - mse: 0.0329\n",
      "Epoch 10/20\n",
      "459/459 [==============================] - 6s 13ms/step - loss: 0.1228 - mse: 0.0318\n",
      "Epoch 11/20\n",
      "459/459 [==============================] - 6s 13ms/step - loss: 0.1199 - mse: 0.0311\n",
      "Epoch 12/20\n",
      "459/459 [==============================] - 6s 13ms/step - loss: 0.1172 - mse: 0.0302\n",
      "Epoch 13/20\n",
      "459/459 [==============================] - 6s 13ms/step - loss: 0.1144 - mse: 0.0295\n",
      "Epoch 14/20\n",
      "459/459 [==============================] - 6s 13ms/step - loss: 0.1122 - mse: 0.0288\n",
      "Epoch 15/20\n",
      "459/459 [==============================] - 6s 14ms/step - loss: 0.1108 - mse: 0.0285\n",
      "Epoch 16/20\n",
      "459/459 [==============================] - 6s 14ms/step - loss: 0.1090 - mse: 0.0280\n",
      "Epoch 17/20\n",
      "459/459 [==============================] - 6s 14ms/step - loss: 0.1078 - mse: 0.0275\n",
      "Epoch 18/20\n",
      "459/459 [==============================] - 6s 13ms/step - loss: 0.1064 - mse: 0.0271\n",
      "Epoch 19/20\n",
      "459/459 [==============================] - 6s 14ms/step - loss: 0.1054 - mse: 0.0267\n",
      "Epoch 20/20\n",
      "459/459 [==============================] - 6s 13ms/step - loss: 0.1046 - mse: 0.0266\n"
     ]
    },
    {
     "name": "stderr",
     "output_type": "stream",
     "text": [
      "WARNING:absl:Found untraced functions such as _jit_compiled_convolution_op, _jit_compiled_convolution_op, _jit_compiled_convolution_op, _jit_compiled_convolution_op while saving (showing 4 of 4). These functions will not be directly callable after loading.\n"
     ]
    },
    {
     "name": "stdout",
     "output_type": "stream",
     "text": [
      "INFO:tensorflow:Assets written to: .\\auto_model\\best_model\\assets\n"
     ]
    },
    {
     "name": "stderr",
     "output_type": "stream",
     "text": [
      "INFO:tensorflow:Assets written to: .\\auto_model\\best_model\\assets\n"
     ]
    },
    {
     "name": "stdout",
     "output_type": "stream",
     "text": [
      "Reloading Tuner from .\\auto_model\\tuner0.json\n",
      "Epoch 1/20\n",
      "459/459 [==============================] - 6s 13ms/step - loss: 0.2589 - mse: 0.0945\n",
      "Epoch 2/20\n",
      "459/459 [==============================] - 6s 13ms/step - loss: 0.2370 - mse: 0.0781\n",
      "Epoch 3/20\n",
      "459/459 [==============================] - 6s 13ms/step - loss: 0.1994 - mse: 0.0616\n",
      "Epoch 4/20\n",
      "459/459 [==============================] - 6s 13ms/step - loss: 0.1793 - mse: 0.0525\n",
      "Epoch 5/20\n",
      "459/459 [==============================] - 6s 13ms/step - loss: 0.1629 - mse: 0.0459\n",
      "Epoch 6/20\n",
      "459/459 [==============================] - 6s 13ms/step - loss: 0.1507 - mse: 0.0414\n",
      "Epoch 7/20\n",
      "459/459 [==============================] - 6s 13ms/step - loss: 0.1412 - mse: 0.0378\n",
      "Epoch 8/20\n",
      "459/459 [==============================] - 6s 13ms/step - loss: 0.1348 - mse: 0.0355\n",
      "Epoch 9/20\n",
      "459/459 [==============================] - 6s 13ms/step - loss: 0.1300 - mse: 0.0341\n",
      "Epoch 10/20\n",
      "459/459 [==============================] - 6s 13ms/step - loss: 0.1260 - mse: 0.0328\n",
      "Epoch 11/20\n",
      "459/459 [==============================] - 6s 13ms/step - loss: 0.1231 - mse: 0.0321\n",
      "Epoch 12/20\n",
      "459/459 [==============================] - 6s 13ms/step - loss: 0.1208 - mse: 0.0316\n",
      "Epoch 13/20\n",
      "459/459 [==============================] - 6s 13ms/step - loss: 0.1183 - mse: 0.0308\n",
      "Epoch 14/20\n",
      "459/459 [==============================] - 6s 13ms/step - loss: 0.1166 - mse: 0.0305\n",
      "Epoch 15/20\n",
      "459/459 [==============================] - 6s 13ms/step - loss: 0.1151 - mse: 0.0300\n",
      "Epoch 16/20\n",
      "459/459 [==============================] - 6s 13ms/step - loss: 0.1135 - mse: 0.0296\n",
      "Epoch 17/20\n",
      "459/459 [==============================] - 6s 13ms/step - loss: 0.1125 - mse: 0.0293\n",
      "Epoch 18/20\n",
      "459/459 [==============================] - 6s 13ms/step - loss: 0.1112 - mse: 0.0289\n",
      "Epoch 19/20\n",
      "459/459 [==============================] - 6s 13ms/step - loss: 0.1100 - mse: 0.0286\n",
      "Epoch 20/20\n",
      "459/459 [==============================] - 6s 13ms/step - loss: 0.1096 - mse: 0.0284\n"
     ]
    },
    {
     "name": "stderr",
     "output_type": "stream",
     "text": [
      "WARNING:absl:Found untraced functions such as _jit_compiled_convolution_op, _jit_compiled_convolution_op, _jit_compiled_convolution_op, _jit_compiled_convolution_op while saving (showing 4 of 4). These functions will not be directly callable after loading.\n"
     ]
    },
    {
     "name": "stdout",
     "output_type": "stream",
     "text": [
      "INFO:tensorflow:Assets written to: .\\auto_model\\best_model\\assets\n"
     ]
    },
    {
     "name": "stderr",
     "output_type": "stream",
     "text": [
      "INFO:tensorflow:Assets written to: .\\auto_model\\best_model\\assets\n"
     ]
    },
    {
     "name": "stdout",
     "output_type": "stream",
     "text": [
      "Reloading Tuner from .\\auto_model\\tuner0.json\n",
      "Epoch 1/20\n",
      "459/459 [==============================] - 6s 13ms/step - loss: 0.2657 - mse: 0.1006\n",
      "Epoch 2/20\n",
      "459/459 [==============================] - 6s 13ms/step - loss: 0.2408 - mse: 0.0799\n",
      "Epoch 3/20\n",
      "459/459 [==============================] - 6s 13ms/step - loss: 0.2052 - mse: 0.0643\n",
      "Epoch 4/20\n",
      "459/459 [==============================] - 6s 13ms/step - loss: 0.1805 - mse: 0.0532\n",
      "Epoch 5/20\n",
      "459/459 [==============================] - 6s 13ms/step - loss: 0.1609 - mse: 0.0454\n",
      "Epoch 6/20\n",
      "459/459 [==============================] - 6s 13ms/step - loss: 0.1471 - mse: 0.0400\n",
      "Epoch 7/20\n",
      "459/459 [==============================] - 6s 13ms/step - loss: 0.1370 - mse: 0.0365\n",
      "Epoch 8/20\n",
      "459/459 [==============================] - 6s 13ms/step - loss: 0.1301 - mse: 0.0342\n",
      "Epoch 9/20\n",
      "459/459 [==============================] - 6s 13ms/step - loss: 0.1246 - mse: 0.0327\n",
      "Epoch 10/20\n",
      "459/459 [==============================] - 6s 13ms/step - loss: 0.1205 - mse: 0.0314\n",
      "Epoch 11/20\n",
      "459/459 [==============================] - 6s 13ms/step - loss: 0.1165 - mse: 0.0303\n",
      "Epoch 12/20\n",
      "459/459 [==============================] - 6s 13ms/step - loss: 0.1133 - mse: 0.0294\n",
      "Epoch 13/20\n",
      "459/459 [==============================] - 6s 13ms/step - loss: 0.1110 - mse: 0.0288\n",
      "Epoch 14/20\n",
      "459/459 [==============================] - 6s 13ms/step - loss: 0.1099 - mse: 0.0286\n",
      "Epoch 15/20\n",
      "459/459 [==============================] - 6s 13ms/step - loss: 0.1080 - mse: 0.0281\n",
      "Epoch 16/20\n",
      "459/459 [==============================] - 6s 13ms/step - loss: 0.1067 - mse: 0.0276\n",
      "Epoch 17/20\n",
      "459/459 [==============================] - 6s 13ms/step - loss: 0.1056 - mse: 0.0271\n",
      "Epoch 18/20\n",
      "459/459 [==============================] - 6s 13ms/step - loss: 0.1048 - mse: 0.0270\n",
      "Epoch 19/20\n",
      "459/459 [==============================] - 6s 13ms/step - loss: 0.1036 - mse: 0.0266\n",
      "Epoch 20/20\n",
      "459/459 [==============================] - 6s 13ms/step - loss: 0.1027 - mse: 0.0262\n"
     ]
    },
    {
     "name": "stderr",
     "output_type": "stream",
     "text": [
      "WARNING:absl:Found untraced functions such as _jit_compiled_convolution_op, _jit_compiled_convolution_op, _jit_compiled_convolution_op, _jit_compiled_convolution_op while saving (showing 4 of 4). These functions will not be directly callable after loading.\n"
     ]
    },
    {
     "name": "stdout",
     "output_type": "stream",
     "text": [
      "INFO:tensorflow:Assets written to: .\\auto_model\\best_model\\assets\n"
     ]
    },
    {
     "name": "stderr",
     "output_type": "stream",
     "text": [
      "INFO:tensorflow:Assets written to: .\\auto_model\\best_model\\assets\n"
     ]
    },
    {
     "name": "stdout",
     "output_type": "stream",
     "text": [
      "Reloading Tuner from .\\auto_model\\tuner0.json\n",
      "Epoch 1/20\n",
      "459/459 [==============================] - 6s 13ms/step - loss: 0.2660 - mse: 0.1013\n",
      "Epoch 2/20\n",
      "459/459 [==============================] - 6s 13ms/step - loss: 0.2391 - mse: 0.0792\n",
      "Epoch 3/20\n",
      "459/459 [==============================] - 6s 13ms/step - loss: 0.2075 - mse: 0.0655\n",
      "Epoch 4/20\n",
      "459/459 [==============================] - 6s 13ms/step - loss: 0.1886 - mse: 0.0568\n",
      "Epoch 5/20\n",
      "459/459 [==============================] - 6s 13ms/step - loss: 0.1717 - mse: 0.0495\n",
      "Epoch 6/20\n",
      "459/459 [==============================] - 6s 13ms/step - loss: 0.1567 - mse: 0.0436\n",
      "Epoch 7/20\n",
      "459/459 [==============================] - 6s 13ms/step - loss: 0.1464 - mse: 0.0398\n",
      "Epoch 8/20\n",
      "459/459 [==============================] - 6s 13ms/step - loss: 0.1383 - mse: 0.0369\n",
      "Epoch 9/20\n",
      "459/459 [==============================] - 6s 13ms/step - loss: 0.1313 - mse: 0.0345\n",
      "Epoch 10/20\n",
      "459/459 [==============================] - 6s 13ms/step - loss: 0.1261 - mse: 0.0331\n",
      "Epoch 11/20\n",
      "459/459 [==============================] - 6s 13ms/step - loss: 0.1221 - mse: 0.0320\n",
      "Epoch 12/20\n",
      "459/459 [==============================] - 6s 13ms/step - loss: 0.1189 - mse: 0.0311\n",
      "Epoch 13/20\n",
      "459/459 [==============================] - 6s 13ms/step - loss: 0.1151 - mse: 0.0301\n",
      "Epoch 14/20\n",
      "459/459 [==============================] - 6s 13ms/step - loss: 0.1133 - mse: 0.0297\n",
      "Epoch 15/20\n",
      "459/459 [==============================] - 6s 13ms/step - loss: 0.1117 - mse: 0.0294\n",
      "Epoch 16/20\n",
      "459/459 [==============================] - 6s 13ms/step - loss: 0.1100 - mse: 0.0288\n",
      "Epoch 17/20\n",
      "459/459 [==============================] - 6s 13ms/step - loss: 0.1079 - mse: 0.0282\n",
      "Epoch 18/20\n",
      "459/459 [==============================] - 6s 14ms/step - loss: 0.1078 - mse: 0.0280\n",
      "Epoch 19/20\n",
      "459/459 [==============================] - 6s 14ms/step - loss: 0.1065 - mse: 0.0276\n",
      "Epoch 20/20\n",
      "459/459 [==============================] - 6s 14ms/step - loss: 0.1053 - mse: 0.0275\n"
     ]
    },
    {
     "name": "stderr",
     "output_type": "stream",
     "text": [
      "WARNING:absl:Found untraced functions such as _jit_compiled_convolution_op, _jit_compiled_convolution_op, _jit_compiled_convolution_op, _jit_compiled_convolution_op while saving (showing 4 of 4). These functions will not be directly callable after loading.\n"
     ]
    },
    {
     "name": "stdout",
     "output_type": "stream",
     "text": [
      "INFO:tensorflow:Assets written to: .\\auto_model\\best_model\\assets\n"
     ]
    },
    {
     "name": "stderr",
     "output_type": "stream",
     "text": [
      "INFO:tensorflow:Assets written to: .\\auto_model\\best_model\\assets\n"
     ]
    },
    {
     "name": "stdout",
     "output_type": "stream",
     "text": [
      "Reloading Tuner from .\\auto_model\\tuner0.json\n",
      "Epoch 1/20\n",
      "459/459 [==============================] - 7s 14ms/step - loss: 0.2650 - mse: 0.0990\n",
      "Epoch 2/20\n",
      "459/459 [==============================] - 6s 14ms/step - loss: 0.2430 - mse: 0.0813\n",
      "Epoch 3/20\n",
      "459/459 [==============================] - 6s 14ms/step - loss: 0.2134 - mse: 0.0680\n",
      "Epoch 4/20\n",
      "459/459 [==============================] - 6s 14ms/step - loss: 0.1913 - mse: 0.0580\n",
      "Epoch 5/20\n",
      "459/459 [==============================] - 6s 14ms/step - loss: 0.1744 - mse: 0.0506\n",
      "Epoch 6/20\n",
      "459/459 [==============================] - 6s 14ms/step - loss: 0.1579 - mse: 0.0442\n",
      "Epoch 7/20\n",
      "459/459 [==============================] - 6s 14ms/step - loss: 0.1469 - mse: 0.0400\n",
      "Epoch 8/20\n",
      "459/459 [==============================] - 6s 13ms/step - loss: 0.1387 - mse: 0.0372\n",
      "Epoch 9/20\n",
      "459/459 [==============================] - 6s 13ms/step - loss: 0.1328 - mse: 0.0353\n",
      "Epoch 10/20\n",
      "459/459 [==============================] - 6s 13ms/step - loss: 0.1270 - mse: 0.0336\n",
      "Epoch 11/20\n",
      "459/459 [==============================] - 6s 13ms/step - loss: 0.1222 - mse: 0.0322\n",
      "Epoch 12/20\n",
      "459/459 [==============================] - 6s 13ms/step - loss: 0.1189 - mse: 0.0313\n",
      "Epoch 13/20\n",
      "459/459 [==============================] - 6s 13ms/step - loss: 0.1158 - mse: 0.0304\n",
      "Epoch 14/20\n",
      "459/459 [==============================] - 6s 13ms/step - loss: 0.1127 - mse: 0.0297\n",
      "Epoch 15/20\n",
      "459/459 [==============================] - 6s 13ms/step - loss: 0.1111 - mse: 0.0292\n",
      "Epoch 16/20\n",
      "459/459 [==============================] - 6s 13ms/step - loss: 0.1091 - mse: 0.0288\n",
      "Epoch 17/20\n",
      "459/459 [==============================] - 6s 13ms/step - loss: 0.1088 - mse: 0.0285\n",
      "Epoch 18/20\n",
      "459/459 [==============================] - 6s 14ms/step - loss: 0.1073 - mse: 0.0282\n",
      "Epoch 19/20\n",
      "459/459 [==============================] - 6s 14ms/step - loss: 0.1061 - mse: 0.0277\n",
      "Epoch 20/20\n",
      "459/459 [==============================] - 6s 14ms/step - loss: 0.1049 - mse: 0.0272\n"
     ]
    },
    {
     "name": "stderr",
     "output_type": "stream",
     "text": [
      "WARNING:absl:Found untraced functions such as _jit_compiled_convolution_op, _jit_compiled_convolution_op, _jit_compiled_convolution_op, _jit_compiled_convolution_op while saving (showing 4 of 4). These functions will not be directly callable after loading.\n"
     ]
    },
    {
     "name": "stdout",
     "output_type": "stream",
     "text": [
      "INFO:tensorflow:Assets written to: .\\auto_model\\best_model\\assets\n"
     ]
    },
    {
     "name": "stderr",
     "output_type": "stream",
     "text": [
      "INFO:tensorflow:Assets written to: .\\auto_model\\best_model\\assets\n"
     ]
    },
    {
     "name": "stdout",
     "output_type": "stream",
     "text": [
      "Reloading Tuner from .\\auto_model\\tuner0.json\n",
      "Epoch 1/20\n",
      "459/459 [==============================] - 7s 14ms/step - loss: 0.2597 - mse: 0.0957\n",
      "Epoch 2/20\n",
      "459/459 [==============================] - 6s 14ms/step - loss: 0.2341 - mse: 0.0765\n",
      "Epoch 3/20\n",
      "459/459 [==============================] - 6s 14ms/step - loss: 0.2052 - mse: 0.0646\n",
      "Epoch 4/20\n",
      "459/459 [==============================] - 6s 14ms/step - loss: 0.1872 - mse: 0.0560\n",
      "Epoch 5/20\n",
      "459/459 [==============================] - 6s 14ms/step - loss: 0.1663 - mse: 0.0469\n",
      "Epoch 6/20\n",
      "459/459 [==============================] - 6s 14ms/step - loss: 0.1502 - mse: 0.0408\n",
      "Epoch 7/20\n",
      "459/459 [==============================] - 6s 14ms/step - loss: 0.1399 - mse: 0.0369\n",
      "Epoch 8/20\n",
      "459/459 [==============================] - 6s 14ms/step - loss: 0.1339 - mse: 0.0348\n",
      "Epoch 9/20\n",
      "459/459 [==============================] - 6s 14ms/step - loss: 0.1283 - mse: 0.0329\n",
      "Epoch 10/20\n",
      "459/459 [==============================] - 6s 14ms/step - loss: 0.1249 - mse: 0.0320\n",
      "Epoch 11/20\n",
      "459/459 [==============================] - 6s 14ms/step - loss: 0.1214 - mse: 0.0309\n",
      "Epoch 12/20\n",
      "459/459 [==============================] - 6s 14ms/step - loss: 0.1189 - mse: 0.0303\n",
      "Epoch 13/20\n",
      "459/459 [==============================] - 6s 14ms/step - loss: 0.1162 - mse: 0.0295\n",
      "Epoch 14/20\n",
      "459/459 [==============================] - 6s 14ms/step - loss: 0.1145 - mse: 0.0291\n",
      "Epoch 15/20\n",
      "459/459 [==============================] - 6s 14ms/step - loss: 0.1122 - mse: 0.0284\n",
      "Epoch 16/20\n",
      "459/459 [==============================] - 6s 14ms/step - loss: 0.1110 - mse: 0.0282\n",
      "Epoch 17/20\n",
      "459/459 [==============================] - 6s 14ms/step - loss: 0.1090 - mse: 0.0277\n",
      "Epoch 18/20\n",
      "459/459 [==============================] - 6s 14ms/step - loss: 0.1074 - mse: 0.0272\n",
      "Epoch 19/20\n",
      "459/459 [==============================] - 6s 14ms/step - loss: 0.1065 - mse: 0.0269\n",
      "Epoch 20/20\n",
      "459/459 [==============================] - 6s 14ms/step - loss: 0.1053 - mse: 0.0266\n"
     ]
    },
    {
     "name": "stderr",
     "output_type": "stream",
     "text": [
      "WARNING:absl:Found untraced functions such as _jit_compiled_convolution_op, _jit_compiled_convolution_op, _jit_compiled_convolution_op, _jit_compiled_convolution_op while saving (showing 4 of 4). These functions will not be directly callable after loading.\n"
     ]
    },
    {
     "name": "stdout",
     "output_type": "stream",
     "text": [
      "INFO:tensorflow:Assets written to: .\\auto_model\\best_model\\assets\n"
     ]
    },
    {
     "name": "stderr",
     "output_type": "stream",
     "text": [
      "INFO:tensorflow:Assets written to: .\\auto_model\\best_model\\assets\n"
     ]
    },
    {
     "name": "stdout",
     "output_type": "stream",
     "text": [
      "Reloading Tuner from .\\auto_model\\tuner0.json\n",
      "Epoch 1/20\n",
      "459/459 [==============================] - 7s 14ms/step - loss: 0.2640 - mse: 0.0996\n",
      "Epoch 2/20\n",
      "459/459 [==============================] - 6s 14ms/step - loss: 0.2408 - mse: 0.0801\n",
      "Epoch 3/20\n",
      "459/459 [==============================] - 6s 14ms/step - loss: 0.2147 - mse: 0.0687\n",
      "Epoch 4/20\n",
      "459/459 [==============================] - 6s 14ms/step - loss: 0.1943 - mse: 0.0595\n",
      "Epoch 5/20\n",
      "459/459 [==============================] - 6s 14ms/step - loss: 0.1806 - mse: 0.0531\n",
      "Epoch 6/20\n",
      "459/459 [==============================] - 6s 14ms/step - loss: 0.1678 - mse: 0.0479\n",
      "Epoch 7/20\n",
      "459/459 [==============================] - 6s 14ms/step - loss: 0.1538 - mse: 0.0426\n",
      "Epoch 8/20\n",
      "459/459 [==============================] - 6s 14ms/step - loss: 0.1438 - mse: 0.0391\n",
      "Epoch 9/20\n",
      "459/459 [==============================] - 6s 14ms/step - loss: 0.1360 - mse: 0.0363\n",
      "Epoch 10/20\n",
      "459/459 [==============================] - 6s 14ms/step - loss: 0.1298 - mse: 0.0345\n",
      "Epoch 11/20\n",
      "459/459 [==============================] - 6s 14ms/step - loss: 0.1258 - mse: 0.0333\n",
      "Epoch 12/20\n",
      "459/459 [==============================] - 6s 14ms/step - loss: 0.1205 - mse: 0.0318\n",
      "Epoch 13/20\n",
      "459/459 [==============================] - 6s 14ms/step - loss: 0.1169 - mse: 0.0309\n",
      "Epoch 14/20\n",
      "459/459 [==============================] - 6s 14ms/step - loss: 0.1134 - mse: 0.0299\n",
      "Epoch 15/20\n",
      "459/459 [==============================] - 6s 14ms/step - loss: 0.1109 - mse: 0.0293\n",
      "Epoch 16/20\n",
      "459/459 [==============================] - 6s 14ms/step - loss: 0.1084 - mse: 0.0286\n",
      "Epoch 17/20\n",
      "459/459 [==============================] - 6s 14ms/step - loss: 0.1066 - mse: 0.0283\n",
      "Epoch 18/20\n",
      "459/459 [==============================] - 6s 14ms/step - loss: 0.1056 - mse: 0.0280\n",
      "Epoch 19/20\n",
      "459/459 [==============================] - 6s 14ms/step - loss: 0.1041 - mse: 0.0273\n",
      "Epoch 20/20\n",
      "459/459 [==============================] - 6s 14ms/step - loss: 0.1026 - mse: 0.0271\n"
     ]
    },
    {
     "name": "stderr",
     "output_type": "stream",
     "text": [
      "WARNING:absl:Found untraced functions such as _jit_compiled_convolution_op, _jit_compiled_convolution_op, _jit_compiled_convolution_op, _jit_compiled_convolution_op while saving (showing 4 of 4). These functions will not be directly callable after loading.\n"
     ]
    },
    {
     "name": "stdout",
     "output_type": "stream",
     "text": [
      "INFO:tensorflow:Assets written to: .\\auto_model\\best_model\\assets\n"
     ]
    },
    {
     "name": "stderr",
     "output_type": "stream",
     "text": [
      "INFO:tensorflow:Assets written to: .\\auto_model\\best_model\\assets\n"
     ]
    },
    {
     "name": "stdout",
     "output_type": "stream",
     "text": [
      "Reloading Tuner from .\\auto_model\\tuner0.json\n",
      "Epoch 1/20\n",
      "459/459 [==============================] - 7s 14ms/step - loss: 0.2636 - mse: 0.0984\n",
      "Epoch 2/20\n",
      "459/459 [==============================] - 6s 14ms/step - loss: 0.2449 - mse: 0.0824\n",
      "Epoch 3/20\n",
      "459/459 [==============================] - 6s 14ms/step - loss: 0.2203 - mse: 0.0712\n",
      "Epoch 4/20\n",
      "459/459 [==============================] - 6s 14ms/step - loss: 0.1971 - mse: 0.0611\n",
      "Epoch 5/20\n",
      "459/459 [==============================] - 6s 14ms/step - loss: 0.1814 - mse: 0.0536\n",
      "Epoch 6/20\n",
      "459/459 [==============================] - 6s 14ms/step - loss: 0.1660 - mse: 0.0475\n",
      "Epoch 7/20\n",
      "459/459 [==============================] - 6s 14ms/step - loss: 0.1539 - mse: 0.0427\n",
      "Epoch 8/20\n",
      "459/459 [==============================] - 6s 14ms/step - loss: 0.1448 - mse: 0.0394\n",
      "Epoch 9/20\n",
      "459/459 [==============================] - 6s 14ms/step - loss: 0.1383 - mse: 0.0371\n",
      "Epoch 10/20\n",
      "459/459 [==============================] - 6s 14ms/step - loss: 0.1338 - mse: 0.0355\n",
      "Epoch 11/20\n",
      "459/459 [==============================] - 6s 14ms/step - loss: 0.1294 - mse: 0.0342\n",
      "Epoch 12/20\n",
      "459/459 [==============================] - 6s 14ms/step - loss: 0.1262 - mse: 0.0332\n",
      "Epoch 13/20\n",
      "459/459 [==============================] - 6s 14ms/step - loss: 0.1235 - mse: 0.0324\n",
      "Epoch 14/20\n",
      "459/459 [==============================] - 6s 14ms/step - loss: 0.1213 - mse: 0.0317\n",
      "Epoch 15/20\n",
      "459/459 [==============================] - 6s 14ms/step - loss: 0.1192 - mse: 0.0312\n",
      "Epoch 16/20\n",
      "459/459 [==============================] - 6s 14ms/step - loss: 0.1169 - mse: 0.0304\n",
      "Epoch 17/20\n",
      "459/459 [==============================] - 6s 14ms/step - loss: 0.1150 - mse: 0.0300\n",
      "Epoch 18/20\n",
      "459/459 [==============================] - 6s 14ms/step - loss: 0.1136 - mse: 0.0296\n",
      "Epoch 19/20\n",
      "459/459 [==============================] - 6s 14ms/step - loss: 0.1122 - mse: 0.0291\n",
      "Epoch 20/20\n",
      "459/459 [==============================] - 6s 14ms/step - loss: 0.1109 - mse: 0.0290\n"
     ]
    },
    {
     "name": "stderr",
     "output_type": "stream",
     "text": [
      "WARNING:absl:Found untraced functions such as _jit_compiled_convolution_op, _jit_compiled_convolution_op, _jit_compiled_convolution_op, _jit_compiled_convolution_op while saving (showing 4 of 4). These functions will not be directly callable after loading.\n"
     ]
    },
    {
     "name": "stdout",
     "output_type": "stream",
     "text": [
      "INFO:tensorflow:Assets written to: .\\auto_model\\best_model\\assets\n"
     ]
    },
    {
     "name": "stderr",
     "output_type": "stream",
     "text": [
      "INFO:tensorflow:Assets written to: .\\auto_model\\best_model\\assets\n"
     ]
    }
   ],
   "source": [
    "from scipy.sparse import coo_matrix\n",
    "from sklearn.utils import resample\n",
    "\n",
    "NUM_MODELS = 50\n",
    "models = []\n",
    "history = []\n",
    "\n",
    "x_train_sparse = coo_matrix(x_train)\n",
    "\n",
    "for i in range(NUM_MODELS):\n",
    "\tam = generateAutoModel()\n",
    "\tx_train_resampled, x_train_sparse, y_train_resampled = resample(x_train, x_train_sparse, y_train, random_state=i)\n",
    "\tx_train_resampled = np.expand_dims(x_train_resampled, axis=2)\n",
    "\thistory.append(am.fit(x=x_train_resampled, y=y_train_resampled, epochs=20))\n",
    "\tmodels.append(am.export_model())"
   ]
  },
  {
   "cell_type": "code",
   "execution_count": 111,
   "metadata": {},
   "outputs": [
    {
     "name": "stdout",
     "output_type": "stream",
     "text": [
      "  1/153 [..............................] - ETA: 3s"
     ]
    },
    {
     "name": "stdout",
     "output_type": "stream",
     "text": [
      "153/153 [==============================] - 1s 7ms/step\n",
      "153/153 [==============================] - 1s 5ms/step\n",
      "153/153 [==============================] - 1s 5ms/step\n",
      "153/153 [==============================] - 1s 5ms/step\n",
      "153/153 [==============================] - 1s 5ms/step\n",
      "153/153 [==============================] - 1s 5ms/step\n",
      "153/153 [==============================] - 1s 5ms/step\n",
      "153/153 [==============================] - 1s 5ms/step\n",
      "153/153 [==============================] - 1s 5ms/step\n",
      "153/153 [==============================] - 1s 5ms/step\n",
      "153/153 [==============================] - 1s 5ms/step\n",
      "153/153 [==============================] - 1s 5ms/step\n",
      "153/153 [==============================] - 1s 5ms/step\n",
      "153/153 [==============================] - 1s 5ms/step\n",
      "153/153 [==============================] - 1s 5ms/step\n",
      "153/153 [==============================] - 1s 5ms/step\n",
      "153/153 [==============================] - 1s 5ms/step\n",
      "153/153 [==============================] - 1s 5ms/step\n",
      "153/153 [==============================] - 1s 5ms/step\n",
      "153/153 [==============================] - 1s 5ms/step\n",
      "153/153 [==============================] - 1s 5ms/step\n",
      "153/153 [==============================] - 1s 5ms/step\n",
      "153/153 [==============================] - 1s 5ms/step\n",
      "153/153 [==============================] - 1s 5ms/step\n",
      "153/153 [==============================] - 1s 5ms/step\n",
      "153/153 [==============================] - 1s 5ms/step\n",
      "153/153 [==============================] - 1s 5ms/step\n",
      "153/153 [==============================] - 1s 6ms/step\n",
      "153/153 [==============================] - 1s 5ms/step\n",
      "153/153 [==============================] - 1s 5ms/step\n",
      "153/153 [==============================] - 1s 5ms/step\n",
      "153/153 [==============================] - 1s 5ms/step\n",
      "153/153 [==============================] - 1s 5ms/step\n",
      "153/153 [==============================] - 1s 5ms/step\n",
      "153/153 [==============================] - 1s 5ms/step\n",
      "153/153 [==============================] - 1s 5ms/step\n",
      "153/153 [==============================] - 1s 5ms/step\n",
      "153/153 [==============================] - 1s 6ms/step\n",
      "153/153 [==============================] - 1s 6ms/step\n",
      "153/153 [==============================] - 1s 5ms/step\n",
      "153/153 [==============================] - 1s 5ms/step\n",
      "153/153 [==============================] - 1s 5ms/step\n",
      "153/153 [==============================] - 1s 5ms/step\n",
      "153/153 [==============================] - 1s 6ms/step\n",
      "153/153 [==============================] - 1s 6ms/step\n",
      "153/153 [==============================] - 1s 5ms/step\n",
      "153/153 [==============================] - 1s 5ms/step\n",
      "153/153 [==============================] - 1s 5ms/step\n",
      "153/153 [==============================] - 1s 5ms/step\n",
      "153/153 [==============================] - 1s 5ms/step\n"
     ]
    }
   ],
   "source": [
    "# prediccion de datos observados\n",
    "predictions = np.array([y_scaler.inverse_transform(model.predict(formatted_x_test)) for model in models]) # dim(predictions) = (num_models, num_rows, num_outputs)"
   ]
  },
  {
   "cell_type": "code",
   "execution_count": 112,
   "metadata": {},
   "outputs": [
    {
     "name": "stdout",
     "output_type": "stream",
     "text": [
      "153/153 [==============================] - 1s 6ms/step - loss: 0.1028 - mse: 0.0262\n",
      "153/153 [==============================] - 1s 6ms/step - loss: 0.1051 - mse: 0.0273\n",
      "153/153 [==============================] - 1s 6ms/step - loss: 0.0982 - mse: 0.0255\n",
      "153/153 [==============================] - 1s 6ms/step - loss: 0.0971 - mse: 0.0256\n",
      "153/153 [==============================] - 1s 6ms/step - loss: 0.0977 - mse: 0.0255\n",
      "153/153 [==============================] - 1s 6ms/step - loss: 0.0985 - mse: 0.0262\n",
      "153/153 [==============================] - 1s 6ms/step - loss: 0.0941 - mse: 0.0248\n",
      "153/153 [==============================] - 1s 6ms/step - loss: 0.0989 - mse: 0.0254\n",
      "153/153 [==============================] - 1s 6ms/step - loss: 0.0993 - mse: 0.0254\n",
      "153/153 [==============================] - 1s 6ms/step - loss: 0.1008 - mse: 0.0280\n",
      "153/153 [==============================] - 1s 6ms/step - loss: 0.0994 - mse: 0.0255\n",
      "153/153 [==============================] - 1s 6ms/step - loss: 0.1067 - mse: 0.0272\n",
      "153/153 [==============================] - 1s 6ms/step - loss: 0.1073 - mse: 0.0268\n",
      "153/153 [==============================] - 1s 6ms/step - loss: 0.0968 - mse: 0.0256\n",
      "153/153 [==============================] - 1s 6ms/step - loss: 0.0972 - mse: 0.0241\n",
      "153/153 [==============================] - 1s 6ms/step - loss: 0.1001 - mse: 0.0253\n",
      "153/153 [==============================] - 1s 6ms/step - loss: 0.0958 - mse: 0.0257\n",
      "153/153 [==============================] - 1s 6ms/step - loss: 0.1050 - mse: 0.0292\n",
      "153/153 [==============================] - 1s 6ms/step - loss: 0.0976 - mse: 0.0254\n",
      "153/153 [==============================] - 1s 6ms/step - loss: 0.1063 - mse: 0.0289\n",
      "153/153 [==============================] - 1s 6ms/step - loss: 0.0997 - mse: 0.0263\n",
      "153/153 [==============================] - 1s 6ms/step - loss: 0.0998 - mse: 0.0258\n",
      "153/153 [==============================] - 1s 6ms/step - loss: 0.1001 - mse: 0.0261\n",
      "153/153 [==============================] - 1s 6ms/step - loss: 0.0963 - mse: 0.0253\n",
      "153/153 [==============================] - 1s 6ms/step - loss: 0.1099 - mse: 0.0275\n",
      "153/153 [==============================] - 1s 6ms/step - loss: 0.1049 - mse: 0.0308\n",
      "153/153 [==============================] - 1s 6ms/step - loss: 0.0936 - mse: 0.0250\n",
      "153/153 [==============================] - 1s 6ms/step - loss: 0.0981 - mse: 0.0256\n",
      "153/153 [==============================] - 1s 6ms/step - loss: 0.1148 - mse: 0.0283\n",
      "153/153 [==============================] - 1s 6ms/step - loss: 0.0994 - mse: 0.0256\n",
      "153/153 [==============================] - 1s 6ms/step - loss: 0.0958 - mse: 0.0255\n",
      "153/153 [==============================] - 1s 6ms/step - loss: 0.0969 - mse: 0.0252\n",
      "153/153 [==============================] - 1s 6ms/step - loss: 0.0942 - mse: 0.0245\n",
      "153/153 [==============================] - 1s 6ms/step - loss: 0.1029 - mse: 0.0261\n",
      "153/153 [==============================] - 1s 6ms/step - loss: 0.0960 - mse: 0.0257\n",
      "153/153 [==============================] - 1s 6ms/step - loss: 0.1010 - mse: 0.0252\n",
      "153/153 [==============================] - 1s 6ms/step - loss: 0.1055 - mse: 0.0272\n",
      "153/153 [==============================] - 1s 6ms/step - loss: 0.0966 - mse: 0.0253\n",
      "153/153 [==============================] - 1s 6ms/step - loss: 0.1063 - mse: 0.0286\n",
      "153/153 [==============================] - 1s 6ms/step - loss: 0.1054 - mse: 0.0285\n",
      "153/153 [==============================] - 1s 6ms/step - loss: 0.1054 - mse: 0.0283\n",
      "153/153 [==============================] - 1s 6ms/step - loss: 0.0978 - mse: 0.0244\n",
      "153/153 [==============================] - 1s 6ms/step - loss: 0.0969 - mse: 0.0258\n",
      "153/153 [==============================] - 1s 6ms/step - loss: 0.1032 - mse: 0.0273\n",
      "153/153 [==============================] - 1s 6ms/step - loss: 0.0990 - mse: 0.0253\n",
      "153/153 [==============================] - 1s 6ms/step - loss: 0.1036 - mse: 0.0269\n",
      "153/153 [==============================] - 1s 6ms/step - loss: 0.0988 - mse: 0.0247\n",
      "153/153 [==============================] - 1s 6ms/step - loss: 0.1020 - mse: 0.0251\n",
      "153/153 [==============================] - 1s 6ms/step - loss: 0.0969 - mse: 0.0258\n",
      "153/153 [==============================] - 1s 6ms/step - loss: 0.1047 - mse: 0.0272\n"
     ]
    }
   ],
   "source": [
    "# prediccion del ensamble e incerteza\n",
    "weights = [model.evaluate(formatted_x_test, y_test)[0] for model in models]\n",
    "weights = [weight/sum(weights) for weight in weights]\n",
    "\n",
    "ensemble_prediction = sum([predictions[i]*weights[i] for i in range(len(models))])\n",
    "uncertainty = sum([(predictions[i]-ensemble_prediction)**2*weights[i] for i in range(len(models))])**(1/2)\n"
   ]
  },
  {
   "cell_type": "code",
   "execution_count": 119,
   "metadata": {},
   "outputs": [
    {
     "data": {
      "image/png": "[encoded data removed]",
      "text/plain": [
       "<Figure size 1500x666 with 6 Axes>"
      ]
     },
     "metadata": {},
     "output_type": "display_data"
    }
   ],
   "source": [
    "# Ref: https://stackoverflow.com/questions/60130503/plotting-bars-hist-and-pdf-line-via-kdeplot\n",
    "import scipy.stats as st\n",
    "from scipy.interpolate import interp1d\n",
    "\n",
    "fig, axes = plt.subplots(nrows=2, ncols=3, figsize=(15,6.66))\n",
    "\n",
    "for i, featureName in enumerate(target):\n",
    "\tx_space = np.linspace(Y[featureName].min(), Y[featureName].max(), 2**12)\n",
    "\theights = []\n",
    "\tfor j in range(NUM_MODELS):\n",
    "\t\tprediction_y = predictions[j,:,i] # your data goes here\n",
    "\t\tx,y,prediction_kde = SKL_density_plot(prediction_y, axes[0,i], low_bound=Y.iloc[:,i].min(),up_bound=Y.iloc[:,i].max(), color = 'green',alpha=0.2)\n",
    "\t\tf = interp1d(x, y, kind=\"linear\", assume_sorted=True)\n",
    "\t\th = f(x_space)*3\n",
    "\t\theights.append(h)\n",
    "  \n",
    "\theights = np.array(heights)\n",
    " \n",
    "\trescaled_y = y_scaler.inverse_transform(y_test)[:,i]\n",
    "\tx,y,test_kde = SKL_density_plot(rescaled_y, axes[0,i], low_bound=Y.iloc[:,i].min(),up_bound=Y.iloc[:,i].max(), color = 'red',label='Test')\n",
    "\tx,y,test_kde = SKL_density_plot(rescaled_y, axes[1,i], low_bound=Y.iloc[:,i].min(),up_bound=Y.iloc[:,i].max(), color = 'red',label='Test')\n",
    "\tf = interp1d(x, y, kind=\"linear\", assume_sorted=True)\n",
    "\ttest_h = f(x_space)\n",
    " \n",
    "\t# cuantiles 50% de los datos\n",
    "\tq25 = np.quantile(heights,0.25,axis=0)\n",
    "\tq75 = np.quantile(heights,0.75,axis=0)\n",
    "\taxes[0,i].plot(x_space, np.median(heights,axis=0),color='darkGreen',alpha=1,linewidth=1,label='Ensemble Prediction')\n",
    "\taxes[0,i].plot(x_space, q25,color='darkGreen',alpha=1,linewidth=0.5)\n",
    "\taxes[0,i].plot(x_space, q75,color='darkGreen',alpha=1,linewidth=0.5)\n",
    "\taxes[0,i].fill_between(x_space, q25,q75, alpha=0.30, color='green')\n",
    "\t\n",
    "\t# cuantiles 95% de los datos\n",
    "\tq5 = np.quantile(heights,0.05,axis=0)\n",
    "\tq95 = np.quantile(heights,0.95,axis=0)\n",
    "\taxes[1,i].plot(x_space, np.median(heights,axis=0),color='darkGreen',alpha=1,linewidth=1,label='Ensemble Prediction')\n",
    "\taxes[1,i].plot(x_space, q5,color='darkGreen',alpha=1,linewidth=0.5)\n",
    "\taxes[1,i].plot(x_space, q95,color='darkGreen',alpha=1,linewidth=0.5)\n",
    "\taxes[1,i].fill_between(x_space, q5,q95, alpha=0.30, color='green')\n",
    "\t\n",
    "\tmeasure = ['Temperature','log g', 'v sini']\n",
    "\tmeasure_unit = ['[K]', '[cm/s^2]', '[km/s]']\n",
    "\taxes[1,i].set_xlabel(measure_unit[i])\n",
    "\taxes[1,i].set_ylabel('Densidad')\n",
    "\taxes[1,i].legend()\n",
    "\taxes[1,i].set_title(measure[i])\n",
    "\n",
    "\taxes[0,i].set_xlabel(measure_unit[i])\n",
    "\taxes[0,i].set_ylabel('Densidad')\n",
    "\taxes[0,i].legend()\n",
    "\taxes[0,i].set_title(measure[i])\n",
    "\n",
    "\n",
    "plt.tight_layout()\n",
    "plt.show()"
   ]
  },
  {
   "cell_type": "markdown",
   "metadata": {},
   "source": [
    "### Datos de test vs predicción (ensamble)"
   ]
  },
  {
   "cell_type": "code",
   "execution_count": 114,
   "metadata": {},
   "outputs": [
    {
     "data": {
      "text/html": [
       "<div>\n",
       "<style scoped>\n",
       "    .dataframe tbody tr th:only-of-type {\n",
       "        vertical-align: middle;\n",
       "    }\n",
       "\n",
       "    .dataframe tbody tr th {\n",
       "        vertical-align: top;\n",
       "    }\n",
       "\n",
       "    .dataframe thead th {\n",
       "        text-align: right;\n",
       "    }\n",
       "</style>\n",
       "<table border=\"1\" class=\"dataframe\">\n",
       "  <thead>\n",
       "    <tr style=\"text-align: right;\">\n",
       "      <th></th>\n",
       "      <th>Temp</th>\n",
       "      <th>Temp_pred</th>\n",
       "      <th>Temp_Variance</th>\n",
       "      <th>log_g</th>\n",
       "      <th>log_g_pred</th>\n",
       "      <th>log_g_Variance</th>\n",
       "      <th>v</th>\n",
       "      <th>v_pred</th>\n",
       "      <th>v_Variance</th>\n",
       "    </tr>\n",
       "  </thead>\n",
       "  <tbody>\n",
       "    <tr>\n",
       "      <th>0</th>\n",
       "      <td>28000.0</td>\n",
       "      <td>14566.492188</td>\n",
       "      <td>788.151611</td>\n",
       "      <td>2.75</td>\n",
       "      <td>1.775527</td>\n",
       "      <td>0.108968</td>\n",
       "      <td>156.0</td>\n",
       "      <td>158.061310</td>\n",
       "      <td>7.442987</td>\n",
       "    </tr>\n",
       "    <tr>\n",
       "      <th>1</th>\n",
       "      <td>27000.0</td>\n",
       "      <td>29122.025391</td>\n",
       "      <td>426.271790</td>\n",
       "      <td>4.25</td>\n",
       "      <td>4.230992</td>\n",
       "      <td>0.170341</td>\n",
       "      <td>24.0</td>\n",
       "      <td>24.673529</td>\n",
       "      <td>12.139290</td>\n",
       "    </tr>\n",
       "    <tr>\n",
       "      <th>2</th>\n",
       "      <td>28000.0</td>\n",
       "      <td>23640.562500</td>\n",
       "      <td>889.908203</td>\n",
       "      <td>4.50</td>\n",
       "      <td>4.051013</td>\n",
       "      <td>0.131762</td>\n",
       "      <td>213.0</td>\n",
       "      <td>191.273010</td>\n",
       "      <td>9.276322</td>\n",
       "    </tr>\n",
       "    <tr>\n",
       "      <th>3</th>\n",
       "      <td>28000.0</td>\n",
       "      <td>27509.517578</td>\n",
       "      <td>521.075806</td>\n",
       "      <td>4.50</td>\n",
       "      <td>4.360466</td>\n",
       "      <td>0.122449</td>\n",
       "      <td>36.0</td>\n",
       "      <td>41.500534</td>\n",
       "      <td>6.915040</td>\n",
       "    </tr>\n",
       "    <tr>\n",
       "      <th>4</th>\n",
       "      <td>16000.0</td>\n",
       "      <td>16951.562500</td>\n",
       "      <td>902.318115</td>\n",
       "      <td>2.50</td>\n",
       "      <td>2.948545</td>\n",
       "      <td>0.125826</td>\n",
       "      <td>327.0</td>\n",
       "      <td>330.971558</td>\n",
       "      <td>8.599333</td>\n",
       "    </tr>\n",
       "    <tr>\n",
       "      <th>5</th>\n",
       "      <td>18000.0</td>\n",
       "      <td>18002.753906</td>\n",
       "      <td>525.155396</td>\n",
       "      <td>3.25</td>\n",
       "      <td>3.363375</td>\n",
       "      <td>0.088170</td>\n",
       "      <td>216.0</td>\n",
       "      <td>198.973083</td>\n",
       "      <td>15.209253</td>\n",
       "    </tr>\n",
       "    <tr>\n",
       "      <th>6</th>\n",
       "      <td>22000.0</td>\n",
       "      <td>22158.072266</td>\n",
       "      <td>538.147461</td>\n",
       "      <td>3.50</td>\n",
       "      <td>3.711950</td>\n",
       "      <td>0.078657</td>\n",
       "      <td>54.0</td>\n",
       "      <td>45.956303</td>\n",
       "      <td>6.276753</td>\n",
       "    </tr>\n",
       "    <tr>\n",
       "      <th>7</th>\n",
       "      <td>21000.0</td>\n",
       "      <td>21296.929688</td>\n",
       "      <td>750.441467</td>\n",
       "      <td>3.25</td>\n",
       "      <td>3.648381</td>\n",
       "      <td>0.101337</td>\n",
       "      <td>321.0</td>\n",
       "      <td>333.869934</td>\n",
       "      <td>8.560051</td>\n",
       "    </tr>\n",
       "    <tr>\n",
       "      <th>8</th>\n",
       "      <td>18000.0</td>\n",
       "      <td>18140.802734</td>\n",
       "      <td>373.249695</td>\n",
       "      <td>3.75</td>\n",
       "      <td>3.786808</td>\n",
       "      <td>0.068436</td>\n",
       "      <td>72.0</td>\n",
       "      <td>51.746071</td>\n",
       "      <td>5.818358</td>\n",
       "    </tr>\n",
       "    <tr>\n",
       "      <th>9</th>\n",
       "      <td>20000.0</td>\n",
       "      <td>19603.492188</td>\n",
       "      <td>529.126282</td>\n",
       "      <td>4.00</td>\n",
       "      <td>4.196813</td>\n",
       "      <td>0.078978</td>\n",
       "      <td>138.0</td>\n",
       "      <td>120.526779</td>\n",
       "      <td>6.573854</td>\n",
       "    </tr>\n",
       "  </tbody>\n",
       "</table>\n",
       "</div>"
      ],
      "text/plain": [
       "      Temp     Temp_pred  Temp_Variance  log_g  log_g_pred  log_g_Variance  \\\n",
       "0  28000.0  14566.492188     788.151611   2.75    1.775527        0.108968   \n",
       "1  27000.0  29122.025391     426.271790   4.25    4.230992        0.170341   \n",
       "2  28000.0  23640.562500     889.908203   4.50    4.051013        0.131762   \n",
       "3  28000.0  27509.517578     521.075806   4.50    4.360466        0.122449   \n",
       "4  16000.0  16951.562500     902.318115   2.50    2.948545        0.125826   \n",
       "5  18000.0  18002.753906     525.155396   3.25    3.363375        0.088170   \n",
       "6  22000.0  22158.072266     538.147461   3.50    3.711950        0.078657   \n",
       "7  21000.0  21296.929688     750.441467   3.25    3.648381        0.101337   \n",
       "8  18000.0  18140.802734     373.249695   3.75    3.786808        0.068436   \n",
       "9  20000.0  19603.492188     529.126282   4.00    4.196813        0.078978   \n",
       "\n",
       "       v      v_pred  v_Variance  \n",
       "0  156.0  158.061310    7.442987  \n",
       "1   24.0   24.673529   12.139290  \n",
       "2  213.0  191.273010    9.276322  \n",
       "3   36.0   41.500534    6.915040  \n",
       "4  327.0  330.971558    8.599333  \n",
       "5  216.0  198.973083   15.209253  \n",
       "6   54.0   45.956303    6.276753  \n",
       "7  321.0  333.869934    8.560051  \n",
       "8   72.0   51.746071    5.818358  \n",
       "9  138.0  120.526779    6.573854  "
      ]
     },
     "execution_count": 114,
     "metadata": {},
     "output_type": "execute_result"
    }
   ],
   "source": [
    "# dataframe\n",
    "inverse_y_test = y_scaler.inverse_transform(y_test)\n",
    "results = pd.DataFrame({\n",
    "  'Temp':inverse_y_test[:,0],'Temp_pred':ensemble_prediction[:,0],'Temp_Variance':uncertainty[:,0],\n",
    "  'log_g':inverse_y_test[:,1],'log_g_pred':ensemble_prediction[:,1],'log_g_Variance':uncertainty[:,1],\n",
    "  'v':inverse_y_test[:,2],'v_pred':ensemble_prediction[:,2],'v_Variance':uncertainty[:,2]\n",
    "                    })\n",
    "results.head(10)"
   ]
  },
  {
   "cell_type": "markdown",
   "metadata": {},
   "source": [
    "### Datos observados vs predicción (ensamble)"
   ]
  },
  {
   "cell_type": "code",
   "execution_count": 115,
   "metadata": {},
   "outputs": [
    {
     "name": "stdout",
     "output_type": "stream",
     "text": [
      "1/1 [==============================] - 0s 23ms/step\n",
      "1/1 [==============================] - 0s 17ms/step\n",
      "1/1 [==============================] - 0s 18ms/step\n",
      "1/1 [==============================] - 0s 17ms/step\n",
      "1/1 [==============================] - 0s 17ms/step\n",
      "1/1 [==============================] - 0s 17ms/step\n",
      "1/1 [==============================] - 0s 17ms/step\n",
      "1/1 [==============================] - 0s 20ms/step\n",
      "1/1 [==============================] - 0s 17ms/step\n",
      "1/1 [==============================] - 0s 17ms/step\n",
      "1/1 [==============================] - 0s 17ms/step\n",
      "1/1 [==============================] - 0s 17ms/step\n",
      "1/1 [==============================] - 0s 17ms/step\n",
      "1/1 [==============================] - 0s 16ms/step\n",
      "1/1 [==============================] - 0s 18ms/step\n",
      "1/1 [==============================] - 0s 17ms/step\n",
      "1/1 [==============================] - 0s 20ms/step\n",
      "1/1 [==============================] - 0s 18ms/step\n",
      "1/1 [==============================] - 0s 17ms/step\n",
      "1/1 [==============================] - 0s 17ms/step\n",
      "1/1 [==============================] - 0s 16ms/step\n",
      "1/1 [==============================] - 0s 16ms/step\n",
      "1/1 [==============================] - 0s 19ms/step\n",
      "1/1 [==============================] - 0s 18ms/step\n",
      "1/1 [==============================] - 0s 17ms/step\n",
      "1/1 [==============================] - 0s 18ms/step\n",
      "1/1 [==============================] - 0s 16ms/step\n",
      "1/1 [==============================] - 0s 15ms/step\n",
      "1/1 [==============================] - 0s 16ms/step\n",
      "1/1 [==============================] - 0s 17ms/step\n",
      "1/1 [==============================] - 0s 15ms/step\n",
      "1/1 [==============================] - 0s 16ms/step\n",
      "1/1 [==============================] - 0s 16ms/step\n",
      "1/1 [==============================] - 0s 16ms/step\n",
      "1/1 [==============================] - 0s 20ms/step\n",
      "1/1 [==============================] - 0s 16ms/step\n",
      "1/1 [==============================] - 0s 15ms/step\n",
      "1/1 [==============================] - 0s 16ms/step\n",
      "1/1 [==============================] - 0s 17ms/step\n",
      "1/1 [==============================] - 0s 15ms/step\n",
      "1/1 [==============================] - 0s 15ms/step\n",
      "1/1 [==============================] - 0s 16ms/step\n",
      "1/1 [==============================] - 0s 16ms/step\n",
      "1/1 [==============================] - 0s 17ms/step\n",
      "1/1 [==============================] - 0s 16ms/step\n",
      "1/1 [==============================] - 0s 16ms/step\n",
      "1/1 [==============================] - 0s 15ms/step\n",
      "1/1 [==============================] - 0s 19ms/step\n",
      "1/1 [==============================] - 0s 16ms/step\n",
      "1/1 [==============================] - 0s 19ms/step\n"
     ]
    }
   ],
   "source": [
    "# generar predicciones e incerteza de ensamble\n",
    "predictions = np.array([y_scaler.inverse_transform(model.predict(formatted_x_obs)) for model in models])\n",
    "ensemble_prediction = sum([predictions[i]*weights[i] for i in range(len(models))])\n",
    "uncertainty = sum([(predictions[i]-ensemble_prediction)**2*weights[i] for i in range(len(models))])**(1/2)"
   ]
  },
  {
   "cell_type": "code",
   "execution_count": 116,
   "metadata": {},
   "outputs": [
    {
     "data": {
      "image/png": "[encoded data removed]",
      "text/plain": [
       "<Figure size 1500x400 with 3 Axes>"
      ]
     },
     "metadata": {},
     "output_type": "display_data"
    }
   ],
   "source": [
    "fig, axes = plt.subplots(nrows=1, ncols=3, figsize=(15,4))\n",
    "\n",
    "for i, featureName in enumerate(target):\n",
    "\tx, y, kde = SKL_density_plot(ensemble_prediction[:,i], axes[i], low_bound=Y.iloc[:,i].min(),up_bound=Y.iloc[:,i].max(), color = 'green',label='Ensemble')\n",
    "\tx, y, kde = SKL_density_plot(y_scaler.inverse_transform(y_obs)[:,i], axes[i], low_bound=Y.iloc[:,i].min(),up_bound=Y.iloc[:,i].max(), color='red',label='Observed')\n",
    "\tmeasure = ['Temperature','log g', 'v sini']\n",
    "\tmeasure_unit = ['[K]', '[u]', '[km/s]']\n",
    "\taxes[i].set_xlabel(measure_unit[i])\n",
    "\taxes[i].set_ylabel('Densidad')\n",
    "\taxes[i].set_title('FDP '+measure[i]+', bw= '+str(kde.bandwidth_))\n",
    "\taxes[i].legend()\n",
    "\n",
    "plt.legend()\n",
    "plt.tight_layout();\n",
    "plt.show()"
   ]
  },
  {
   "cell_type": "code",
   "execution_count": 117,
   "metadata": {},
   "outputs": [
    {
     "data": {
      "text/html": [
       "<div>\n",
       "<style scoped>\n",
       "    .dataframe tbody tr th:only-of-type {\n",
       "        vertical-align: middle;\n",
       "    }\n",
       "\n",
       "    .dataframe tbody tr th {\n",
       "        vertical-align: top;\n",
       "    }\n",
       "\n",
       "    .dataframe thead th {\n",
       "        text-align: right;\n",
       "    }\n",
       "</style>\n",
       "<table border=\"1\" class=\"dataframe\">\n",
       "  <thead>\n",
       "    <tr style=\"text-align: right;\">\n",
       "      <th></th>\n",
       "      <th>Temp</th>\n",
       "      <th>Temp_pred</th>\n",
       "      <th>Temp_Variance</th>\n",
       "      <th>log_g</th>\n",
       "      <th>log_g_pred</th>\n",
       "      <th>log_g_Variance</th>\n",
       "      <th>v</th>\n",
       "      <th>v_pred</th>\n",
       "      <th>v_Rel_Variance</th>\n",
       "    </tr>\n",
       "  </thead>\n",
       "  <tbody>\n",
       "    <tr>\n",
       "      <th>0</th>\n",
       "      <td>15000.0</td>\n",
       "      <td>14082.674805</td>\n",
       "      <td>958.765503</td>\n",
       "      <td>3.40</td>\n",
       "      <td>3.270938</td>\n",
       "      <td>0.145557</td>\n",
       "      <td>68.0</td>\n",
       "      <td>140.602127</td>\n",
       "      <td>8.225054</td>\n",
       "    </tr>\n",
       "    <tr>\n",
       "      <th>1</th>\n",
       "      <td>18400.0</td>\n",
       "      <td>20198.505859</td>\n",
       "      <td>1875.074219</td>\n",
       "      <td>3.50</td>\n",
       "      <td>4.444441</td>\n",
       "      <td>0.176287</td>\n",
       "      <td>40.0</td>\n",
       "      <td>98.759895</td>\n",
       "      <td>11.963840</td>\n",
       "    </tr>\n",
       "    <tr>\n",
       "      <th>2</th>\n",
       "      <td>30000.0</td>\n",
       "      <td>19149.130859</td>\n",
       "      <td>581.222656</td>\n",
       "      <td>3.53</td>\n",
       "      <td>3.027949</td>\n",
       "      <td>0.170520</td>\n",
       "      <td>150.0</td>\n",
       "      <td>178.203674</td>\n",
       "      <td>18.510866</td>\n",
       "    </tr>\n",
       "    <tr>\n",
       "      <th>3</th>\n",
       "      <td>22000.0</td>\n",
       "      <td>23732.046875</td>\n",
       "      <td>893.269043</td>\n",
       "      <td>3.90</td>\n",
       "      <td>4.266267</td>\n",
       "      <td>0.140805</td>\n",
       "      <td>280.0</td>\n",
       "      <td>338.343475</td>\n",
       "      <td>29.659458</td>\n",
       "    </tr>\n",
       "    <tr>\n",
       "      <th>4</th>\n",
       "      <td>24500.0</td>\n",
       "      <td>21821.794922</td>\n",
       "      <td>740.404541</td>\n",
       "      <td>3.40</td>\n",
       "      <td>3.322892</td>\n",
       "      <td>0.182325</td>\n",
       "      <td>215.0</td>\n",
       "      <td>210.532333</td>\n",
       "      <td>17.044737</td>\n",
       "    </tr>\n",
       "    <tr>\n",
       "      <th>5</th>\n",
       "      <td>22000.0</td>\n",
       "      <td>12677.030273</td>\n",
       "      <td>704.862061</td>\n",
       "      <td>3.50</td>\n",
       "      <td>3.310708</td>\n",
       "      <td>0.090783</td>\n",
       "      <td>180.0</td>\n",
       "      <td>216.162933</td>\n",
       "      <td>8.792626</td>\n",
       "    </tr>\n",
       "    <tr>\n",
       "      <th>6</th>\n",
       "      <td>20000.0</td>\n",
       "      <td>19041.343750</td>\n",
       "      <td>816.597412</td>\n",
       "      <td>3.56</td>\n",
       "      <td>3.324661</td>\n",
       "      <td>0.090069</td>\n",
       "      <td>10.0</td>\n",
       "      <td>86.714699</td>\n",
       "      <td>12.497373</td>\n",
       "    </tr>\n",
       "    <tr>\n",
       "      <th>7</th>\n",
       "      <td>18000.0</td>\n",
       "      <td>15691.710938</td>\n",
       "      <td>539.241516</td>\n",
       "      <td>3.53</td>\n",
       "      <td>3.607934</td>\n",
       "      <td>0.116446</td>\n",
       "      <td>250.0</td>\n",
       "      <td>206.754608</td>\n",
       "      <td>7.073198</td>\n",
       "    </tr>\n",
       "    <tr>\n",
       "      <th>8</th>\n",
       "      <td>26000.0</td>\n",
       "      <td>19445.685547</td>\n",
       "      <td>1180.118042</td>\n",
       "      <td>2.90</td>\n",
       "      <td>2.569084</td>\n",
       "      <td>0.105129</td>\n",
       "      <td>300.0</td>\n",
       "      <td>321.698334</td>\n",
       "      <td>10.475869</td>\n",
       "    </tr>\n",
       "  </tbody>\n",
       "</table>\n",
       "</div>"
      ],
      "text/plain": [
       "      Temp     Temp_pred  Temp_Variance  log_g  log_g_pred  log_g_Variance  \\\n",
       "0  15000.0  14082.674805     958.765503   3.40    3.270938        0.145557   \n",
       "1  18400.0  20198.505859    1875.074219   3.50    4.444441        0.176287   \n",
       "2  30000.0  19149.130859     581.222656   3.53    3.027949        0.170520   \n",
       "3  22000.0  23732.046875     893.269043   3.90    4.266267        0.140805   \n",
       "4  24500.0  21821.794922     740.404541   3.40    3.322892        0.182325   \n",
       "5  22000.0  12677.030273     704.862061   3.50    3.310708        0.090783   \n",
       "6  20000.0  19041.343750     816.597412   3.56    3.324661        0.090069   \n",
       "7  18000.0  15691.710938     539.241516   3.53    3.607934        0.116446   \n",
       "8  26000.0  19445.685547    1180.118042   2.90    2.569084        0.105129   \n",
       "\n",
       "       v      v_pred  v_Rel_Variance  \n",
       "0   68.0  140.602127        8.225054  \n",
       "1   40.0   98.759895       11.963840  \n",
       "2  150.0  178.203674       18.510866  \n",
       "3  280.0  338.343475       29.659458  \n",
       "4  215.0  210.532333       17.044737  \n",
       "5  180.0  216.162933        8.792626  \n",
       "6   10.0   86.714699       12.497373  \n",
       "7  250.0  206.754608        7.073198  \n",
       "8  300.0  321.698334       10.475869  "
      ]
     },
     "execution_count": 117,
     "metadata": {},
     "output_type": "execute_result"
    }
   ],
   "source": [
    "# dataframe comparativo de datos observados\n",
    "inverse_y_obs = y_scaler.inverse_transform(y_obs)\n",
    "results = pd.DataFrame({\n",
    "  'Temp':inverse_y_obs[:,0],'Temp_pred':ensemble_prediction[:,0],'Temp_Variance':uncertainty[:,0],\n",
    "  'log_g':inverse_y_obs[:,1],'log_g_pred':ensemble_prediction[:,1],'log_g_Variance':uncertainty[:,1],\n",
    "  'v':inverse_y_obs[:,2],'v_pred':ensemble_prediction[:,2],'v_Rel_Variance':uncertainty[:,2]\n",
    "                    })\n",
    "results.head(10)"
   ]
  },
  {
   "cell_type": "code",
   "execution_count": 118,
   "metadata": {},
   "outputs": [],
   "source": [
    "# TODO revisar drive con datos de estrellas pucheros\n",
    "# TODO hacer tabla comparativa con valores predichos y comparar con tabla del paper\n",
    "# TODO revisar parametros para probar con autokeras\n",
    "# TODO corregir graficos, intervalo de confianza(25%) + distribuciones puntuales, intervalo de confianza 95% sin distribuciones puntuales\n",
    "# TODO scatter de valor observado/testing vs prediccion 3 graficos\n",
    "# TODO corregir en vez de varianza, std dev"
   ]
  }
 ],
 "metadata": {
  "kernelspec": {
   "display_name": "memoria",
   "language": "python",
   "name": "memoria"
  },
  "language_info": {
   "codemirror_mode": {
    "name": "ipython",
    "version": 3
   },
   "file_extension": ".py",
   "mimetype": "text/x-python",
   "name": "python",
   "nbconvert_exporter": "python",
   "pygments_lexer": "ipython3",
   "version": "3.10.11"
  }
 },
 "nbformat": 4,
 "nbformat_minor": 2
}
